{
  "nbformat": 4,
  "nbformat_minor": 0,
  "metadata": {
    "colab": {
      "name": "8.4 Sentiment analysis VADER using multi classifiers.ipynb",
      "provenance": [],
      "collapsed_sections": [],
      "toc_visible": true
    },
    "kernelspec": {
      "display_name": "Python 3",
      "language": "python",
      "name": "python3"
    },
    "language_info": {
      "codemirror_mode": {
        "name": "ipython",
        "version": 3
      },
      "file_extension": ".py",
      "mimetype": "text/x-python",
      "name": "python",
      "nbconvert_exporter": "python",
      "pygments_lexer": "ipython3",
      "version": "3.8.5"
    }
  },
  "cells": [
    {
      "cell_type": "markdown",
      "metadata": {
        "id": "e77kouxYQpYz"
      },
      "source": [
        "### Sentiment anlayis for the Reviews Using VENDER\n",
        "\n",
        " "
      ]
    },
    {
      "cell_type": "markdown",
      "metadata": {
        "id": "SDCCKSUvQpZE"
      },
      "source": [
        "<b> Importing needed Libaries"
      ]
    },
    {
      "cell_type": "code",
      "metadata": {
        "colab": {
          "base_uri": "https://localhost:8080/"
        },
        "id": "FN0znypDQpZF",
        "outputId": "2719c7c0-d5bd-4135-bdd6-5eb7cb20c792"
      },
      "source": [
        "!pip install vaderSentiment\n",
        "import pandas as pd\n",
        "from vaderSentiment.vaderSentiment import SentimentIntensityAnalyzer"
      ],
      "execution_count": null,
      "outputs": [
        {
          "output_type": "stream",
          "text": [
            "Collecting vaderSentiment\n",
            "\u001b[?25l  Downloading https://files.pythonhosted.org/packages/76/fc/310e16254683c1ed35eeb97386986d6c00bc29df17ce280aed64d55537e9/vaderSentiment-3.3.2-py2.py3-none-any.whl (125kB)\n",
            "\r\u001b[K     |██▋                             | 10kB 17.7MB/s eta 0:00:01\r\u001b[K     |█████▏                          | 20kB 21.5MB/s eta 0:00:01\r\u001b[K     |███████▉                        | 30kB 25.6MB/s eta 0:00:01\r\u001b[K     |██████████▍                     | 40kB 24.2MB/s eta 0:00:01\r\u001b[K     |█████████████                   | 51kB 25.6MB/s eta 0:00:01\r\u001b[K     |███████████████▋                | 61kB 17.1MB/s eta 0:00:01\r\u001b[K     |██████████████████▏             | 71kB 18.6MB/s eta 0:00:01\r\u001b[K     |████████████████████▉           | 81kB 16.7MB/s eta 0:00:01\r\u001b[K     |███████████████████████▍        | 92kB 17.7MB/s eta 0:00:01\r\u001b[K     |██████████████████████████      | 102kB 18.9MB/s eta 0:00:01\r\u001b[K     |████████████████████████████▋   | 112kB 18.9MB/s eta 0:00:01\r\u001b[K     |███████████████████████████████▏| 122kB 18.9MB/s eta 0:00:01\r\u001b[K     |████████████████████████████████| 133kB 18.9MB/s \n",
            "\u001b[?25hRequirement already satisfied: requests in /usr/local/lib/python3.7/dist-packages (from vaderSentiment) (2.23.0)\n",
            "Requirement already satisfied: idna<3,>=2.5 in /usr/local/lib/python3.7/dist-packages (from requests->vaderSentiment) (2.10)\n",
            "Requirement already satisfied: chardet<4,>=3.0.2 in /usr/local/lib/python3.7/dist-packages (from requests->vaderSentiment) (3.0.4)\n",
            "Requirement already satisfied: certifi>=2017.4.17 in /usr/local/lib/python3.7/dist-packages (from requests->vaderSentiment) (2020.12.5)\n",
            "Requirement already satisfied: urllib3!=1.25.0,!=1.25.1,<1.26,>=1.21.1 in /usr/local/lib/python3.7/dist-packages (from requests->vaderSentiment) (1.24.3)\n",
            "Installing collected packages: vaderSentiment\n",
            "Successfully installed vaderSentiment-3.3.2\n"
          ],
          "name": "stdout"
        }
      ]
    },
    {
      "cell_type": "markdown",
      "metadata": {
        "id": "VL3NwR6QQpZG"
      },
      "source": [
        "<b>Creating Data Frame with the csv file"
      ]
    },
    {
      "cell_type": "code",
      "metadata": {
        "colab": {
          "base_uri": "https://localhost:8080/",
          "height": 496
        },
        "id": "5DH20rG4QpZH",
        "outputId": "6922f982-c4fe-45cf-b503-88e53f16e3ae"
      },
      "source": [
        "filePath = '/content/amazon_review_updated_label.txt'\n",
        "df = pd.read_csv(filePath, delimiter='\\t')\n",
        "df.head()"
      ],
      "execution_count": null,
      "outputs": [
        {
          "output_type": "execute_result",
          "data": {
            "text/html": [
              "<div>\n",
              "<style scoped>\n",
              "    .dataframe tbody tr th:only-of-type {\n",
              "        vertical-align: middle;\n",
              "    }\n",
              "\n",
              "    .dataframe tbody tr th {\n",
              "        vertical-align: top;\n",
              "    }\n",
              "\n",
              "    .dataframe thead th {\n",
              "        text-align: right;\n",
              "    }\n",
              "</style>\n",
              "<table border=\"1\" class=\"dataframe\">\n",
              "  <thead>\n",
              "    <tr style=\"text-align: right;\">\n",
              "      <th></th>\n",
              "      <th>DOC_ID</th>\n",
              "      <th>LABEL</th>\n",
              "      <th>RATING</th>\n",
              "      <th>VERIFIED_PURCHASE</th>\n",
              "      <th>PRODUCT_CATEGORY</th>\n",
              "      <th>PRODUCT_ID</th>\n",
              "      <th>PRODUCT_TITLE</th>\n",
              "      <th>REVIEW_TITLE</th>\n",
              "      <th>REVIEW_TEXT</th>\n",
              "    </tr>\n",
              "  </thead>\n",
              "  <tbody>\n",
              "    <tr>\n",
              "      <th>0</th>\n",
              "      <td>1</td>\n",
              "      <td>Fake</td>\n",
              "      <td>4</td>\n",
              "      <td>N</td>\n",
              "      <td>PC</td>\n",
              "      <td>B00008NG7N</td>\n",
              "      <td>Targus PAUK10U Ultra Mini USB Keypad, Black</td>\n",
              "      <td>useful</td>\n",
              "      <td>When least you think so, this product will sav...</td>\n",
              "    </tr>\n",
              "    <tr>\n",
              "      <th>1</th>\n",
              "      <td>2</td>\n",
              "      <td>Fake</td>\n",
              "      <td>4</td>\n",
              "      <td>Y</td>\n",
              "      <td>Wireless</td>\n",
              "      <td>B00LH0Y3NM</td>\n",
              "      <td>Note 3 Battery : Stalion Strength Replacement ...</td>\n",
              "      <td>New era for batteries</td>\n",
              "      <td>Lithium batteries are something new introduced...</td>\n",
              "    </tr>\n",
              "    <tr>\n",
              "      <th>2</th>\n",
              "      <td>3</td>\n",
              "      <td>Fake</td>\n",
              "      <td>3</td>\n",
              "      <td>N</td>\n",
              "      <td>Baby</td>\n",
              "      <td>B000I5UZ1Q</td>\n",
              "      <td>Fisher-Price Papasan Cradle Swing, Starlight</td>\n",
              "      <td>doesn't swing very well.</td>\n",
              "      <td>I purchased this swing for my baby. She is 6 m...</td>\n",
              "    </tr>\n",
              "    <tr>\n",
              "      <th>3</th>\n",
              "      <td>4</td>\n",
              "      <td>Fake</td>\n",
              "      <td>4</td>\n",
              "      <td>N</td>\n",
              "      <td>Office Products</td>\n",
              "      <td>B003822IRA</td>\n",
              "      <td>Casio MS-80B Standard Function Desktop Calculator</td>\n",
              "      <td>Great computing!</td>\n",
              "      <td>I was looking for an inexpensive desk calcolat...</td>\n",
              "    </tr>\n",
              "    <tr>\n",
              "      <th>4</th>\n",
              "      <td>5</td>\n",
              "      <td>Fake</td>\n",
              "      <td>4</td>\n",
              "      <td>N</td>\n",
              "      <td>Beauty</td>\n",
              "      <td>B00PWSAXAM</td>\n",
              "      <td>Shine Whitening - Zero Peroxide Teeth Whitenin...</td>\n",
              "      <td>Only use twice a week</td>\n",
              "      <td>I only use it twice a week and the results are...</td>\n",
              "    </tr>\n",
              "  </tbody>\n",
              "</table>\n",
              "</div>"
            ],
            "text/plain": [
              "   DOC_ID  ...                                        REVIEW_TEXT\n",
              "0       1  ...  When least you think so, this product will sav...\n",
              "1       2  ...  Lithium batteries are something new introduced...\n",
              "2       3  ...  I purchased this swing for my baby. She is 6 m...\n",
              "3       4  ...  I was looking for an inexpensive desk calcolat...\n",
              "4       5  ...  I only use it twice a week and the results are...\n",
              "\n",
              "[5 rows x 9 columns]"
            ]
          },
          "metadata": {
            "tags": []
          },
          "execution_count": 3
        }
      ]
    },
    {
      "cell_type": "markdown",
      "metadata": {
        "id": "H9WQ7e5xQpZJ"
      },
      "source": [
        "<b>Using VADER to analayze the sentiment of the reviews\n"
      ]
    },
    {
      "cell_type": "code",
      "metadata": {
        "colab": {
          "base_uri": "https://localhost:8080/",
          "height": 419
        },
        "id": "PCbLYVWMQpZJ",
        "outputId": "830a4ea2-b3ba-454a-f896-451db6a9e852"
      },
      "source": [
        "df = df.drop(['LABEL','DOC_ID', 'RATING', 'VERIFIED_PURCHASE', 'PRODUCT_CATEGORY', 'PRODUCT_ID', 'PRODUCT_TITLE', 'REVIEW_TITLE'], axis=\"columns\")\n",
        "df"
      ],
      "execution_count": null,
      "outputs": [
        {
          "output_type": "execute_result",
          "data": {
            "text/html": [
              "<div>\n",
              "<style scoped>\n",
              "    .dataframe tbody tr th:only-of-type {\n",
              "        vertical-align: middle;\n",
              "    }\n",
              "\n",
              "    .dataframe tbody tr th {\n",
              "        vertical-align: top;\n",
              "    }\n",
              "\n",
              "    .dataframe thead th {\n",
              "        text-align: right;\n",
              "    }\n",
              "</style>\n",
              "<table border=\"1\" class=\"dataframe\">\n",
              "  <thead>\n",
              "    <tr style=\"text-align: right;\">\n",
              "      <th></th>\n",
              "      <th>LABEL</th>\n",
              "      <th>REVIEW_TEXT</th>\n",
              "    </tr>\n",
              "  </thead>\n",
              "  <tbody>\n",
              "    <tr>\n",
              "      <th>0</th>\n",
              "      <td>Fake</td>\n",
              "      <td>When least you think so, this product will sav...</td>\n",
              "    </tr>\n",
              "    <tr>\n",
              "      <th>1</th>\n",
              "      <td>Fake</td>\n",
              "      <td>Lithium batteries are something new introduced...</td>\n",
              "    </tr>\n",
              "    <tr>\n",
              "      <th>2</th>\n",
              "      <td>Fake</td>\n",
              "      <td>I purchased this swing for my baby. She is 6 m...</td>\n",
              "    </tr>\n",
              "    <tr>\n",
              "      <th>3</th>\n",
              "      <td>Fake</td>\n",
              "      <td>I was looking for an inexpensive desk calcolat...</td>\n",
              "    </tr>\n",
              "    <tr>\n",
              "      <th>4</th>\n",
              "      <td>Fake</td>\n",
              "      <td>I only use it twice a week and the results are...</td>\n",
              "    </tr>\n",
              "    <tr>\n",
              "      <th>...</th>\n",
              "      <td>...</td>\n",
              "      <td>...</td>\n",
              "    </tr>\n",
              "    <tr>\n",
              "      <th>20995</th>\n",
              "      <td>Real</td>\n",
              "      <td>I bought these for work.  I have high arches, ...</td>\n",
              "    </tr>\n",
              "    <tr>\n",
              "      <th>20996</th>\n",
              "      <td>Real</td>\n",
              "      <td>Crocs are one of only two brands of shoes that...</td>\n",
              "    </tr>\n",
              "    <tr>\n",
              "      <th>20997</th>\n",
              "      <td>Real</td>\n",
              "      <td>I love moccasins  This fit like it was custom ...</td>\n",
              "    </tr>\n",
              "    <tr>\n",
              "      <th>20998</th>\n",
              "      <td>Real</td>\n",
              "      <td>I wish these were a little more durable. I got...</td>\n",
              "    </tr>\n",
              "    <tr>\n",
              "      <th>20999</th>\n",
              "      <td>Real</td>\n",
              "      <td>I've been looking for a replacement for my bel...</td>\n",
              "    </tr>\n",
              "  </tbody>\n",
              "</table>\n",
              "<p>21000 rows × 2 columns</p>\n",
              "</div>"
            ],
            "text/plain": [
              "      LABEL                                        REVIEW_TEXT\n",
              "0      Fake  When least you think so, this product will sav...\n",
              "1      Fake  Lithium batteries are something new introduced...\n",
              "2      Fake  I purchased this swing for my baby. She is 6 m...\n",
              "3      Fake  I was looking for an inexpensive desk calcolat...\n",
              "4      Fake  I only use it twice a week and the results are...\n",
              "...     ...                                                ...\n",
              "20995  Real  I bought these for work.  I have high arches, ...\n",
              "20996  Real  Crocs are one of only two brands of shoes that...\n",
              "20997  Real  I love moccasins  This fit like it was custom ...\n",
              "20998  Real  I wish these were a little more durable. I got...\n",
              "20999  Real  I've been looking for a replacement for my bel...\n",
              "\n",
              "[21000 rows x 2 columns]"
            ]
          },
          "metadata": {
            "tags": []
          },
          "execution_count": 4
        }
      ]
    },
    {
      "cell_type": "code",
      "metadata": {
        "colab": {
          "base_uri": "https://localhost:8080/",
          "height": 419
        },
        "id": "KTC8Lhg7TdLu",
        "outputId": "cad238d5-ca52-4780-b334-76f572cc44e8"
      },
      "source": [
        "df = df.drop([''], axis=\"columns\")\n",
        "df"
      ],
      "execution_count": null,
      "outputs": [
        {
          "output_type": "execute_result",
          "data": {
            "text/html": [
              "<div>\n",
              "<style scoped>\n",
              "    .dataframe tbody tr th:only-of-type {\n",
              "        vertical-align: middle;\n",
              "    }\n",
              "\n",
              "    .dataframe tbody tr th {\n",
              "        vertical-align: top;\n",
              "    }\n",
              "\n",
              "    .dataframe thead th {\n",
              "        text-align: right;\n",
              "    }\n",
              "</style>\n",
              "<table border=\"1\" class=\"dataframe\">\n",
              "  <thead>\n",
              "    <tr style=\"text-align: right;\">\n",
              "      <th></th>\n",
              "      <th>REVIEW_TEXT</th>\n",
              "    </tr>\n",
              "  </thead>\n",
              "  <tbody>\n",
              "    <tr>\n",
              "      <th>0</th>\n",
              "      <td>When least you think so, this product will sav...</td>\n",
              "    </tr>\n",
              "    <tr>\n",
              "      <th>1</th>\n",
              "      <td>Lithium batteries are something new introduced...</td>\n",
              "    </tr>\n",
              "    <tr>\n",
              "      <th>2</th>\n",
              "      <td>I purchased this swing for my baby. She is 6 m...</td>\n",
              "    </tr>\n",
              "    <tr>\n",
              "      <th>3</th>\n",
              "      <td>I was looking for an inexpensive desk calcolat...</td>\n",
              "    </tr>\n",
              "    <tr>\n",
              "      <th>4</th>\n",
              "      <td>I only use it twice a week and the results are...</td>\n",
              "    </tr>\n",
              "    <tr>\n",
              "      <th>...</th>\n",
              "      <td>...</td>\n",
              "    </tr>\n",
              "    <tr>\n",
              "      <th>20995</th>\n",
              "      <td>I bought these for work.  I have high arches, ...</td>\n",
              "    </tr>\n",
              "    <tr>\n",
              "      <th>20996</th>\n",
              "      <td>Crocs are one of only two brands of shoes that...</td>\n",
              "    </tr>\n",
              "    <tr>\n",
              "      <th>20997</th>\n",
              "      <td>I love moccasins  This fit like it was custom ...</td>\n",
              "    </tr>\n",
              "    <tr>\n",
              "      <th>20998</th>\n",
              "      <td>I wish these were a little more durable. I got...</td>\n",
              "    </tr>\n",
              "    <tr>\n",
              "      <th>20999</th>\n",
              "      <td>I've been looking for a replacement for my bel...</td>\n",
              "    </tr>\n",
              "  </tbody>\n",
              "</table>\n",
              "<p>21000 rows × 1 columns</p>\n",
              "</div>"
            ],
            "text/plain": [
              "                                             REVIEW_TEXT\n",
              "0      When least you think so, this product will sav...\n",
              "1      Lithium batteries are something new introduced...\n",
              "2      I purchased this swing for my baby. She is 6 m...\n",
              "3      I was looking for an inexpensive desk calcolat...\n",
              "4      I only use it twice a week and the results are...\n",
              "...                                                  ...\n",
              "20995  I bought these for work.  I have high arches, ...\n",
              "20996  Crocs are one of only two brands of shoes that...\n",
              "20997  I love moccasins  This fit like it was custom ...\n",
              "20998  I wish these were a little more durable. I got...\n",
              "20999  I've been looking for a replacement for my bel...\n",
              "\n",
              "[21000 rows x 1 columns]"
            ]
          },
          "metadata": {
            "tags": []
          },
          "execution_count": 5
        }
      ]
    },
    {
      "cell_type": "code",
      "metadata": {
        "id": "4Re_t_reQpZK"
      },
      "source": [
        "# Getting a compound score\n",
        "def sentimental_compound(sentence):\n",
        "    analyzer = SentimentIntensityAnalyzer()\n",
        "    df_sentiment = analyzer.polarity_scores(sentence)\n",
        "    score = df_sentiment['compound']\n",
        "    return score\n",
        "\n",
        "# VADER predicting Positive negative\n",
        "def sentimental_score(sentence):\n",
        "    analyzer = SentimentIntensityAnalyzer()\n",
        "    df_sentiment = analyzer.polarity_scores(sentence)\n",
        "    score = df_sentiment['compound']\n",
        "    if score >= 0.5:\n",
        "        return 'pos'\n",
        "    elif (score > -0.5) and (score < 0.5) :\n",
        "        return 'neu'\n",
        "    elif score <= -0.5:\n",
        "        return 'neg'\n",
        "    "
      ],
      "execution_count": null,
      "outputs": []
    },
    {
      "cell_type": "markdown",
      "metadata": {
        "id": "jQY67YIuQpZN"
      },
      "source": [
        "### Importing SVM classification"
      ]
    },
    {
      "cell_type": "code",
      "metadata": {
        "id": "OTqNgc5ZQpZO"
      },
      "source": [
        "#!pip3 install sklearn\n",
        "from sklearn.feature_extraction.text import TfidfVectorizer\n",
        "from sklearn.svm import LinearSVC\n",
        "from sklearn.pipeline import Pipeline"
      ],
      "execution_count": null,
      "outputs": []
    },
    {
      "cell_type": "code",
      "metadata": {
        "id": "HGm-eE2BQpZO"
      },
      "source": [
        "# # selecting 1000 rows to avoid crashing the browser\n",
        "# df_selected_rows = df.head(1000)\n",
        "# #df.insert(1, \"lab\",0)\n",
        "# df_selected_rows\n"
      ],
      "execution_count": null,
      "outputs": []
    },
    {
      "cell_type": "code",
      "metadata": {
        "colab": {
          "base_uri": "https://localhost:8080/",
          "height": 204
        },
        "id": "guVx_lpCQpZP",
        "outputId": "5c887f95-1f70-4235-a8be-f5bb4078c028"
      },
      "source": [
        "# adding sentiment scores for each reviews\n",
        "df['compound']=df['REVIEW_TEXT'].apply(lambda x: sentimental_score(x))\n",
        "df.head()\n"
      ],
      "execution_count": null,
      "outputs": [
        {
          "output_type": "execute_result",
          "data": {
            "text/html": [
              "<div>\n",
              "<style scoped>\n",
              "    .dataframe tbody tr th:only-of-type {\n",
              "        vertical-align: middle;\n",
              "    }\n",
              "\n",
              "    .dataframe tbody tr th {\n",
              "        vertical-align: top;\n",
              "    }\n",
              "\n",
              "    .dataframe thead th {\n",
              "        text-align: right;\n",
              "    }\n",
              "</style>\n",
              "<table border=\"1\" class=\"dataframe\">\n",
              "  <thead>\n",
              "    <tr style=\"text-align: right;\">\n",
              "      <th></th>\n",
              "      <th>REVIEW_TEXT</th>\n",
              "      <th>compound</th>\n",
              "    </tr>\n",
              "  </thead>\n",
              "  <tbody>\n",
              "    <tr>\n",
              "      <th>0</th>\n",
              "      <td>When least you think so, this product will sav...</td>\n",
              "      <td>neu</td>\n",
              "    </tr>\n",
              "    <tr>\n",
              "      <th>1</th>\n",
              "      <td>Lithium batteries are something new introduced...</td>\n",
              "      <td>pos</td>\n",
              "    </tr>\n",
              "    <tr>\n",
              "      <th>2</th>\n",
              "      <td>I purchased this swing for my baby. She is 6 m...</td>\n",
              "      <td>pos</td>\n",
              "    </tr>\n",
              "    <tr>\n",
              "      <th>3</th>\n",
              "      <td>I was looking for an inexpensive desk calcolat...</td>\n",
              "      <td>neu</td>\n",
              "    </tr>\n",
              "    <tr>\n",
              "      <th>4</th>\n",
              "      <td>I only use it twice a week and the results are...</td>\n",
              "      <td>pos</td>\n",
              "    </tr>\n",
              "  </tbody>\n",
              "</table>\n",
              "</div>"
            ],
            "text/plain": [
              "                                         REVIEW_TEXT compound\n",
              "0  When least you think so, this product will sav...      neu\n",
              "1  Lithium batteries are something new introduced...      pos\n",
              "2  I purchased this swing for my baby. She is 6 m...      pos\n",
              "3  I was looking for an inexpensive desk calcolat...      neu\n",
              "4  I only use it twice a week and the results are...      pos"
            ]
          },
          "metadata": {
            "tags": []
          },
          "execution_count": 8
        }
      ]
    },
    {
      "cell_type": "code",
      "metadata": {
        "colab": {
          "base_uri": "https://localhost:8080/",
          "height": 419
        },
        "id": "dZP8ngUhTPjV",
        "outputId": "78f9304d-8a09-4888-f191-288ae4d1e7a9"
      },
      "source": [
        "df"
      ],
      "execution_count": null,
      "outputs": [
        {
          "output_type": "execute_result",
          "data": {
            "text/html": [
              "<div>\n",
              "<style scoped>\n",
              "    .dataframe tbody tr th:only-of-type {\n",
              "        vertical-align: middle;\n",
              "    }\n",
              "\n",
              "    .dataframe tbody tr th {\n",
              "        vertical-align: top;\n",
              "    }\n",
              "\n",
              "    .dataframe thead th {\n",
              "        text-align: right;\n",
              "    }\n",
              "</style>\n",
              "<table border=\"1\" class=\"dataframe\">\n",
              "  <thead>\n",
              "    <tr style=\"text-align: right;\">\n",
              "      <th></th>\n",
              "      <th>REVIEW_TEXT</th>\n",
              "      <th>compound</th>\n",
              "    </tr>\n",
              "  </thead>\n",
              "  <tbody>\n",
              "    <tr>\n",
              "      <th>0</th>\n",
              "      <td>When least you think so, this product will sav...</td>\n",
              "      <td>neu</td>\n",
              "    </tr>\n",
              "    <tr>\n",
              "      <th>1</th>\n",
              "      <td>Lithium batteries are something new introduced...</td>\n",
              "      <td>pos</td>\n",
              "    </tr>\n",
              "    <tr>\n",
              "      <th>2</th>\n",
              "      <td>I purchased this swing for my baby. She is 6 m...</td>\n",
              "      <td>pos</td>\n",
              "    </tr>\n",
              "    <tr>\n",
              "      <th>3</th>\n",
              "      <td>I was looking for an inexpensive desk calcolat...</td>\n",
              "      <td>neu</td>\n",
              "    </tr>\n",
              "    <tr>\n",
              "      <th>4</th>\n",
              "      <td>I only use it twice a week and the results are...</td>\n",
              "      <td>pos</td>\n",
              "    </tr>\n",
              "    <tr>\n",
              "      <th>...</th>\n",
              "      <td>...</td>\n",
              "      <td>...</td>\n",
              "    </tr>\n",
              "    <tr>\n",
              "      <th>20995</th>\n",
              "      <td>I bought these for work.  I have high arches, ...</td>\n",
              "      <td>neu</td>\n",
              "    </tr>\n",
              "    <tr>\n",
              "      <th>20996</th>\n",
              "      <td>Crocs are one of only two brands of shoes that...</td>\n",
              "      <td>pos</td>\n",
              "    </tr>\n",
              "    <tr>\n",
              "      <th>20997</th>\n",
              "      <td>I love moccasins  This fit like it was custom ...</td>\n",
              "      <td>pos</td>\n",
              "    </tr>\n",
              "    <tr>\n",
              "      <th>20998</th>\n",
              "      <td>I wish these were a little more durable. I got...</td>\n",
              "      <td>pos</td>\n",
              "    </tr>\n",
              "    <tr>\n",
              "      <th>20999</th>\n",
              "      <td>I've been looking for a replacement for my bel...</td>\n",
              "      <td>pos</td>\n",
              "    </tr>\n",
              "  </tbody>\n",
              "</table>\n",
              "<p>21000 rows × 2 columns</p>\n",
              "</div>"
            ],
            "text/plain": [
              "                                             REVIEW_TEXT compound\n",
              "0      When least you think so, this product will sav...      neu\n",
              "1      Lithium batteries are something new introduced...      pos\n",
              "2      I purchased this swing for my baby. She is 6 m...      pos\n",
              "3      I was looking for an inexpensive desk calcolat...      neu\n",
              "4      I only use it twice a week and the results are...      pos\n",
              "...                                                  ...      ...\n",
              "20995  I bought these for work.  I have high arches, ...      neu\n",
              "20996  Crocs are one of only two brands of shoes that...      pos\n",
              "20997  I love moccasins  This fit like it was custom ...      pos\n",
              "20998  I wish these were a little more durable. I got...      pos\n",
              "20999  I've been looking for a replacement for my bel...      pos\n",
              "\n",
              "[21000 rows x 2 columns]"
            ]
          },
          "metadata": {
            "tags": []
          },
          "execution_count": 10
        }
      ]
    },
    {
      "cell_type": "code",
      "metadata": {
        "id": "-C_bqk-xQpZQ"
      },
      "source": [
        "# Using SVM classifier on the train set\n",
        "from sklearn.svm import LinearSVC\n",
        "#classifer = LinearSVC(max_iter=df.shape[0])\n"
      ],
      "execution_count": null,
      "outputs": []
    },
    {
      "cell_type": "code",
      "metadata": {
        "id": "xITt2ALoQpZR"
      },
      "source": [
        "tfidf_lr_pipe = Pipeline([('tfidf', TfidfVectorizer(lowercase=False)), ('svm', LinearSVC(max_iter=df.shape[0]))])"
      ],
      "execution_count": null,
      "outputs": []
    },
    {
      "cell_type": "code",
      "metadata": {
        "colab": {
          "base_uri": "https://localhost:8080/",
          "height": 204
        },
        "id": "FMm5eT-iTuOP",
        "outputId": "d971bd0e-ed88-4eb0-96ea-c8665eb4baf1"
      },
      "source": [
        "df.head(5)"
      ],
      "execution_count": null,
      "outputs": [
        {
          "output_type": "execute_result",
          "data": {
            "text/html": [
              "<div>\n",
              "<style scoped>\n",
              "    .dataframe tbody tr th:only-of-type {\n",
              "        vertical-align: middle;\n",
              "    }\n",
              "\n",
              "    .dataframe tbody tr th {\n",
              "        vertical-align: top;\n",
              "    }\n",
              "\n",
              "    .dataframe thead th {\n",
              "        text-align: right;\n",
              "    }\n",
              "</style>\n",
              "<table border=\"1\" class=\"dataframe\">\n",
              "  <thead>\n",
              "    <tr style=\"text-align: right;\">\n",
              "      <th></th>\n",
              "      <th>REVIEW_TEXT</th>\n",
              "      <th>compound</th>\n",
              "    </tr>\n",
              "  </thead>\n",
              "  <tbody>\n",
              "    <tr>\n",
              "      <th>0</th>\n",
              "      <td>When least you think so, this product will sav...</td>\n",
              "      <td>neu</td>\n",
              "    </tr>\n",
              "    <tr>\n",
              "      <th>1</th>\n",
              "      <td>Lithium batteries are something new introduced...</td>\n",
              "      <td>pos</td>\n",
              "    </tr>\n",
              "    <tr>\n",
              "      <th>2</th>\n",
              "      <td>I purchased this swing for my baby. She is 6 m...</td>\n",
              "      <td>pos</td>\n",
              "    </tr>\n",
              "    <tr>\n",
              "      <th>3</th>\n",
              "      <td>I was looking for an inexpensive desk calcolat...</td>\n",
              "      <td>neu</td>\n",
              "    </tr>\n",
              "    <tr>\n",
              "      <th>4</th>\n",
              "      <td>I only use it twice a week and the results are...</td>\n",
              "      <td>pos</td>\n",
              "    </tr>\n",
              "  </tbody>\n",
              "</table>\n",
              "</div>"
            ],
            "text/plain": [
              "                                         REVIEW_TEXT compound\n",
              "0  When least you think so, this product will sav...      neu\n",
              "1  Lithium batteries are something new introduced...      pos\n",
              "2  I purchased this swing for my baby. She is 6 m...      pos\n",
              "3  I was looking for an inexpensive desk calcolat...      neu\n",
              "4  I only use it twice a week and the results are...      pos"
            ]
          },
          "metadata": {
            "tags": []
          },
          "execution_count": 14
        }
      ]
    },
    {
      "cell_type": "code",
      "metadata": {
        "id": "k6qG27ObQpZS"
      },
      "source": [
        "df['REVIEW_TEXT']=df['REVIEW_TEXT'].apply(str)\n",
        "df['compound']=df['compound'].apply(str)"
      ],
      "execution_count": null,
      "outputs": []
    },
    {
      "cell_type": "code",
      "metadata": {
        "colab": {
          "base_uri": "https://localhost:8080/",
          "height": 204
        },
        "id": "K8GgvekxTs4x",
        "outputId": "7fe8a6a8-0c4f-455d-f3e1-c708dd338de2"
      },
      "source": [
        "df.head(5)"
      ],
      "execution_count": null,
      "outputs": [
        {
          "output_type": "execute_result",
          "data": {
            "text/html": [
              "<div>\n",
              "<style scoped>\n",
              "    .dataframe tbody tr th:only-of-type {\n",
              "        vertical-align: middle;\n",
              "    }\n",
              "\n",
              "    .dataframe tbody tr th {\n",
              "        vertical-align: top;\n",
              "    }\n",
              "\n",
              "    .dataframe thead th {\n",
              "        text-align: right;\n",
              "    }\n",
              "</style>\n",
              "<table border=\"1\" class=\"dataframe\">\n",
              "  <thead>\n",
              "    <tr style=\"text-align: right;\">\n",
              "      <th></th>\n",
              "      <th>REVIEW_TEXT</th>\n",
              "      <th>compound</th>\n",
              "    </tr>\n",
              "  </thead>\n",
              "  <tbody>\n",
              "    <tr>\n",
              "      <th>0</th>\n",
              "      <td>When least you think so, this product will sav...</td>\n",
              "      <td>neu</td>\n",
              "    </tr>\n",
              "    <tr>\n",
              "      <th>1</th>\n",
              "      <td>Lithium batteries are something new introduced...</td>\n",
              "      <td>pos</td>\n",
              "    </tr>\n",
              "    <tr>\n",
              "      <th>2</th>\n",
              "      <td>I purchased this swing for my baby. She is 6 m...</td>\n",
              "      <td>pos</td>\n",
              "    </tr>\n",
              "    <tr>\n",
              "      <th>3</th>\n",
              "      <td>I was looking for an inexpensive desk calcolat...</td>\n",
              "      <td>neu</td>\n",
              "    </tr>\n",
              "    <tr>\n",
              "      <th>4</th>\n",
              "      <td>I only use it twice a week and the results are...</td>\n",
              "      <td>pos</td>\n",
              "    </tr>\n",
              "  </tbody>\n",
              "</table>\n",
              "</div>"
            ],
            "text/plain": [
              "                                         REVIEW_TEXT compound\n",
              "0  When least you think so, this product will sav...      neu\n",
              "1  Lithium batteries are something new introduced...      pos\n",
              "2  I purchased this swing for my baby. She is 6 m...      pos\n",
              "3  I was looking for an inexpensive desk calcolat...      neu\n",
              "4  I only use it twice a week and the results are...      pos"
            ]
          },
          "metadata": {
            "tags": []
          },
          "execution_count": 16
        }
      ]
    },
    {
      "cell_type": "code",
      "metadata": {
        "id": "te8qMB5pQpZT"
      },
      "source": [
        "x = df.iloc[:,0].values\n",
        "x"
      ],
      "execution_count": null,
      "outputs": []
    },
    {
      "cell_type": "code",
      "metadata": {
        "colab": {
          "background_save": true
        },
        "id": "dgOnR3_2QpZV",
        "outputId": "2a236064-fa1e-4173-ab0f-0d01f1f4dd1d"
      },
      "source": [
        "y = df.iloc[:,1].values\n",
        "y"
      ],
      "execution_count": null,
      "outputs": [
        {
          "output_type": "execute_result",
          "data": {
            "text/plain": [
              "array(['neu', 'pos', 'pos', ..., 'pos', 'pos', 'pos'], dtype=object)"
            ]
          },
          "metadata": {
            "tags": []
          },
          "execution_count": 0
        }
      ]
    },
    {
      "cell_type": "code",
      "metadata": {
        "colab": {
          "background_save": true
        },
        "id": "935R9taUQpZX"
      },
      "source": [
        "# Splitting the train and test data (80/20)\n",
        "\n",
        "from sklearn.model_selection import train_test_split\n",
        "x_train, x_test, y_train, y_test = train_test_split(x, y, test_size = 0.2, random_state= 0)"
      ],
      "execution_count": null,
      "outputs": []
    },
    {
      "cell_type": "code",
      "metadata": {
        "id": "65uc5sC7QpZX"
      },
      "source": [
        "# Converting the reviews to a matrix of token counts (Bag of words model)\n",
        "tfidf_lr_pipe.fit(x_train, y_train)"
      ],
      "execution_count": null,
      "outputs": []
    },
    {
      "cell_type": "code",
      "metadata": {
        "id": "VEvaKO-WQpZZ"
      },
      "source": [
        "y_pred = tfidf_lr_pipe.predict(x_test)"
      ],
      "execution_count": null,
      "outputs": []
    },
    {
      "cell_type": "code",
      "metadata": {
        "id": "bT7pJ2anQpZa"
      },
      "source": [
        "predicted_df = pd.DataFrame({'predict': y_pred, 'actual': y_test})"
      ],
      "execution_count": null,
      "outputs": []
    },
    {
      "cell_type": "code",
      "metadata": {
        "id": "qQCYc9babjJE"
      },
      "source": [
        "predicted_df"
      ],
      "execution_count": null,
      "outputs": []
    },
    {
      "cell_type": "code",
      "metadata": {
        "id": "Mym2ThpJQpZb"
      },
      "source": [
        "predicted_df.head(100)"
      ],
      "execution_count": null,
      "outputs": []
    },
    {
      "cell_type": "markdown",
      "metadata": {
        "id": "B3EIYPBnbMg2"
      },
      "source": [
        "2"
      ]
    },
    {
      "cell_type": "code",
      "metadata": {
        "id": "jOqCalqFQpZc"
      },
      "source": [
        "from sklearn.metrics import classification_report\n",
        "# y_unique = y_test.unique()\n",
        "# mcm = multilabel_confusion_matrix(y_test, y_pred, labels = y_unique)"
      ],
      "execution_count": null,
      "outputs": []
    },
    {
      "cell_type": "code",
      "metadata": {
        "id": "oA94dayeQpZd"
      },
      "source": [
        "from sklearn.metrics import classification_report\n",
        "\n",
        "print('SVM results')\n",
        "#target_names = [' class 0(pos)','class 1(neutral)','class 2(neg)']\n",
        "print(classification_report(y_test, y_pred,  labels=[\"pos\", \"neu\", \"neg\"]))\n",
        "\n",
        "# Accuracy = (TP + TN) / (TP + TN + FP + FN)\n",
        "# Precision = (TP) / (TP + FP)\n",
        "# Recall = (TP) / (TP + FN)\n",
        "# F1 Score = (2 * Precision * Recall) / (Precision + Recall)"
      ],
      "execution_count": null,
      "outputs": []
    },
    {
      "cell_type": "code",
      "metadata": {
        "id": "8_Mn1JZfQpZf"
      },
      "source": [
        "# Confusion matrix to see the number of true positive, true negative, false positive and false negative\n",
        "from sklearn.metrics import multilabel_confusion_matrix\n",
        "multilabel_confusion_matrix(y_test, y_pred, labels=[\"pos\", \"neu\", \"neg\"])\n"
      ],
      "execution_count": null,
      "outputs": []
    },
    {
      "cell_type": "code",
      "metadata": {
        "id": "LLJ1T8zGQpZg"
      },
      "source": [
        "import pickle\n",
        "filename = \"/content/serialize_sentiment_model.pkl\"  \n",
        "\n",
        "with open(filename, 'wb') as file:  \n",
        "    pickle.dump(tfidf_lr_pipe, file)"
      ],
      "execution_count": null,
      "outputs": []
    }
  ]
}