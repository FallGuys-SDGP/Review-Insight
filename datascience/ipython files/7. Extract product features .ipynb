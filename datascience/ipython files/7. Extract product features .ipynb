{
 "cells": [
  {
   "cell_type": "code",
   "execution_count": null,
   "metadata": {},
   "outputs": [],
   "source": [
    "import nltk\n",
    "from nltk.tokenize import word_tokenize, sent_tokenize\n",
    "nltk.download('punkt')\n",
    "Audio_quality = [\"battery\",\"surprised\"]\n",
    "text = \"This item gets two stars instead of one because it fits your head really well and the automatic battery recharge is nice, but that's where the good points end.  These headphones force you to constantly retune your reception setting, and they don't lock on to what you've tuned it to -- they continuously try to verify that the tuning is correct, and disengage repeatedly if you are listening to something with quiet segments.  If you turn on the headphones before you start your music or show, you are treated to loud static.  These work fine if you are listenning to something consistently lively, but if you are listenning to quieter stuff or if there's a gap, you periodically get a bunch of static in your ears.  One program I listened to had such a low base sound volume that I had trouble getting a lock on it at all, and when I did, and I turned up the volume high enough so I could hear it well, it quickly disconnected and I got deafening static in my ears; these headphones could damage your hearing!  It is a sad statement about JVC that they would allow this product to be sold at all.  I wouldn't be surprised if they get slapped with a few law suits for these.\"\n",
    "sentences_with_word = []\n",
    "for sen in sent_tokenize(text):\n",
    "    l = word_tokenize(sen)\n",
    "    if len(set(l).intersection(Audio_quality))>0:\n",
    "        sentences_with_word.append(sen)"
   ]
  },
  {
   "cell_type": "code",
   "execution_count": null,
   "metadata": {},
   "outputs": [],
   "source": [
    "print(sentences_with_word)"
   ]
  }
 ],
 "metadata": {
  "kernelspec": {
   "display_name": "Python 3",
   "language": "python",
   "name": "python3"
  },
  "language_info": {
   "codemirror_mode": {
    "name": "ipython",
    "version": 3
   },
   "file_extension": ".py",
   "mimetype": "text/x-python",
   "name": "python",
   "nbconvert_exporter": "python",
   "pygments_lexer": "ipython3",
   "version": "3.8.3"
  }
 },
 "nbformat": 4,
 "nbformat_minor": 4
}
