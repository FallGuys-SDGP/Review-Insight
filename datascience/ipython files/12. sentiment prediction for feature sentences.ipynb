{
 "cells": [
  {
   "cell_type": "code",
   "execution_count": 10,
   "metadata": {},
   "outputs": [],
   "source": [
    "import pandas as pd\n",
    "import pickle\n",
    "import numpy as np\n",
    "from nltk.tokenize import sent_tokenize\n",
    "from nltk.tokenize import word_tokenize"
   ]
  },
  {
   "cell_type": "code",
   "execution_count": 11,
   "metadata": {},
   "outputs": [],
   "source": [
    "# filePath = '/content/drive/MyDrive/SDGP/Main/Data Science/Dataset/reviews_only(Sentiment)_cleaned.csv'\n",
    "filePath = '../dataset/reviews_only(Sentiment)_cleaned.csv'\n",
    "df = pd.read_csv(filePath)\n",
    "# reviewDf = df.drop(['overall', 'vote', 'verified', 'reviewerID', 'asin', 'summary', 'unixReviewTime', 'brand','title'], axis=\"columns\")"
   ]
  },
  {
   "cell_type": "code",
   "execution_count": 12,
   "metadata": {},
   "outputs": [
    {
     "data": {
      "text/html": [
       "<div>\n",
       "<style scoped>\n",
       "    .dataframe tbody tr th:only-of-type {\n",
       "        vertical-align: middle;\n",
       "    }\n",
       "\n",
       "    .dataframe tbody tr th {\n",
       "        vertical-align: top;\n",
       "    }\n",
       "\n",
       "    .dataframe thead th {\n",
       "        text-align: right;\n",
       "    }\n",
       "</style>\n",
       "<table border=\"1\" class=\"dataframe\">\n",
       "  <thead>\n",
       "    <tr style=\"text-align: right;\">\n",
       "      <th></th>\n",
       "      <th>reviewText</th>\n",
       "    </tr>\n",
       "  </thead>\n",
       "  <tbody>\n",
       "    <tr>\n",
       "      <th>0</th>\n",
       "      <td>use year basically quiet environment sound pre...</td>\n",
       "    </tr>\n",
       "    <tr>\n",
       "      <th>1</th>\n",
       "      <td>own two years wear thirty time mostly plane ri...</td>\n",
       "    </tr>\n",
       "    <tr>\n",
       "      <th>2</th>\n",
       "      <td>buy think ticket noisefree pleasant air travel...</td>\n",
       "    </tr>\n",
       "    <tr>\n",
       "      <th>3</th>\n",
       "      <td>own years use fly two round trip week wear con...</td>\n",
       "    </tr>\n",
       "    <tr>\n",
       "      <th>4</th>\n",
       "      <td>love headphone get narita airport obsess whole...</td>\n",
       "    </tr>\n",
       "    <tr>\n",
       "      <th>...</th>\n",
       "      <td>...</td>\n",
       "    </tr>\n",
       "    <tr>\n",
       "      <th>87979</th>\n",
       "      <td>please headphone overall noise cancellation be...</td>\n",
       "    </tr>\n",
       "    <tr>\n",
       "      <th>87980</th>\n",
       "      <td>good sound great noise cancellation hope barel...</td>\n",
       "    </tr>\n",
       "    <tr>\n",
       "      <th>87981</th>\n",
       "      <td>headphone great job dampen sound even noise ca...</td>\n",
       "    </tr>\n",
       "    <tr>\n",
       "      <th>87982</th>\n",
       "      <td>sound wise nice enough heavy base heavy anythi...</td>\n",
       "    </tr>\n",
       "    <tr>\n",
       "      <th>87983</th>\n",
       "      <td>work moderate noise cancel abilities cheap mak...</td>\n",
       "    </tr>\n",
       "  </tbody>\n",
       "</table>\n",
       "<p>87984 rows × 1 columns</p>\n",
       "</div>"
      ],
      "text/plain": [
       "                                              reviewText\n",
       "0      use year basically quiet environment sound pre...\n",
       "1      own two years wear thirty time mostly plane ri...\n",
       "2      buy think ticket noisefree pleasant air travel...\n",
       "3      own years use fly two round trip week wear con...\n",
       "4      love headphone get narita airport obsess whole...\n",
       "...                                                  ...\n",
       "87979  please headphone overall noise cancellation be...\n",
       "87980  good sound great noise cancellation hope barel...\n",
       "87981  headphone great job dampen sound even noise ca...\n",
       "87982  sound wise nice enough heavy base heavy anythi...\n",
       "87983  work moderate noise cancel abilities cheap mak...\n",
       "\n",
       "[87984 rows x 1 columns]"
      ]
     },
     "execution_count": 12,
     "metadata": {},
     "output_type": "execute_result"
    }
   ],
   "source": [
    "df"
   ]
  },
  {
   "cell_type": "code",
   "execution_count": 13,
   "metadata": {},
   "outputs": [],
   "source": [
    "# looping the main datadrame and tokenize each row into a array that \n",
    "# contains sentences that include the given key words\n",
    "def breakSentences(word_array):\n",
    "  sentence_all = []\n",
    "  for index, row in df.iterrows():\n",
    "    sentences_with_feature = []\n",
    "    for sen in sent_tokenize(str(row['reviewText'])):\n",
    "        l = word_tokenize(sen)\n",
    "        if len(set(l).intersection(word_array))>0:\n",
    "            sentences_with_feature.append(sen)\n",
    "    sentence_all.append(sentences_with_feature)\n",
    "  list_of_tuples = list(zip(sentence_all)) \n",
    "  df_sentences = pd.DataFrame(list_of_tuples,columns = ['reviewText'])\n",
    "  return df_sentences"
   ]
  },
  {
   "cell_type": "code",
   "execution_count": 14,
   "metadata": {},
   "outputs": [],
   "source": [
    "# tokenized sentences will be passed here and sentiment will be taken\n",
    "# for each tokenized sentences in a row \n",
    "def sentiment(sentenceArray,feature):\n",
    "  df_feature = sentenceArray\n",
    "  # df_feature.insert(1, \"lab\",0)\n",
    "  count_ng = 0\n",
    "  count_nu = 0\n",
    "  count_po = 0\n",
    "  for index, row in df_feature.iterrows():\n",
    "    if(len(row['reviewText'])==0):\n",
    "        df_feature.loc[index, feature+'_label'] = 'NA'\n",
    "    else:\n",
    "        prdict = loaded_pipeline.predict(row['reviewText'])\n",
    "        po=0\n",
    "        nu=0\n",
    "        ng=0\n",
    "        for item in prdict:\n",
    "            if (item==\"pos\"):\n",
    "                po=po+1\n",
    "                count_po=count_po+po\n",
    "            elif (item==\"neg\"):\n",
    "                ng=ng+1\n",
    "                count_ng=count_ng+ng\n",
    "            elif (item==\"neu\"):\n",
    "                nu=nu+1\n",
    "                count_nu=count_nu+nu\n",
    "        var = {po:\"po\",ng:\"ng\",nu:\"nu\"}\n",
    "        sen = var.get(max(var))\n",
    "        df_feature.loc[index, feature+'_label'] = prdict\n",
    "  return df_feature\n",
    "#   return print(count_ng, count_nu,count_po)"
   ]
  },
  {
   "cell_type": "markdown",
   "metadata": {},
   "source": [
    "spliting reviews in to arrays of tokenized sentences with specific qualities"
   ]
  },
  {
   "cell_type": "code",
   "execution_count": 15,
   "metadata": {
    "scrolled": true
   },
   "outputs": [],
   "source": [
    "Battery_quality = [\"long lasting\",\"battery\",\"but\"]\n",
    "sentences_with_Battery=breakSentences(Battery_quality)"
   ]
  },
  {
   "cell_type": "code",
   "execution_count": 9,
   "metadata": {
    "scrolled": true
   },
   "outputs": [],
   "source": [
    "Audio_quality = [\"audio\",\"sound\",\"quality\",\"immersive\"]\n",
    "sentences_with_Audio=breakSentences(Audio_quality)"
   ]
  },
  {
   "cell_type": "code",
   "execution_count": 7,
   "metadata": {
    "scrolled": true
   },
   "outputs": [],
   "source": [
    "Build_quality= [\"vremium\",\"vondition\",\"fit\",\"feel\",\"comfort\",\"soft\",\"durable\",\"damage\"]\n",
    "sentences_with_Build=breakSentences(Build_quality)"
   ]
  },
  {
   "cell_type": "code",
   "execution_count": null,
   "metadata": {},
   "outputs": [],
   "source": [
    "Price_quality= [\"value\",\"cost\",\"worth\",\"Price\",\"expensive\"]\n",
    "sentences_with_Price=breakSentences(Price_quality)"
   ]
  },
  {
   "cell_type": "code",
   "execution_count": null,
   "metadata": {},
   "outputs": [],
   "source": [
    "Connection_quality = [\"static\",\"disconnect\",\"connection\"]\n",
    "sentences_with_Connection=breakSentences(Connection_quality)"
   ]
  },
  {
   "cell_type": "code",
   "execution_count": null,
   "metadata": {},
   "outputs": [],
   "source": [
    "Warranty_quality = [\"guarantee\",\"warranty\"]\n",
    "sentences_with_Warranty=breakSentences(Warranty_quality)"
   ]
  },
  {
   "cell_type": "code",
   "execution_count": null,
   "metadata": {},
   "outputs": [],
   "source": [
    "Service_quality = [\"Reimburse\",\"refund\",\"repair\",\"service \",\"commitment\",]\n",
    "sentences_with_Service=breakSentences(Service_quality)"
   ]
  },
  {
   "cell_type": "code",
   "execution_count": null,
   "metadata": {},
   "outputs": [],
   "source": [
    "Shipping_quality = [\"delivery\",\"shipping\",\"duration\",\"late\",\"charge\",\"fee\"]\n",
    "sentences_with_Shipping=breakSentences(Shipping_quality)"
   ]
  },
  {
   "cell_type": "code",
   "execution_count": 149,
   "metadata": {
    "scrolled": false
   },
   "outputs": [],
   "source": [
    "# load the model from disk\n",
    "# filename = '/content/serialize_sentiment_model.pkl'\n",
    "filename = '../Ml models/serialize_sentiment_model.pkl'\n",
    "loaded_pipeline = pickle.load(open(filename,'rb'))"
   ]
  },
  {
   "cell_type": "markdown",
   "metadata": {},
   "source": [
    "anylysing sentiment for each for each row and returning a dataFrame with semtiment"
   ]
  },
  {
   "cell_type": "code",
   "execution_count": 171,
   "metadata": {},
   "outputs": [],
   "source": [
    "df_Battery = sentiment(sentences_with_Battery,\"Battery\")"
   ]
  },
  {
   "cell_type": "code",
   "execution_count": 166,
   "metadata": {
    "scrolled": true
   },
   "outputs": [],
   "source": [
    "df_Audio = sentiment(sentences_with_Audio,\"Audio\")"
   ]
  },
  {
   "cell_type": "code",
   "execution_count": 169,
   "metadata": {
    "scrolled": true
   },
   "outputs": [],
   "source": [
    "df_Build = sentiment(sentences_with_Build,\"Build\")"
   ]
  },
  {
   "cell_type": "code",
   "execution_count": null,
   "metadata": {},
   "outputs": [],
   "source": [
    "df_Price = sentiment(sentences_with_Price,\"Price\")"
   ]
  },
  {
   "cell_type": "code",
   "execution_count": null,
   "metadata": {},
   "outputs": [],
   "source": [
    "df_Connection = sentiment(sentences_with_Connection,\"Connection\")"
   ]
  },
  {
   "cell_type": "code",
   "execution_count": null,
   "metadata": {},
   "outputs": [],
   "source": [
    "df_Warranty = sentiment(sentences_with_Warranty,\"Warranty\")"
   ]
  },
  {
   "cell_type": "code",
   "execution_count": null,
   "metadata": {},
   "outputs": [],
   "source": [
    "df_Service = sentiment(sentences_with_Service,\"Service\")"
   ]
  },
  {
   "cell_type": "code",
   "execution_count": null,
   "metadata": {},
   "outputs": [],
   "source": [
    "df_Shipping = sentiment(sentences_with_Shipping,\"Shipping\")"
   ]
  },
  {
   "cell_type": "markdown",
   "metadata": {},
   "source": [
    "merging the induvidual dataFrames with specific sentiment to the main dataframe"
   ]
  },
  {
   "cell_type": "code",
   "execution_count": 173,
   "metadata": {},
   "outputs": [
    {
     "data": {
      "text/html": [
       "<div>\n",
       "<style scoped>\n",
       "    .dataframe tbody tr th:only-of-type {\n",
       "        vertical-align: middle;\n",
       "    }\n",
       "\n",
       "    .dataframe tbody tr th {\n",
       "        vertical-align: top;\n",
       "    }\n",
       "\n",
       "    .dataframe thead th {\n",
       "        text-align: right;\n",
       "    }\n",
       "</style>\n",
       "<table border=\"1\" class=\"dataframe\">\n",
       "  <thead>\n",
       "    <tr style=\"text-align: right;\">\n",
       "      <th></th>\n",
       "      <th>reviewText</th>\n",
       "      <th>Audio_label</th>\n",
       "      <th>Build_label</th>\n",
       "      <th>Battery_label</th>\n",
       "    </tr>\n",
       "  </thead>\n",
       "  <tbody>\n",
       "    <tr>\n",
       "      <th>0</th>\n",
       "      <td>use year basically quiet environment sound pre...</td>\n",
       "      <td>po</td>\n",
       "      <td>po</td>\n",
       "      <td>NA</td>\n",
       "    </tr>\n",
       "    <tr>\n",
       "      <th>1</th>\n",
       "      <td>own two years wear thirty time mostly plane ri...</td>\n",
       "      <td>po</td>\n",
       "      <td>po</td>\n",
       "      <td>NA</td>\n",
       "    </tr>\n",
       "    <tr>\n",
       "      <th>2</th>\n",
       "      <td>buy think ticket noisefree pleasant air travel...</td>\n",
       "      <td>NA</td>\n",
       "      <td>po</td>\n",
       "      <td>NA</td>\n",
       "    </tr>\n",
       "    <tr>\n",
       "      <th>3</th>\n",
       "      <td>own years use fly two round trip week wear con...</td>\n",
       "      <td>po</td>\n",
       "      <td>po</td>\n",
       "      <td>NA</td>\n",
       "    </tr>\n",
       "    <tr>\n",
       "      <th>4</th>\n",
       "      <td>love headphone get narita airport obsess whole...</td>\n",
       "      <td>po</td>\n",
       "      <td>NA</td>\n",
       "      <td>NA</td>\n",
       "    </tr>\n",
       "    <tr>\n",
       "      <th>...</th>\n",
       "      <td>...</td>\n",
       "      <td>...</td>\n",
       "      <td>...</td>\n",
       "      <td>...</td>\n",
       "    </tr>\n",
       "    <tr>\n",
       "      <th>87979</th>\n",
       "      <td>please headphone overall noise cancellation be...</td>\n",
       "      <td>NA</td>\n",
       "      <td>NA</td>\n",
       "      <td>NA</td>\n",
       "    </tr>\n",
       "    <tr>\n",
       "      <th>87980</th>\n",
       "      <td>good sound great noise cancellation hope barel...</td>\n",
       "      <td>po</td>\n",
       "      <td>NA</td>\n",
       "      <td>NA</td>\n",
       "    </tr>\n",
       "    <tr>\n",
       "      <th>87981</th>\n",
       "      <td>headphone great job dampen sound even noise ca...</td>\n",
       "      <td>po</td>\n",
       "      <td>NA</td>\n",
       "      <td>po</td>\n",
       "    </tr>\n",
       "    <tr>\n",
       "      <th>87982</th>\n",
       "      <td>sound wise nice enough heavy base heavy anythi...</td>\n",
       "      <td>po</td>\n",
       "      <td>po</td>\n",
       "      <td>NA</td>\n",
       "    </tr>\n",
       "    <tr>\n",
       "      <th>87983</th>\n",
       "      <td>work moderate noise cancel abilities cheap mak...</td>\n",
       "      <td>nu</td>\n",
       "      <td>NA</td>\n",
       "      <td>NA</td>\n",
       "    </tr>\n",
       "  </tbody>\n",
       "</table>\n",
       "<p>87984 rows × 4 columns</p>\n",
       "</div>"
      ],
      "text/plain": [
       "                                              reviewText Audio_label  \\\n",
       "0      use year basically quiet environment sound pre...          po   \n",
       "1      own two years wear thirty time mostly plane ri...          po   \n",
       "2      buy think ticket noisefree pleasant air travel...          NA   \n",
       "3      own years use fly two round trip week wear con...          po   \n",
       "4      love headphone get narita airport obsess whole...          po   \n",
       "...                                                  ...         ...   \n",
       "87979  please headphone overall noise cancellation be...          NA   \n",
       "87980  good sound great noise cancellation hope barel...          po   \n",
       "87981  headphone great job dampen sound even noise ca...          po   \n",
       "87982  sound wise nice enough heavy base heavy anythi...          po   \n",
       "87983  work moderate noise cancel abilities cheap mak...          nu   \n",
       "\n",
       "      Build_label Battery_label  \n",
       "0              po            NA  \n",
       "1              po            NA  \n",
       "2              po            NA  \n",
       "3              po            NA  \n",
       "4              NA            NA  \n",
       "...           ...           ...  \n",
       "87979          NA            NA  \n",
       "87980          NA            NA  \n",
       "87981          NA            po  \n",
       "87982          po            NA  \n",
       "87983          NA            NA  \n",
       "\n",
       "[87984 rows x 4 columns]"
      ]
     },
     "execution_count": 173,
     "metadata": {},
     "output_type": "execute_result"
    }
   ],
   "source": [
    "df['Audio_label']=df_Audio['Audio_label']\n",
    "df['Build_label']=df_Build['Build_label']\n",
    "df['Battery_label']=df_Battery['Battery_label']\n",
    "df['Price_label']=df_Battery['Price_label']\n",
    "df['Connection_label']=df_Battery['Connection_label']\n",
    "df['Warranty_label']=df_Battery['Warranty_label']\n",
    "df['Service_label']=df_Battery['Service_label']\n",
    "df['Shipping_label']=df_Battery['Shipping_label']\n",
    "df"
   ]
  },
  {
   "cell_type": "code",
   "execution_count": null,
   "metadata": {},
   "outputs": [],
   "source": [
    "# print(prdict);\n",
    "# c=0\n",
    "# for item in x:\n",
    "#     print('|| '+prdict[c]+' || >',x[c],'\\n')\n",
    "#     c=c+1;"
   ]
  }
 ],
 "metadata": {
  "kernelspec": {
   "display_name": "Python 3",
   "language": "python",
   "name": "python3"
  },
  "language_info": {
   "codemirror_mode": {
    "name": "ipython",
    "version": 3
   },
   "file_extension": ".py",
   "mimetype": "text/x-python",
   "name": "python",
   "nbconvert_exporter": "python",
   "pygments_lexer": "ipython3",
   "version": "3.8.3"
  }
 },
 "nbformat": 4,
 "nbformat_minor": 4
}
