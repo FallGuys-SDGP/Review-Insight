{
 "cells": [
  {
   "cell_type": "code",
   "execution_count": null,
   "metadata": {
    "id": "UGQ1Cq_QdATy"
   },
   "outputs": [],
   "source": [
    "# Sentiment anlaysis \n",
    "# Valence Aware Dictionary for Sentiment Reasoning (VADER) is a model used for text \n",
    "# sentiment analysis its sensitve for both polarity"
   ]
  },
  {
   "cell_type": "code",
   "execution_count": null,
   "metadata": {
    "id": "vla7PWySdAU7"
   },
   "outputs": [],
   "source": [
    "import numpy as np\n",
    "import pandas as pd\n",
    "import nltk\n",
    "nltk.download('vader_lexicon')"
   ]
  },
  {
   "cell_type": "code",
   "execution_count": null,
   "metadata": {
    "id": "mD9EVg0KdAU-"
   },
   "outputs": [],
   "source": [
    "# importing Sentiment Intensity Analyzer\n",
    "from nltk.sentiment.vader import SentimentIntensityAnalyzer\n",
    "\n",
    "#SentimentIntensityAnalyzer() returns dictanry Scores of negative, positive, netural, compound\n",
    "sid = SentimentIntensityAnalyzer()"
   ]
  },
  {
   "cell_type": "code",
   "execution_count": null,
   "metadata": {
    "id": "ahDjncEMdAU_"
   },
   "outputs": [],
   "source": [
    "df = pd.read_csv('../dataset/Reviews Only (Sentiment).csv')\n",
    "df.head()"
   ]
  },
  {
   "cell_type": "code",
   "execution_count": null,
   "metadata": {
    "id": "4oQKrEqsdAVA",
    "scrolled": true
   },
   "outputs": [],
   "source": [
    "df['scores'] = df['reviewText'].apply(lambda reviewText: sid.polarity_scores(str(reviewText)))\n",
    "df.head()"
   ]
  },
  {
   "cell_type": "code",
   "execution_count": null,
   "metadata": {
    "id": "917r9WmbdAVA"
   },
   "outputs": [],
   "source": [
    "df['compound']  = df['scores'].apply(lambda score_dict: score_dict['compound'])\n",
    "\n",
    "df['comp_score_label'] = df['compound'].apply(lambda c: 'pos' if c >=0 else 'neg')\n",
    "\n",
    "df.head(40)"
   ]
  },
  {
   "cell_type": "code",
   "execution_count": null,
   "metadata": {
    "id": "8LmFxZh2iOWq"
   },
   "outputs": [],
   "source": [
    "df.head(40)"
   ]
  }
 ],
 "metadata": {
  "colab": {
   "name": "product feature sentiment.ipynb",
   "provenance": []
  },
  "kernelspec": {
   "display_name": "Python 3",
   "language": "python",
   "name": "python3"
  },
  "language_info": {
   "codemirror_mode": {
    "name": "ipython",
    "version": 3
   },
   "file_extension": ".py",
   "mimetype": "text/x-python",
   "name": "python",
   "nbconvert_exporter": "python",
   "pygments_lexer": "ipython3",
   "version": "3.8.3"
  }
 },
 "nbformat": 4,
 "nbformat_minor": 1
}
