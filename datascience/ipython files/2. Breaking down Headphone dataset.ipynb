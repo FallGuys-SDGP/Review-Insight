{
 "cells": [
  {
   "cell_type": "code",
   "execution_count": null,
   "metadata": {},
   "outputs": [],
   "source": [
    "import os\n",
    "import json\n",
    "import gzip\n",
    "import pandas as pd\n",
    "from urllib.request import urlopen"
   ]
  },
  {
   "cell_type": "code",
   "execution_count": null,
   "metadata": {},
   "outputs": [],
   "source": [
    "### load the data\n",
    "\n",
    "data = pd.read_csv('../dataset/Headphone extracted droped columns.csv')\n",
    "    \n",
    "# total length of list, this number equals total number of products\n",
    "print(len(data))"
   ]
  },
  {
   "cell_type": "code",
   "execution_count": null,
   "metadata": {},
   "outputs": [],
   "source": [
    "product_reviews_Clean_Brands = pd.DataFrame.from_dict(data)\n",
    "print(len(data))"
   ]
  },
  {
   "cell_type": "code",
   "execution_count": null,
   "metadata": {},
   "outputs": [],
   "source": [
    "print (\"Total Headphone Brands:\", str(product_reviews_Clean_Brands.shape))\n",
    "product_reviews_Clean_Brands.head(1)"
   ]
  },
  {
   "cell_type": "code",
   "execution_count": null,
   "metadata": {},
   "outputs": [],
   "source": [
    "product_reviews_Clean_Brands[\"reviewID\"] = product_reviews_Clean_Brands.index + 1"
   ]
  },
  {
   "cell_type": "code",
   "execution_count": null,
   "metadata": {},
   "outputs": [],
   "source": [
    "product_reviews_hp_droped_sorted = product_reviews_Clean_Brands[['asin', 'reviewID', 'title', 'brand','overall','vote','verified','summary','reviewerID','unixReviewTime','reviewText']]"
   ]
  },
  {
   "cell_type": "code",
   "execution_count": null,
   "metadata": {},
   "outputs": [],
   "source": [
    "product_reviews_hp_droped_sorted.head(10)"
   ]
  },
  {
   "cell_type": "code",
   "execution_count": null,
   "metadata": {},
   "outputs": [],
   "source": [
    "product_reviews_hp_droped_sorted.to_csv('../dataset/Dropped columns added reviewid.csv', sep=',', encoding='utf-8', index = False)"
   ]
  },
  {
   "cell_type": "markdown",
   "metadata": {},
   "source": [
    "Keeping only reviewText column"
   ]
  },
  {
   "cell_type": "code",
   "execution_count": null,
   "metadata": {},
   "outputs": [],
   "source": [
    "# product_reviews_hp_droped = product_reviews_Clean_Brands.drop(['style','reviewerName','reviewTime','image_x','category', 'tech1', 'description', 'fit', 'also_buy', 'image_y','tech2', 'feature','rank', 'also_view', 'main_cat','similar_item', 'date','details', 'price'], axis=\"columns\")\n",
    "product_reviews_hp_droped = product_reviews_Clean_Brands.drop(['brand','overall','vote','verified','summary', 'reviewerID', 'unixReviewTime', 'asin', 'title'], axis=\"columns\")"
   ]
  },
  {
   "cell_type": "code",
   "execution_count": null,
   "metadata": {},
   "outputs": [],
   "source": [
    "print (\"Total Headphone Brand Droped:\", str(product_reviews_hp_droped.shape))\n",
    "product_reviews_hp_droped.head(1)"
   ]
  },
  {
   "cell_type": "code",
   "execution_count": null,
   "metadata": {},
   "outputs": [],
   "source": [
    "# pd.options.mode.chained_assignment = None\n",
    "# product_reviews_hp_droped_duplicates = product_reviews_hp_droped\n",
    "# product_reviews_hp_droped_duplicates.drop_duplicates(subset=\"asin\", keep=\"first\", inplace=True)"
   ]
  },
  {
   "cell_type": "code",
   "execution_count": null,
   "metadata": {},
   "outputs": [],
   "source": [
    "print (\"Total Headphone Brand Droped Duplicates:\", str(product_reviews_hp_droped_duplicates.shape))\n",
    "product_reviews_hp_droped_duplicates.head(10)"
   ]
  },
  {
   "cell_type": "code",
   "execution_count": null,
   "metadata": {},
   "outputs": [],
   "source": [
    "# product_reviews_hp_droped_sorted = product_reviews_hp_droped[['asin', 'title', 'brand','overall','vote','verified','summary','reviewerID','unixReviewTime','reviewText']]"
   ]
  },
  {
   "cell_type": "code",
   "execution_count": null,
   "metadata": {},
   "outputs": [],
   "source": [
    "# print (\"Total Headphone Brand Droped Sorted:\", str(product_reviews_hp_droped_sorted.shape))\n",
    "# product_reviews_hp_droped_sorted.head(1)"
   ]
  },
  {
   "cell_type": "code",
   "execution_count": null,
   "metadata": {},
   "outputs": [],
   "source": [
    "product_reviews_hp_droped_duplicates.to_csv('Reviews only.csv', sep=',', encoding='utf-8', index = False)"
   ]
  },
  {
   "cell_type": "code",
   "execution_count": null,
   "metadata": {},
   "outputs": [],
   "source": [
    "product_reviews_hp_droped_sorted.to_csv('Breaking down Headphone extracted.csv', sep=',', encoding='utf-8', index = False)"
   ]
  },
  {
   "cell_type": "code",
   "execution_count": null,
   "metadata": {},
   "outputs": [],
   "source": [
    "product_reviews_hp_droped_sorted.to_csv('Breaking down Headphone extracted.csv', sep=',', encoding='utf-8', index = False)"
   ]
  }
 ],
 "metadata": {
  "kernelspec": {
   "display_name": "Python 3",
   "language": "python",
   "name": "python3"
  },
  "language_info": {
   "codemirror_mode": {
    "name": "ipython",
    "version": 3
   },
   "file_extension": ".py",
   "mimetype": "text/x-python",
   "name": "python",
   "nbconvert_exporter": "python",
   "pygments_lexer": "ipython3",
   "version": "3.8.5"
  }
 },
 "nbformat": 4,
 "nbformat_minor": 4
}
