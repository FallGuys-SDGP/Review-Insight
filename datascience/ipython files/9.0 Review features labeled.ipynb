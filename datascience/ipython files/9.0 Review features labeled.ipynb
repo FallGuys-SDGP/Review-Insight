{
  "nbformat": 4,
  "nbformat_minor": 0,
  "metadata": {
    "colab": {
      "name": "9.0 Review features labeled",
      "provenance": [],
      "collapsed_sections": []
    },
    "kernelspec": {
      "display_name": "Python 3",
      "language": "python",
      "name": "python3"
    },
    "language_info": {
      "codemirror_mode": {
        "name": "ipython",
        "version": 3
      },
      "file_extension": ".py",
      "mimetype": "text/x-python",
      "name": "python",
      "nbconvert_exporter": "python",
      "pygments_lexer": "ipython3",
      "version": "3.8.3"
    }
  },
  "cells": [
    {
      "cell_type": "code",
      "metadata": {
        "id": "vla7PWySdAU7"
      },
      "source": [
        "import numpy as np\n",
        "import pandas as pd\n",
        "import nltk\n",
        "nltk.download('punkt')\n",
        "nltk.download('vader_lexicon')"
      ],
      "execution_count": null,
      "outputs": []
    },
    {
      "cell_type": "code",
      "metadata": {
        "id": "2pp330IgzX-r"
      },
      "source": [
        "from nltk.tokenize import word_tokenize, sent_tokenize\n",
        "df = pd.read_csv('/content/Reviews only (Sentiment) only 20.csv')\n",
        "df.head()"
      ],
      "execution_count": null,
      "outputs": []
    },
    {
      "cell_type": "markdown",
      "metadata": {
        "id": "ZPmbQnqfU2LA"
      },
      "source": [
        "Break Reviews in to features"
      ]
    },
    {
      "cell_type": "code",
      "metadata": {
        "id": "O6W72DHLzZgq"
      },
      "source": [
        "def breakSentences(word_array):\n",
        "  sentence_all = []\n",
        "  for index, row in df.iterrows():\n",
        "    sentences_with_feature = []\n",
        "    for sen in sent_tokenize(row['reviewText']):\n",
        "        l = word_tokenize(sen)\n",
        "        if len(set(l).intersection(word_array))>0:\n",
        "            sentences_with_feature.append(sen)\n",
        "    sentence_all.append(sentences_with_feature)\n",
        "  list_of_tuples = list(zip(sentence_all)) \n",
        "  df_sentences = pd.DataFrame(list_of_tuples,columns = ['broken'])\n",
        "  return df_sentences"
      ],
      "execution_count": null,
      "outputs": []
    },
    {
      "cell_type": "code",
      "metadata": {
        "id": "LB7GiilvnRiS"
      },
      "source": [
        "# Audio_quality = [\"sound\",\"quality\"]\n",
        "Audio_quality = [\"sound\",\"quality\",\"immersive\"]\n",
        "sentences_with_Audio=breakSentences(Audio_quality)\n",
        "sentences_with_Audio"
      ],
      "execution_count": null,
      "outputs": []
    },
    {
      "cell_type": "code",
      "metadata": {
        "id": "IQ8NmUFw2WpP"
      },
      "source": [
        "Battery_quality = [\"long lasting\",\"battery\",\"but\"]\n",
        "sentences_with_Battery=breakSentences(Battery_quality)\n",
        "sentences_with_Battery"
      ],
      "execution_count": null,
      "outputs": []
    },
    {
      "cell_type": "code",
      "metadata": {
        "id": "YzXJhL8m75E_"
      },
      "source": [
        "build_quality = [\"fit\",\"feel\",\"comfort\",\"soft\"]\n",
        "sentences_with_build=breakSentences(build_quality)\n",
        "sentences_with_build"
      ],
      "execution_count": null,
      "outputs": []
    },
    {
      "cell_type": "markdown",
      "metadata": {
        "id": "kGfcdRrc0F6U"
      },
      "source": [
        "add sentiment labels \n",
        "\n",
        "> Valence Aware Dictionary for Sentiment Reasoning (VADER) is a model used for text \n",
        "\n",
        "> sentiment analysis its sensitve for both polarity"
      ]
    },
    {
      "cell_type": "code",
      "metadata": {
        "id": "mD9EVg0KdAU-"
      },
      "source": [
        "# importing Sentiment Intensity Analyzer\n",
        "from nltk.sentiment.vader import SentimentIntensityAnalyzer\n",
        "\n",
        "#SentimentIntensityAnalyzer() returns dictanry Scores of negative, positive, netural, compound\n",
        "sid = SentimentIntensityAnalyzer()"
      ],
      "execution_count": null,
      "outputs": []
    },
    {
      "cell_type": "code",
      "metadata": {
        "id": "v_Ajzfoc_1B4"
      },
      "source": [
        "def sentiment(sentenceArray,feature):\n",
        "  df_audio = sentenceArray\n",
        "  # df_audio.insert(1, \"lab\",0)\n",
        "\n",
        "  for index, row in df_audio.iterrows():\n",
        "    list_of_tuples = list(zip(row['broken'])) \n",
        "    df_audio_sentences = pd.DataFrame(list_of_tuples,columns = [feature+'_sen'])\n",
        "\n",
        "    df_audio_sentences['scores'] = df_audio_sentences[feature+'_sen'].apply(lambda audio_sen: sid.polarity_scores(str(audio_sen)))\n",
        "    df_audio_sentences['compound']  = df_audio_sentences['scores'].apply(lambda score_dict: score_dict['compound'])\n",
        "    df_audio_sentences[feature+'_label'] = df_audio_sentences['compound'].apply(lambda c: 'pos' if c >=0.5 else ('neu' if c >= -0.5 else 'neg'))\n",
        "    \n",
        "    total = df_audio_sentences['compound'].sum()\n",
        "    numRow = df_audio_sentences['compound'].count()\n",
        "    averageCompound = float(total/numRow)\n",
        "\n",
        "    if np.isnan(averageCompound):\n",
        "      sen = \"NA\"\n",
        "    elif averageCompound >= 0:\n",
        "      sen = \"pos\"\n",
        "    elif (averageCompound > -0.25) and (averageCompound < 0):\n",
        "      sen = \"nue\"\n",
        "    elif averageCompound <= -0.25:\n",
        "      sen = \"neg\"\n",
        "\n",
        "    df_audio.loc[index, feature+'_label'] = sen\n",
        "  # df_audio\n",
        "  # df_audio_sentences\n",
        "  return df_audio.head(100)"
      ],
      "execution_count": null,
      "outputs": []
    },
    {
      "cell_type": "code",
      "metadata": {
        "id": "917r9WmbdAVA"
      },
      "source": [
        "sentiment(sentences_with_Audio,\"Audio\")"
      ],
      "execution_count": null,
      "outputs": []
    },
    {
      "cell_type": "code",
      "metadata": {
        "id": "nI0vKK5UoLRJ"
      },
      "source": [
        "sentiment(sentences_with_Battery,\"Battery\")"
      ],
      "execution_count": null,
      "outputs": []
    },
    {
      "cell_type": "code",
      "metadata": {
        "id": "5fXSmLsSoLcO"
      },
      "source": [
        "sentiment(sentences_with_build,\"Build\")"
      ],
      "execution_count": null,
      "outputs": []
    }
  ]
}