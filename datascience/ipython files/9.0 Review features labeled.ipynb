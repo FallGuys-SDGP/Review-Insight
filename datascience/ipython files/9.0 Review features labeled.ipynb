{
  "nbformat": 4,
  "nbformat_minor": 0,
  "metadata": {
    "colab": {
      "name": "weeee.ipynb",
      "provenance": [],
      "collapsed_sections": [],
      "machine_shape": "hm"
    },
    "kernelspec": {
      "name": "python3",
      "display_name": "Python 3"
    },
    "accelerator": "TPU"
  },
  "cells": [
    {
      "cell_type": "code",
      "metadata": {
        "colab": {
          "base_uri": "https://localhost:8080/"
        },
        "id": "kwww74TVJeex",
        "outputId": "8015a4d0-7e0a-42e9-d27b-578ca54deebc"
      },
      "source": [
        "# >>>>>>>>>>>>>>>>>>>>>>>>>>>>>> imports >>>>>>>>>>>>>>>>>>>>>>>>>>>>>>\n",
        "!pip install inflect\n",
        "!pip install contractions \n",
        "\n",
        "import contractions\n",
        "from contractionsOne import CONTRACTION_MAP\n",
        "\n",
        "import nltk\n",
        "from nltk.corpus import stopwords\n",
        "from nltk.tokenize import word_tokenize\n",
        "from nltk.tokenize import sent_tokenize\n",
        "from nltk.stem.lancaster import LancasterStemmer\n",
        "from nltk.stem import WordNetLemmatizer\n",
        "from nltk.stem import PorterStemmer\n",
        "nltk.download('wordnet')\n",
        "nltk.download('punkt')\n",
        "nltk.download('stopwords')\n",
        "\n",
        "\n",
        "import inflect\n",
        "import numpy as np\n",
        "import pandas as pd\n",
        "import sys, setuptools, tokenize\n",
        "import re, unicodedata, string  \n",
        "from bs4 import BeautifulSoup"
      ],
      "execution_count": null,
      "outputs": [
        {
          "output_type": "stream",
          "text": [
            "Requirement already satisfied: inflect in /usr/local/lib/python3.7/dist-packages (2.1.0)\n",
            "Requirement already satisfied: contractions in /usr/local/lib/python3.7/dist-packages (0.0.48)\n",
            "Requirement already satisfied: textsearch>=0.0.21 in /usr/local/lib/python3.7/dist-packages (from contractions) (0.0.21)\n",
            "Requirement already satisfied: pyahocorasick in /usr/local/lib/python3.7/dist-packages (from textsearch>=0.0.21->contractions) (1.4.2)\n",
            "Requirement already satisfied: anyascii in /usr/local/lib/python3.7/dist-packages (from textsearch>=0.0.21->contractions) (0.2.0)\n",
            "[nltk_data] Downloading package wordnet to /root/nltk_data...\n",
            "[nltk_data]   Package wordnet is already up-to-date!\n",
            "[nltk_data] Downloading package punkt to /root/nltk_data...\n",
            "[nltk_data]   Package punkt is already up-to-date!\n",
            "[nltk_data] Downloading package stopwords to /root/nltk_data...\n",
            "[nltk_data]   Package stopwords is already up-to-date!\n"
          ],
          "name": "stdout"
        }
      ]
    },
    {
      "cell_type": "code",
      "metadata": {
        "id": "FSKfd340Wq7T",
        "colab": {
          "base_uri": "https://localhost:8080/",
          "height": 390
        },
        "outputId": "c5d77d45-961b-4b0f-fb7d-f5135691b04d"
      },
      "source": [
        "# >>>>>>>>>>>>>>>>>>>>>>>>>>>>>> loading the dataset >>>>>>>>>>>>>>>>>>>>>>>>>>>>>>\n",
        "pd.options.mode.chained_assignment = None\n",
        "# df1 = pd.read_csv('/content/Headphone extracted droped columns.csv')\n",
        "# product_reviews_hp_droped = df1.drop(['brand','overall','vote','verified','summary', 'reviewerID', 'unixReviewTime', 'asin', 'title'], axis=\"columns\")\n",
        "\n",
        "df = pd.read_csv('/content/testing.csv')\n",
        "df"
      ],
      "execution_count": null,
      "outputs": [
        {
          "output_type": "execute_result",
          "data": {
            "text/html": [
              "<div>\n",
              "<style scoped>\n",
              "    .dataframe tbody tr th:only-of-type {\n",
              "        vertical-align: middle;\n",
              "    }\n",
              "\n",
              "    .dataframe tbody tr th {\n",
              "        vertical-align: top;\n",
              "    }\n",
              "\n",
              "    .dataframe thead th {\n",
              "        text-align: right;\n",
              "    }\n",
              "</style>\n",
              "<table border=\"1\" class=\"dataframe\">\n",
              "  <thead>\n",
              "    <tr style=\"text-align: right;\">\n",
              "      <th></th>\n",
              "      <th>reviewText</th>\n",
              "    </tr>\n",
              "  </thead>\n",
              "  <tbody>\n",
              "    <tr>\n",
              "      <th>0</th>\n",
              "      <td>&lt;h1&gt;I've been using these for over a year now....</td>\n",
              "    </tr>\n",
              "    <tr>\n",
              "      <th>1</th>\n",
              "      <td>NaN</td>\n",
              "    </tr>\n",
              "    <tr>\n",
              "      <th>2</th>\n",
              "      <td>https://www.hi.com I have owned these for over...</td>\n",
              "    </tr>\n",
              "    <tr>\n",
              "      <th>3</th>\n",
              "      <td>I'll be there within 5 min. Shouldn't you be t...</td>\n",
              "    </tr>\n",
              "    <tr>\n",
              "      <th>4</th>\n",
              "      <td>I ** [bought] these thinking they were the tic...</td>\n",
              "    </tr>\n",
              "    <tr>\n",
              "      <th>5</th>\n",
              "      <td>#Work Good. I do not have another reference. Y...</td>\n",
              "    </tr>\n",
              "    <tr>\n",
              "      <th>6</th>\n",
              "      <td>भारत Not as immersive and noise-cancelling as ...</td>\n",
              "    </tr>\n",
              "    <tr>\n",
              "      <th>7</th>\n",
              "      <td>DINUVI  I own these and the Bose Quiet Comfort...</td>\n",
              "    </tr>\n",
              "    <tr>\n",
              "      <th>8</th>\n",
              "      <td>�� I bought these at the flea market for 10 do...</td>\n",
              "    </tr>\n",
              "    <tr>\n",
              "      <th>9</th>\n",
              "      <td>Let's make it short story. It extremly difficu...</td>\n",
              "    </tr>\n",
              "    <tr>\n",
              "      <th>10</th>\n",
              "      <td>I purchased this product because I could never...</td>\n",
              "    </tr>\n",
              "  </tbody>\n",
              "</table>\n",
              "</div>"
            ],
            "text/plain": [
              "                                           reviewText\n",
              "0   <h1>I've been using these for over a year now....\n",
              "1                                                 NaN\n",
              "2   https://www.hi.com I have owned these for over...\n",
              "3   I'll be there within 5 min. Shouldn't you be t...\n",
              "4   I ** [bought] these thinking they were the tic...\n",
              "5   #Work Good. I do not have another reference. Y...\n",
              "6   भारत Not as immersive and noise-cancelling as ...\n",
              "7   DINUVI  I own these and the Bose Quiet Comfort...\n",
              "8   �� I bought these at the flea market for 10 do...\n",
              "9   Let's make it short story. It extremly difficu...\n",
              "10  I purchased this product because I could never..."
            ]
          },
          "metadata": {
            "tags": []
          },
          "execution_count": 9
        }
      ]
    },
    {
      "cell_type": "code",
      "metadata": {
        "id": "WUXoev63Wv2I",
        "colab": {
          "base_uri": "https://localhost:8080/",
          "height": 359
        },
        "outputId": "8a515240-d1f2-4c1f-9691-25863a2c25dc"
      },
      "source": [
        "# >>>>>>>>>>>>>>>>>>>>>>>>>>>>>> removing null values >>>>>>>>>>>>>>>>>>>>>>>>>>>>>>\n",
        "#removing null values\n",
        "# counting rows after removing null values\n",
        "df.dropna(subset=['reviewText'], inplace=True)\n",
        "df"
      ],
      "execution_count": null,
      "outputs": [
        {
          "output_type": "execute_result",
          "data": {
            "text/html": [
              "<div>\n",
              "<style scoped>\n",
              "    .dataframe tbody tr th:only-of-type {\n",
              "        vertical-align: middle;\n",
              "    }\n",
              "\n",
              "    .dataframe tbody tr th {\n",
              "        vertical-align: top;\n",
              "    }\n",
              "\n",
              "    .dataframe thead th {\n",
              "        text-align: right;\n",
              "    }\n",
              "</style>\n",
              "<table border=\"1\" class=\"dataframe\">\n",
              "  <thead>\n",
              "    <tr style=\"text-align: right;\">\n",
              "      <th></th>\n",
              "      <th>reviewText</th>\n",
              "    </tr>\n",
              "  </thead>\n",
              "  <tbody>\n",
              "    <tr>\n",
              "      <th>0</th>\n",
              "      <td>&lt;h1&gt;I've been using these for over a year now....</td>\n",
              "    </tr>\n",
              "    <tr>\n",
              "      <th>2</th>\n",
              "      <td>https://www.hi.com I have owned these for over...</td>\n",
              "    </tr>\n",
              "    <tr>\n",
              "      <th>3</th>\n",
              "      <td>I'll be there within 5 min. Shouldn't you be t...</td>\n",
              "    </tr>\n",
              "    <tr>\n",
              "      <th>4</th>\n",
              "      <td>I ** [bought] these thinking they were the tic...</td>\n",
              "    </tr>\n",
              "    <tr>\n",
              "      <th>5</th>\n",
              "      <td>#Work Good. I do not have another reference. Y...</td>\n",
              "    </tr>\n",
              "    <tr>\n",
              "      <th>6</th>\n",
              "      <td>भारत Not as immersive and noise-cancelling as ...</td>\n",
              "    </tr>\n",
              "    <tr>\n",
              "      <th>7</th>\n",
              "      <td>DINUVI  I own these and the Bose Quiet Comfort...</td>\n",
              "    </tr>\n",
              "    <tr>\n",
              "      <th>8</th>\n",
              "      <td>�� I bought these at the flea market for 10 do...</td>\n",
              "    </tr>\n",
              "    <tr>\n",
              "      <th>9</th>\n",
              "      <td>Let's make it short story. It extremly difficu...</td>\n",
              "    </tr>\n",
              "    <tr>\n",
              "      <th>10</th>\n",
              "      <td>I purchased this product because I could never...</td>\n",
              "    </tr>\n",
              "  </tbody>\n",
              "</table>\n",
              "</div>"
            ],
            "text/plain": [
              "                                           reviewText\n",
              "0   <h1>I've been using these for over a year now....\n",
              "2   https://www.hi.com I have owned these for over...\n",
              "3   I'll be there within 5 min. Shouldn't you be t...\n",
              "4   I ** [bought] these thinking they were the tic...\n",
              "5   #Work Good. I do not have another reference. Y...\n",
              "6   भारत Not as immersive and noise-cancelling as ...\n",
              "7   DINUVI  I own these and the Bose Quiet Comfort...\n",
              "8   �� I bought these at the flea market for 10 do...\n",
              "9   Let's make it short story. It extremly difficu...\n",
              "10  I purchased this product because I could never..."
            ]
          },
          "metadata": {
            "tags": []
          },
          "execution_count": 10
        }
      ]
    },
    {
      "cell_type": "code",
      "metadata": {
        "id": "ByveAYlnWzMz",
        "colab": {
          "base_uri": "https://localhost:8080/",
          "height": 359
        },
        "outputId": "6207b659-c639-498c-ac95-35ce6e67a493"
      },
      "source": [
        "# >>>>>>>>>>>>>>>>>>>>>>>>>>>>>> removing URL >>>>>>>>>>>>>>>>>>>>>>>>>>>>>>\n",
        "def remove_URL(reviewText):\n",
        "    url = re.compile(r'https?://\\S+|www\\.\\S+')\n",
        "    return url.sub(r'', str(reviewText))\n",
        "df['reviewText']=df['reviewText'].apply(remove_URL)\n",
        "df.head(10)"
      ],
      "execution_count": null,
      "outputs": [
        {
          "output_type": "execute_result",
          "data": {
            "text/html": [
              "<div>\n",
              "<style scoped>\n",
              "    .dataframe tbody tr th:only-of-type {\n",
              "        vertical-align: middle;\n",
              "    }\n",
              "\n",
              "    .dataframe tbody tr th {\n",
              "        vertical-align: top;\n",
              "    }\n",
              "\n",
              "    .dataframe thead th {\n",
              "        text-align: right;\n",
              "    }\n",
              "</style>\n",
              "<table border=\"1\" class=\"dataframe\">\n",
              "  <thead>\n",
              "    <tr style=\"text-align: right;\">\n",
              "      <th></th>\n",
              "      <th>reviewText</th>\n",
              "    </tr>\n",
              "  </thead>\n",
              "  <tbody>\n",
              "    <tr>\n",
              "      <th>0</th>\n",
              "      <td>&lt;h1&gt;I've been using these for over a year now....</td>\n",
              "    </tr>\n",
              "    <tr>\n",
              "      <th>2</th>\n",
              "      <td>I have owned these for over two years and wor...</td>\n",
              "    </tr>\n",
              "    <tr>\n",
              "      <th>3</th>\n",
              "      <td>I'll be there within 5 min. Shouldn't you be t...</td>\n",
              "    </tr>\n",
              "    <tr>\n",
              "      <th>4</th>\n",
              "      <td>I ** [bought] these thinking they were the tic...</td>\n",
              "    </tr>\n",
              "    <tr>\n",
              "      <th>5</th>\n",
              "      <td>#Work Good. I do not have another reference. Y...</td>\n",
              "    </tr>\n",
              "    <tr>\n",
              "      <th>6</th>\n",
              "      <td>भारत Not as immersive and noise-cancelling as ...</td>\n",
              "    </tr>\n",
              "    <tr>\n",
              "      <th>7</th>\n",
              "      <td>DINUVI  I own these and the Bose Quiet Comfort...</td>\n",
              "    </tr>\n",
              "    <tr>\n",
              "      <th>8</th>\n",
              "      <td>�� I bought these at the flea market for 10 do...</td>\n",
              "    </tr>\n",
              "    <tr>\n",
              "      <th>9</th>\n",
              "      <td>Let's make it short story. It extremly difficu...</td>\n",
              "    </tr>\n",
              "    <tr>\n",
              "      <th>10</th>\n",
              "      <td>I purchased this product because I could never...</td>\n",
              "    </tr>\n",
              "  </tbody>\n",
              "</table>\n",
              "</div>"
            ],
            "text/plain": [
              "                                           reviewText\n",
              "0   <h1>I've been using these for over a year now....\n",
              "2    I have owned these for over two years and wor...\n",
              "3   I'll be there within 5 min. Shouldn't you be t...\n",
              "4   I ** [bought] these thinking they were the tic...\n",
              "5   #Work Good. I do not have another reference. Y...\n",
              "6   भारत Not as immersive and noise-cancelling as ...\n",
              "7   DINUVI  I own these and the Bose Quiet Comfort...\n",
              "8   �� I bought these at the flea market for 10 do...\n",
              "9   Let's make it short story. It extremly difficu...\n",
              "10  I purchased this product because I could never..."
            ]
          },
          "metadata": {
            "tags": []
          },
          "execution_count": 11
        }
      ]
    },
    {
      "cell_type": "code",
      "metadata": {
        "id": "cbd-5DaCW1eE",
        "colab": {
          "base_uri": "https://localhost:8080/",
          "height": 359
        },
        "outputId": "84d4c223-231d-4413-96e2-43e7ee0404b8"
      },
      "source": [
        "# >>>>>>>>>>>>>>>>>>>>>>>>>>>>>> removing HTML tags >>>>>>>>>>>>>>>>>>>>>>>>>>>>>>\n",
        "def remove_html(reviewText):\n",
        "    html=re.compile(r'<.*?>')\n",
        "    return html.sub(r'',str(reviewText))\n",
        "df['reviewText'] = df['reviewText'].apply(remove_html)\n",
        "df.head(10)"
      ],
      "execution_count": null,
      "outputs": [
        {
          "output_type": "execute_result",
          "data": {
            "text/html": [
              "<div>\n",
              "<style scoped>\n",
              "    .dataframe tbody tr th:only-of-type {\n",
              "        vertical-align: middle;\n",
              "    }\n",
              "\n",
              "    .dataframe tbody tr th {\n",
              "        vertical-align: top;\n",
              "    }\n",
              "\n",
              "    .dataframe thead th {\n",
              "        text-align: right;\n",
              "    }\n",
              "</style>\n",
              "<table border=\"1\" class=\"dataframe\">\n",
              "  <thead>\n",
              "    <tr style=\"text-align: right;\">\n",
              "      <th></th>\n",
              "      <th>reviewText</th>\n",
              "    </tr>\n",
              "  </thead>\n",
              "  <tbody>\n",
              "    <tr>\n",
              "      <th>0</th>\n",
              "      <td>I've been using these for over a year now.</td>\n",
              "    </tr>\n",
              "    <tr>\n",
              "      <th>2</th>\n",
              "      <td>I have owned these for over two years and wor...</td>\n",
              "    </tr>\n",
              "    <tr>\n",
              "      <th>3</th>\n",
              "      <td>I'll be there within 5 min. Shouldn't you be t...</td>\n",
              "    </tr>\n",
              "    <tr>\n",
              "      <th>4</th>\n",
              "      <td>I ** [bought] these thinking they were the tic...</td>\n",
              "    </tr>\n",
              "    <tr>\n",
              "      <th>5</th>\n",
              "      <td>#Work Good. I do not have another reference. Y...</td>\n",
              "    </tr>\n",
              "    <tr>\n",
              "      <th>6</th>\n",
              "      <td>भारत Not as immersive and noise-cancelling as ...</td>\n",
              "    </tr>\n",
              "    <tr>\n",
              "      <th>7</th>\n",
              "      <td>DINUVI  I own these and the Bose Quiet Comfort...</td>\n",
              "    </tr>\n",
              "    <tr>\n",
              "      <th>8</th>\n",
              "      <td>�� I bought these at the flea market for 10 do...</td>\n",
              "    </tr>\n",
              "    <tr>\n",
              "      <th>9</th>\n",
              "      <td>Let's make it short story. It extremly difficu...</td>\n",
              "    </tr>\n",
              "    <tr>\n",
              "      <th>10</th>\n",
              "      <td>I purchased this product because I could never...</td>\n",
              "    </tr>\n",
              "  </tbody>\n",
              "</table>\n",
              "</div>"
            ],
            "text/plain": [
              "                                           reviewText\n",
              "0        I've been using these for over a year now.  \n",
              "2    I have owned these for over two years and wor...\n",
              "3   I'll be there within 5 min. Shouldn't you be t...\n",
              "4   I ** [bought] these thinking they were the tic...\n",
              "5   #Work Good. I do not have another reference. Y...\n",
              "6   भारत Not as immersive and noise-cancelling as ...\n",
              "7   DINUVI  I own these and the Bose Quiet Comfort...\n",
              "8   �� I bought these at the flea market for 10 do...\n",
              "9   Let's make it short story. It extremly difficu...\n",
              "10  I purchased this product because I could never..."
            ]
          },
          "metadata": {
            "tags": []
          },
          "execution_count": 12
        }
      ]
    },
    {
      "cell_type": "code",
      "metadata": {
        "colab": {
          "base_uri": "https://localhost:8080/",
          "height": 359
        },
        "id": "8DjhYX7kXAc9",
        "outputId": "06a8265e-f6b0-4669-ca0a-a5e7e6f8628d"
      },
      "source": [
        "# >>>>>>>>>>>>>>>>>>>>>>>>>>>>>> removing square brackets and the inside of the square bracket >>>>>>>>>>>>>>>>>>>>>>>>>>>>>>\n",
        "\n",
        "def remove_between_square_brackets(reviewText):\n",
        "    return re.sub('\\[[^]]*\\]', '', str(reviewText))\n",
        "df['reviewText'] = df['reviewText'].apply(remove_between_square_brackets)\n",
        "df.head(10)"
      ],
      "execution_count": null,
      "outputs": [
        {
          "output_type": "execute_result",
          "data": {
            "text/html": [
              "<div>\n",
              "<style scoped>\n",
              "    .dataframe tbody tr th:only-of-type {\n",
              "        vertical-align: middle;\n",
              "    }\n",
              "\n",
              "    .dataframe tbody tr th {\n",
              "        vertical-align: top;\n",
              "    }\n",
              "\n",
              "    .dataframe thead th {\n",
              "        text-align: right;\n",
              "    }\n",
              "</style>\n",
              "<table border=\"1\" class=\"dataframe\">\n",
              "  <thead>\n",
              "    <tr style=\"text-align: right;\">\n",
              "      <th></th>\n",
              "      <th>reviewText</th>\n",
              "    </tr>\n",
              "  </thead>\n",
              "  <tbody>\n",
              "    <tr>\n",
              "      <th>0</th>\n",
              "      <td>I've been using these for over a year now.</td>\n",
              "    </tr>\n",
              "    <tr>\n",
              "      <th>2</th>\n",
              "      <td>I have owned these for over two years and wor...</td>\n",
              "    </tr>\n",
              "    <tr>\n",
              "      <th>3</th>\n",
              "      <td>I'll be there within 5 min. Shouldn't you be t...</td>\n",
              "    </tr>\n",
              "    <tr>\n",
              "      <th>4</th>\n",
              "      <td>I **  these thinking they were the ticket to n...</td>\n",
              "    </tr>\n",
              "    <tr>\n",
              "      <th>5</th>\n",
              "      <td>#Work Good. I do not have another reference. Y...</td>\n",
              "    </tr>\n",
              "    <tr>\n",
              "      <th>6</th>\n",
              "      <td>भारत Not as immersive and noise-cancelling as ...</td>\n",
              "    </tr>\n",
              "    <tr>\n",
              "      <th>7</th>\n",
              "      <td>DINUVI  I own these and the Bose Quiet Comfort...</td>\n",
              "    </tr>\n",
              "    <tr>\n",
              "      <th>8</th>\n",
              "      <td>�� I bought these at the flea market for 10 do...</td>\n",
              "    </tr>\n",
              "    <tr>\n",
              "      <th>9</th>\n",
              "      <td>Let's make it short story. It extremly difficu...</td>\n",
              "    </tr>\n",
              "    <tr>\n",
              "      <th>10</th>\n",
              "      <td>I purchased this product because I could never...</td>\n",
              "    </tr>\n",
              "  </tbody>\n",
              "</table>\n",
              "</div>"
            ],
            "text/plain": [
              "                                           reviewText\n",
              "0        I've been using these for over a year now.  \n",
              "2    I have owned these for over two years and wor...\n",
              "3   I'll be there within 5 min. Shouldn't you be t...\n",
              "4   I **  these thinking they were the ticket to n...\n",
              "5   #Work Good. I do not have another reference. Y...\n",
              "6   भारत Not as immersive and noise-cancelling as ...\n",
              "7   DINUVI  I own these and the Bose Quiet Comfort...\n",
              "8   �� I bought these at the flea market for 10 do...\n",
              "9   Let's make it short story. It extremly difficu...\n",
              "10  I purchased this product because I could never..."
            ]
          },
          "metadata": {
            "tags": []
          },
          "execution_count": 13
        }
      ]
    },
    {
      "cell_type": "code",
      "metadata": {
        "colab": {
          "base_uri": "https://localhost:8080/",
          "height": 359
        },
        "id": "jDi5drdwXBpd",
        "outputId": "d7543b8d-dce3-4247-9856-bcf7f5a7b02d"
      },
      "source": [
        "# >>>>>>>>>>>>>>>>>>>>>>>>>>>>>> removing Pictures/Tags/Symbols/Emojis >>>>>>>>>>>>>>>>>>>>>>>>>>>>>>\n",
        "\n",
        "def remove_emoji(reviewText):\n",
        "    emoj = re.compile(\"[\"\n",
        "        u\"\\U0001F600-\\U0001F64F\"  # emoticons\n",
        "        u\"\\U0001F300-\\U0001F5FF\"  # symbols & pictographs\n",
        "        u\"\\U0001F680-\\U0001F6FF\"  # transport & map symbols\n",
        "        u\"\\U0001F1E0-\\U0001F1FF\"  # flags (iOS)\n",
        "        u\"\\U00002500-\\U00002BEF\"  # chinese char\n",
        "        u\"\\U00002702-\\U000027B0\"\n",
        "        u\"\\U00002702-\\U000027B0\"\n",
        "        u\"\\U000024C2-\\U0001F251\"\n",
        "        u\"\\U0001f926-\\U0001f937\"\n",
        "        u\"\\U00010000-\\U0010ffff\"\n",
        "        u\"\\u2640-\\u2642\" \n",
        "        u\"\\u2600-\\u2B55\"\n",
        "        u\"\\u200d\"\n",
        "        u\"\\u23cf\"\n",
        "        u\"\\u23e9\"\n",
        "        u\"\\u231a\"\n",
        "        u\"\\ufe0f\"  # dingbats\n",
        "        u\"\\u3030\"\n",
        "                      \"]+\", re.UNICODE)\n",
        "    return re.sub(emoj, '', str(reviewText))\n",
        "\n",
        "df['reviewText'] = df['reviewText'].apply(remove_emoji)\n",
        "df.head(10)"
      ],
      "execution_count": null,
      "outputs": [
        {
          "output_type": "execute_result",
          "data": {
            "text/html": [
              "<div>\n",
              "<style scoped>\n",
              "    .dataframe tbody tr th:only-of-type {\n",
              "        vertical-align: middle;\n",
              "    }\n",
              "\n",
              "    .dataframe tbody tr th {\n",
              "        vertical-align: top;\n",
              "    }\n",
              "\n",
              "    .dataframe thead th {\n",
              "        text-align: right;\n",
              "    }\n",
              "</style>\n",
              "<table border=\"1\" class=\"dataframe\">\n",
              "  <thead>\n",
              "    <tr style=\"text-align: right;\">\n",
              "      <th></th>\n",
              "      <th>reviewText</th>\n",
              "    </tr>\n",
              "  </thead>\n",
              "  <tbody>\n",
              "    <tr>\n",
              "      <th>0</th>\n",
              "      <td>I've been using these for over a year now.</td>\n",
              "    </tr>\n",
              "    <tr>\n",
              "      <th>2</th>\n",
              "      <td>I have owned these for over two years and wor...</td>\n",
              "    </tr>\n",
              "    <tr>\n",
              "      <th>3</th>\n",
              "      <td>I'll be there within 5 min. Shouldn't you be t...</td>\n",
              "    </tr>\n",
              "    <tr>\n",
              "      <th>4</th>\n",
              "      <td>I **  these thinking they were the ticket to n...</td>\n",
              "    </tr>\n",
              "    <tr>\n",
              "      <th>5</th>\n",
              "      <td>#Work Good. I do not have another reference. Y...</td>\n",
              "    </tr>\n",
              "    <tr>\n",
              "      <th>6</th>\n",
              "      <td>भारत Not as immersive and noise-cancelling as ...</td>\n",
              "    </tr>\n",
              "    <tr>\n",
              "      <th>7</th>\n",
              "      <td>DINUVI  I own these and the Bose Quiet Comfort...</td>\n",
              "    </tr>\n",
              "    <tr>\n",
              "      <th>8</th>\n",
              "      <td>I bought these at the flea market for 10 doll...</td>\n",
              "    </tr>\n",
              "    <tr>\n",
              "      <th>9</th>\n",
              "      <td>Let's make it short story. It extremly difficu...</td>\n",
              "    </tr>\n",
              "    <tr>\n",
              "      <th>10</th>\n",
              "      <td>I purchased this product because I could never...</td>\n",
              "    </tr>\n",
              "  </tbody>\n",
              "</table>\n",
              "</div>"
            ],
            "text/plain": [
              "                                           reviewText\n",
              "0        I've been using these for over a year now.  \n",
              "2    I have owned these for over two years and wor...\n",
              "3   I'll be there within 5 min. Shouldn't you be t...\n",
              "4   I **  these thinking they were the ticket to n...\n",
              "5   #Work Good. I do not have another reference. Y...\n",
              "6   भारत Not as immersive and noise-cancelling as ...\n",
              "7   DINUVI  I own these and the Bose Quiet Comfort...\n",
              "8    I bought these at the flea market for 10 doll...\n",
              "9   Let's make it short story. It extremly difficu...\n",
              "10  I purchased this product because I could never..."
            ]
          },
          "metadata": {
            "tags": []
          },
          "execution_count": 7
        }
      ]
    },
    {
      "cell_type": "code",
      "metadata": {
        "colab": {
          "base_uri": "https://localhost:8080/",
          "height": 359
        },
        "id": "_zN5lEJEXHvx",
        "outputId": "404a24e7-250d-4f4a-ce23-8996a216fcff"
      },
      "source": [
        "# >>>>>>>>>>>>>>>>>>>>>>>>>>>>>> removing non ascii >>>>>>>>>>>>>>>>>>>>>>>>>>>>>>\n",
        "df['reviewText'] = [w.encode(\"ascii\", \"ignore\").decode() for w in df['reviewText']]\n",
        "df"
      ],
      "execution_count": null,
      "outputs": [
        {
          "output_type": "execute_result",
          "data": {
            "text/html": [
              "<div>\n",
              "<style scoped>\n",
              "    .dataframe tbody tr th:only-of-type {\n",
              "        vertical-align: middle;\n",
              "    }\n",
              "\n",
              "    .dataframe tbody tr th {\n",
              "        vertical-align: top;\n",
              "    }\n",
              "\n",
              "    .dataframe thead th {\n",
              "        text-align: right;\n",
              "    }\n",
              "</style>\n",
              "<table border=\"1\" class=\"dataframe\">\n",
              "  <thead>\n",
              "    <tr style=\"text-align: right;\">\n",
              "      <th></th>\n",
              "      <th>reviewText</th>\n",
              "    </tr>\n",
              "  </thead>\n",
              "  <tbody>\n",
              "    <tr>\n",
              "      <th>0</th>\n",
              "      <td>I've been using these for over a year now.</td>\n",
              "    </tr>\n",
              "    <tr>\n",
              "      <th>2</th>\n",
              "      <td>I have owned these for over two years and wor...</td>\n",
              "    </tr>\n",
              "    <tr>\n",
              "      <th>3</th>\n",
              "      <td>I'll be there within 5 min. Shouldn't you be t...</td>\n",
              "    </tr>\n",
              "    <tr>\n",
              "      <th>4</th>\n",
              "      <td>I **  these thinking they were the ticket to n...</td>\n",
              "    </tr>\n",
              "    <tr>\n",
              "      <th>5</th>\n",
              "      <td>#Work Good. I do not have another reference. Y...</td>\n",
              "    </tr>\n",
              "    <tr>\n",
              "      <th>6</th>\n",
              "      <td>Not as immersive and noise-cancelling as othe...</td>\n",
              "    </tr>\n",
              "    <tr>\n",
              "      <th>7</th>\n",
              "      <td>DINUVI  I own these and the Bose Quiet Comfort...</td>\n",
              "    </tr>\n",
              "    <tr>\n",
              "      <th>8</th>\n",
              "      <td>I bought these at the flea market for 10 doll...</td>\n",
              "    </tr>\n",
              "    <tr>\n",
              "      <th>9</th>\n",
              "      <td>Let's make it short story. It extremly difficu...</td>\n",
              "    </tr>\n",
              "    <tr>\n",
              "      <th>10</th>\n",
              "      <td>I purchased this product because I could never...</td>\n",
              "    </tr>\n",
              "  </tbody>\n",
              "</table>\n",
              "</div>"
            ],
            "text/plain": [
              "                                           reviewText\n",
              "0        I've been using these for over a year now.  \n",
              "2    I have owned these for over two years and wor...\n",
              "3   I'll be there within 5 min. Shouldn't you be t...\n",
              "4   I **  these thinking they were the ticket to n...\n",
              "5   #Work Good. I do not have another reference. Y...\n",
              "6    Not as immersive and noise-cancelling as othe...\n",
              "7   DINUVI  I own these and the Bose Quiet Comfort...\n",
              "8    I bought these at the flea market for 10 doll...\n",
              "9   Let's make it short story. It extremly difficu...\n",
              "10  I purchased this product because I could never..."
            ]
          },
          "metadata": {
            "tags": []
          },
          "execution_count": 15
        }
      ]
    },
    {
      "cell_type": "code",
      "metadata": {
        "colab": {
          "base_uri": "https://localhost:8080/",
          "height": 359
        },
        "id": "izbISpB-XNLO",
        "outputId": "ca751b7e-22a7-45e7-d78d-703cdf0941bb"
      },
      "source": [
        "# >>>>>>>>>>>>>>>>>>>>>>>>>>>>>> convert to lower case >>>>>>>>>>>>>>>>>>>>>>>>>>>>>>\n",
        "df['reviewText'] = [w.lower() for w in df['reviewText']]\n",
        "df"
      ],
      "execution_count": null,
      "outputs": [
        {
          "output_type": "execute_result",
          "data": {
            "text/html": [
              "<div>\n",
              "<style scoped>\n",
              "    .dataframe tbody tr th:only-of-type {\n",
              "        vertical-align: middle;\n",
              "    }\n",
              "\n",
              "    .dataframe tbody tr th {\n",
              "        vertical-align: top;\n",
              "    }\n",
              "\n",
              "    .dataframe thead th {\n",
              "        text-align: right;\n",
              "    }\n",
              "</style>\n",
              "<table border=\"1\" class=\"dataframe\">\n",
              "  <thead>\n",
              "    <tr style=\"text-align: right;\">\n",
              "      <th></th>\n",
              "      <th>reviewText</th>\n",
              "    </tr>\n",
              "  </thead>\n",
              "  <tbody>\n",
              "    <tr>\n",
              "      <th>0</th>\n",
              "      <td>i've been using these for over a year now.</td>\n",
              "    </tr>\n",
              "    <tr>\n",
              "      <th>2</th>\n",
              "      <td>i have owned these for over two years and wor...</td>\n",
              "    </tr>\n",
              "    <tr>\n",
              "      <th>3</th>\n",
              "      <td>i'll be there within 5 min. shouldn't you be t...</td>\n",
              "    </tr>\n",
              "    <tr>\n",
              "      <th>4</th>\n",
              "      <td>i **  these thinking they were the ticket to n...</td>\n",
              "    </tr>\n",
              "    <tr>\n",
              "      <th>5</th>\n",
              "      <td>#work good. i do not have another reference. y...</td>\n",
              "    </tr>\n",
              "    <tr>\n",
              "      <th>6</th>\n",
              "      <td>not as immersive and noise-cancelling as othe...</td>\n",
              "    </tr>\n",
              "    <tr>\n",
              "      <th>7</th>\n",
              "      <td>dinuvi  i own these and the bose quiet comfort...</td>\n",
              "    </tr>\n",
              "    <tr>\n",
              "      <th>8</th>\n",
              "      <td>i bought these at the flea market for 10 doll...</td>\n",
              "    </tr>\n",
              "    <tr>\n",
              "      <th>9</th>\n",
              "      <td>let's make it short story. it extremly difficu...</td>\n",
              "    </tr>\n",
              "    <tr>\n",
              "      <th>10</th>\n",
              "      <td>i purchased this product because i could never...</td>\n",
              "    </tr>\n",
              "  </tbody>\n",
              "</table>\n",
              "</div>"
            ],
            "text/plain": [
              "                                           reviewText\n",
              "0        i've been using these for over a year now.  \n",
              "2    i have owned these for over two years and wor...\n",
              "3   i'll be there within 5 min. shouldn't you be t...\n",
              "4   i **  these thinking they were the ticket to n...\n",
              "5   #work good. i do not have another reference. y...\n",
              "6    not as immersive and noise-cancelling as othe...\n",
              "7   dinuvi  i own these and the bose quiet comfort...\n",
              "8    i bought these at the flea market for 10 doll...\n",
              "9   let's make it short story. it extremly difficu...\n",
              "10  i purchased this product because i could never..."
            ]
          },
          "metadata": {
            "tags": []
          },
          "execution_count": 16
        }
      ]
    },
    {
      "cell_type": "code",
      "metadata": {
        "colab": {
          "base_uri": "https://localhost:8080/",
          "height": 359
        },
        "id": "RjNyfjm1XCKj",
        "outputId": "e7aa1af1-633a-407e-d768-5e3759c9b5ee"
      },
      "source": [
        "# >>>>>>>>>>>>>>>>>>>>>>>>>>>>>> expand contractions >>>>>>>>>>>>>>>>>>>>>>>>>>>>>>\n",
        "def expand_contractions(reviewText):\n",
        "    contractionsPattern = re.compile('({})'.format('|'.join(CONTRACTION_MAP.keys())),flags=re.IGNORECASE|re.DOTALL)\n",
        "    def expand_match(contraction):\n",
        "        match = contraction.group(0)\n",
        "        firstChar = match[0]\n",
        "        expandedContraction = CONTRACTION_MAP.get(match) \\\n",
        "            if CONTRACTION_MAP.get(match) \\\n",
        "            else CONTRACTION_MAP.get(match.lower())\n",
        "        expandedContraction = firstChar+expandedContraction[1:]\n",
        "        return expandedContraction\n",
        "    reviewText = contractionsPattern.sub(expand_match, str(reviewText))\n",
        "    reviewText = re.sub(\"'\", \"\", reviewText)\n",
        "    return reviewText\n",
        "\n",
        "df['reviewText']=df['reviewText'].apply(expand_contractions)\n",
        "df"
      ],
      "execution_count": null,
      "outputs": [
        {
          "output_type": "execute_result",
          "data": {
            "text/html": [
              "<div>\n",
              "<style scoped>\n",
              "    .dataframe tbody tr th:only-of-type {\n",
              "        vertical-align: middle;\n",
              "    }\n",
              "\n",
              "    .dataframe tbody tr th {\n",
              "        vertical-align: top;\n",
              "    }\n",
              "\n",
              "    .dataframe thead th {\n",
              "        text-align: right;\n",
              "    }\n",
              "</style>\n",
              "<table border=\"1\" class=\"dataframe\">\n",
              "  <thead>\n",
              "    <tr style=\"text-align: right;\">\n",
              "      <th></th>\n",
              "      <th>reviewText</th>\n",
              "    </tr>\n",
              "  </thead>\n",
              "  <tbody>\n",
              "    <tr>\n",
              "      <th>0</th>\n",
              "      <td>i have been using these for over a year now.</td>\n",
              "    </tr>\n",
              "    <tr>\n",
              "      <th>2</th>\n",
              "      <td>i have owned these for over two years and wor...</td>\n",
              "    </tr>\n",
              "    <tr>\n",
              "      <th>3</th>\n",
              "      <td>i will be there within 5 min. should not you b...</td>\n",
              "    </tr>\n",
              "    <tr>\n",
              "      <th>4</th>\n",
              "      <td>i **  these thinking they were the ticket to n...</td>\n",
              "    </tr>\n",
              "    <tr>\n",
              "      <th>5</th>\n",
              "      <td>#work good. i do not have another reference. y...</td>\n",
              "    </tr>\n",
              "    <tr>\n",
              "      <th>6</th>\n",
              "      <td>not as immersive and noise-cancelling as othe...</td>\n",
              "    </tr>\n",
              "    <tr>\n",
              "      <th>7</th>\n",
              "      <td>dinuvi  i own these and the bose quiet comfort...</td>\n",
              "    </tr>\n",
              "    <tr>\n",
              "      <th>8</th>\n",
              "      <td>i bought these at the flea market for 10 doll...</td>\n",
              "    </tr>\n",
              "    <tr>\n",
              "      <th>9</th>\n",
              "      <td>let us make it short story. it extremly diffic...</td>\n",
              "    </tr>\n",
              "    <tr>\n",
              "      <th>10</th>\n",
              "      <td>i purchased this product because i could never...</td>\n",
              "    </tr>\n",
              "  </tbody>\n",
              "</table>\n",
              "</div>"
            ],
            "text/plain": [
              "                                           reviewText\n",
              "0      i have been using these for over a year now.  \n",
              "2    i have owned these for over two years and wor...\n",
              "3   i will be there within 5 min. should not you b...\n",
              "4   i **  these thinking they were the ticket to n...\n",
              "5   #work good. i do not have another reference. y...\n",
              "6    not as immersive and noise-cancelling as othe...\n",
              "7   dinuvi  i own these and the bose quiet comfort...\n",
              "8    i bought these at the flea market for 10 doll...\n",
              "9   let us make it short story. it extremly diffic...\n",
              "10  i purchased this product because i could never..."
            ]
          },
          "metadata": {
            "tags": []
          },
          "execution_count": 18
        }
      ]
    },
    {
      "cell_type": "code",
      "metadata": {
        "colab": {
          "base_uri": "https://localhost:8080/",
          "height": 359
        },
        "id": "5LAS3klxIGzq",
        "outputId": "9a1f9e10-0560-4905-8e97-d43b9f7a4dab"
      },
      "source": [
        "# >>>>>>>>>>>>>>>>>>>>>>>>>>>>>> tokenizing sentence >>>>>>>>>>>>>>>>>>>>>>>>>>>>>>\n",
        "sentence_all = []\n",
        "for index, row in df.iterrows():\n",
        "  sentences_with_feature = []\n",
        "  for sen in sent_tokenize(row['reviewText']):\n",
        "    sentences_with_feature.append(sen)\n",
        "  sentence_all.append(sentences_with_feature)\n",
        "\n",
        "list_of_tuples = list(zip(sentence_all)) \n",
        "df_sentences = pd.DataFrame(list_of_tuples,columns = ['reviewText'])\n",
        "df_sentences"
      ],
      "execution_count": null,
      "outputs": [
        {
          "output_type": "execute_result",
          "data": {
            "text/html": [
              "<div>\n",
              "<style scoped>\n",
              "    .dataframe tbody tr th:only-of-type {\n",
              "        vertical-align: middle;\n",
              "    }\n",
              "\n",
              "    .dataframe tbody tr th {\n",
              "        vertical-align: top;\n",
              "    }\n",
              "\n",
              "    .dataframe thead th {\n",
              "        text-align: right;\n",
              "    }\n",
              "</style>\n",
              "<table border=\"1\" class=\"dataframe\">\n",
              "  <thead>\n",
              "    <tr style=\"text-align: right;\">\n",
              "      <th></th>\n",
              "      <th>reviewText</th>\n",
              "    </tr>\n",
              "  </thead>\n",
              "  <tbody>\n",
              "    <tr>\n",
              "      <th>0</th>\n",
              "      <td>[i have been using these for over a year now.]</td>\n",
              "    </tr>\n",
              "    <tr>\n",
              "      <th>1</th>\n",
              "      <td>[ i have owned these for over two years and wo...</td>\n",
              "    </tr>\n",
              "    <tr>\n",
              "      <th>2</th>\n",
              "      <td>[i will be there within 5 min., should not you...</td>\n",
              "    </tr>\n",
              "    <tr>\n",
              "      <th>3</th>\n",
              "      <td>[i **  these thinking they were the ticket to ...</td>\n",
              "    </tr>\n",
              "    <tr>\n",
              "      <th>4</th>\n",
              "      <td>[#work good., i do not have another reference....</td>\n",
              "    </tr>\n",
              "    <tr>\n",
              "      <th>5</th>\n",
              "      <td>[ not as immersive and noise-cancelling as oth...</td>\n",
              "    </tr>\n",
              "    <tr>\n",
              "      <th>6</th>\n",
              "      <td>[dinuvi  i own these and the bose quiet comfor...</td>\n",
              "    </tr>\n",
              "    <tr>\n",
              "      <th>7</th>\n",
              "      <td>[ i bought these at the flea market for 10 dol...</td>\n",
              "    </tr>\n",
              "    <tr>\n",
              "      <th>8</th>\n",
              "      <td>[let us make it short story., it extremly diff...</td>\n",
              "    </tr>\n",
              "    <tr>\n",
              "      <th>9</th>\n",
              "      <td>[i purchased this product because i could neve...</td>\n",
              "    </tr>\n",
              "  </tbody>\n",
              "</table>\n",
              "</div>"
            ],
            "text/plain": [
              "                                          reviewText\n",
              "0     [i have been using these for over a year now.]\n",
              "1  [ i have owned these for over two years and wo...\n",
              "2  [i will be there within 5 min., should not you...\n",
              "3  [i **  these thinking they were the ticket to ...\n",
              "4  [#work good., i do not have another reference....\n",
              "5  [ not as immersive and noise-cancelling as oth...\n",
              "6  [dinuvi  i own these and the bose quiet comfor...\n",
              "7  [ i bought these at the flea market for 10 dol...\n",
              "8  [let us make it short story., it extremly diff...\n",
              "9  [i purchased this product because i could neve..."
            ]
          },
          "metadata": {
            "tags": []
          },
          "execution_count": 29
        }
      ]
    },
    {
      "cell_type": "code",
      "metadata": {
        "colab": {
          "base_uri": "https://localhost:8080/",
          "height": 80
        },
        "id": "TPIHEkT8MrKk",
        "outputId": "b0d93aeb-35cc-40b4-b152-813eb86f6575"
      },
      "source": [
        "for index, row in df_sentences.iterrows():\n",
        "\n",
        "  list_of_tuples = list(zip(df_sentences)) \n",
        "  df_sentences_word = pd.DataFrame(list_of_tuples,columns = ['reviewText'])\n",
        "\n",
        "  # wordTokenize(row['reviewText'])\n",
        "df_sentences_word"
      ],
      "execution_count": null,
      "outputs": [
        {
          "output_type": "execute_result",
          "data": {
            "text/html": [
              "<div>\n",
              "<style scoped>\n",
              "    .dataframe tbody tr th:only-of-type {\n",
              "        vertical-align: middle;\n",
              "    }\n",
              "\n",
              "    .dataframe tbody tr th {\n",
              "        vertical-align: top;\n",
              "    }\n",
              "\n",
              "    .dataframe thead th {\n",
              "        text-align: right;\n",
              "    }\n",
              "</style>\n",
              "<table border=\"1\" class=\"dataframe\">\n",
              "  <thead>\n",
              "    <tr style=\"text-align: right;\">\n",
              "      <th></th>\n",
              "      <th>reviewText</th>\n",
              "    </tr>\n",
              "  </thead>\n",
              "  <tbody>\n",
              "    <tr>\n",
              "      <th>0</th>\n",
              "      <td>reviewText</td>\n",
              "    </tr>\n",
              "  </tbody>\n",
              "</table>\n",
              "</div>"
            ],
            "text/plain": [
              "   reviewText\n",
              "0  reviewText"
            ]
          },
          "metadata": {
            "tags": []
          },
          "execution_count": 30
        }
      ]
    },
    {
      "cell_type": "code",
      "metadata": {
        "id": "d4wlI4v57Kdk"
      },
      "source": [
        "# >>>>>>>>>>>>>>>>>>>>>>>>>>>>>> tokenizing words >>>>>>>>>>>>>>>>>>>>>>>>>>>>>>\n",
        "def wordTokenize(sentence):\n",
        "  tokens = [w for t in (sentence.apply(word_tokenize)) for w in t]\n",
        "  return tokens"
      ],
      "execution_count": null,
      "outputs": []
    },
    {
      "cell_type": "code",
      "metadata": {
        "id": "hezYC-1VX9We"
      },
      "source": [
        "s"
      ],
      "execution_count": null,
      "outputs": []
    },
    {
      "cell_type": "code",
      "metadata": {
        "id": "KA-6hB7HXQCq"
      },
      "source": [
        "# >>>>>>>>>>>>>>>>>>>>>>>>>>>>>> replacing numbers with string  >>>>>>>>>>>>>>>>>>>>>>>>>>>>>>\n",
        "def stringNumbers(sentence):\n",
        "  p = inflect.engine()\n",
        "  stringNumbers = []\n",
        "  for word in removedPunctuation:\n",
        "      if word.isdigit():\n",
        "  #         new_word = num2word.to_card(15)\n",
        "          new_word = p.number_to_words(word)\n",
        "          stringNumbers.append(new_word)\n",
        "      else:\n",
        "          stringNumbers.append(word)\n",
        "  # stringNumbers = [w.lower() for w in removedPunctuation]\n",
        "  return stringNumbers"
      ],
      "execution_count": null,
      "outputs": []
    },
    {
      "cell_type": "code",
      "metadata": {
        "id": "QaNEo8AjXQIK"
      },
      "source": [
        "# >>>>>>>>>>>>>>>>>>>>>>>>>>>>>> removing stopwords >>>>>>>>>>>>>>>>>>>>>>>>>>>>>>\n",
        "def stopwords(sentence):\n",
        "  stop_words = set(stopwords.words('english'))\n",
        "  removedStopwords = [w for w in stringNumbers if not w in stop_words]\n",
        "  return removedStopwords"
      ],
      "execution_count": null,
      "outputs": []
    },
    {
      "cell_type": "code",
      "metadata": {
        "id": "9J5WYEGRXQMu"
      },
      "source": [
        "# >>>>>>>>>>>>>>>>>>>>>>>>>>>>>> stemming words >>>>>>>>>>>>>>>>>>>>>>>>>>>>>>\n",
        "def stemmer(sentence):\n",
        "  stemmer = PorterStemmer()\n",
        "  # stemmer = LancasterStemmer()\n",
        "  stems = []\n",
        "  for word in removedStopwords:\n",
        "      stem = stemmer.stem(word)\n",
        "      stems.append(stem)\n",
        "  return stems"
      ],
      "execution_count": null,
      "outputs": []
    },
    {
      "cell_type": "code",
      "metadata": {
        "id": "uGyCK3T7XQR4"
      },
      "source": [
        "# >>>>>>>>>>>>>>>>>>>>>>>>>>>>>> lemmatize_verbs >>>>>>>>>>>>>>>>>>>>>>>>>>>>>>\n",
        "def lemmatizer():\n",
        "  lemmatizer = WordNetLemmatizer()\n",
        "  lemmas = []\n",
        "  for word in stems:\n",
        "      lemma = lemmatizer.lemmatize(word, pos='v')\n",
        "      lemmas.append(lemma)\n",
        "  return lemmas"
      ],
      "execution_count": null,
      "outputs": []
    },
    {
      "cell_type": "code",
      "metadata": {
        "id": "D_BAn_QLfuMt"
      },
      "source": [
        "# saving the dataframe \n",
        "dataFrame = pd.DataFrame(lemmas) \n",
        "\n",
        "list_of_tuples = list(zip(lemmas)) \n",
        "df_audio_sentences = pd.DataFrame(list_of_tuples,columns = ['review'])\n",
        "\n",
        "df_audio_sentences.to_csv('testing_cleaned_3.csv') \n",
        "df_audio_sentences"
      ],
      "execution_count": null,
      "outputs": []
    }
  ]
}