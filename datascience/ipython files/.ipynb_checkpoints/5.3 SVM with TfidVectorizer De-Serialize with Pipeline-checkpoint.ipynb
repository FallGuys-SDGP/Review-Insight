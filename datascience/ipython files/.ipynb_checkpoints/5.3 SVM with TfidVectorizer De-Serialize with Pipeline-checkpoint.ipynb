{
 "cells": [
  {
   "cell_type": "code",
   "execution_count": 1,
   "metadata": {},
   "outputs": [],
   "source": [
    "import pandas as pd\n",
    "import pickle"
   ]
  },
  {
   "cell_type": "code",
   "execution_count": 2,
   "metadata": {},
   "outputs": [],
   "source": [
    "filePath = '../dataset/Reviews only (Sentiment).csv'\n",
    "df = pd.read_csv(filePath)\n",
    "# reviewDf = df.drop(['overall', 'vote', 'verified', 'reviewerID', 'asin', 'summary', 'unixReviewTime', 'brand','title'], axis=\"columns\")"
   ]
  },
  {
   "cell_type": "code",
   "execution_count": 3,
   "metadata": {},
   "outputs": [],
   "source": [
    "# x = reviewDf.iloc[:,0].values\n",
    "# x[0]\n",
    "x=df['reviewText']"
   ]
  },
  {
   "cell_type": "code",
   "execution_count": 4,
   "metadata": {},
   "outputs": [
    {
     "data": {
      "text/plain": [
       "\"I've been using these for over a year now.  Basically, in a quiet environment these sound pretty good.  They aren't as good as similarly-priced studio-class headsets, but you're paying for the noise cancelling.  The raw capability is pretty decent, and has acceptable detail in treble, vocal, and bass ranges.\\n\\nThe noise cancelling works pretty well.  I've taken these on several intercontinental flights and they do a decent job of blocking out engine rumble and screaming kids.  They also do a decent job of blocking out adult human voices, which is nice in the office.\\n\\nHowever, I must have pretty big ears, and I've found that the foam cups aren't quite thick enough to adequately push the driver away from my outer ear.  After 2 or 3 hours of use my ears start to ache a bit.\\n\\nThe cord is plenty long, and can be disconnected in the middle to link to an optional Sony wired remote control.  An adapter to convert the standard 1/8th inch stereo jack to the dual 1/8th inch jacks in many airplane seats is included.\\n\\nThe thing that I don't like about this is that I find these uncomfortable when I try to lean my head against the window in an airplane and sleep.  I think that the MDR-NC11's might have been a better choice in that regard.\\n\\nThey're also kind of bulky unless you have a large carry-on to keep them in.  I'm paranoid about putting these in the seat pocket in front of me, since the MDR-NC20's come with a soft bag instead of a rigid clamshell like the Bose headsets.  I haven't had any spills yet, but active travellers may wish to find a case that's more rigid.\\n\\nAll in all, I'm pretty happy with these.  The natural audio sound and the noise cancelling are plenty sufficient for the price... I couldn't justify the $300 for Bose unless I needed the protective clamshell and had ears that fit perfectly into their earcups.\""
      ]
     },
     "execution_count": 4,
     "metadata": {},
     "output_type": "execute_result"
    }
   ],
   "source": [
    "x[0]"
   ]
  },
  {
   "cell_type": "code",
   "execution_count": null,
   "metadata": {},
   "outputs": [],
   "source": [
    "# load the model from disk\n",
    "filename = '../ML models/serialized_pipeline_model_tfid.pkl'\n",
    "loaded_pipeline = pickle.load(open(filename,'rb'))"
   ]
  },
  {
   "cell_type": "code",
   "execution_count": null,
   "metadata": {},
   "outputs": [],
   "source": [
    "prdict = loaded_pipeline.predict(x.values.astype('U'))"
   ]
  },
  {
   "cell_type": "code",
   "execution_count": null,
   "metadata": {},
   "outputs": [],
   "source": [
    "# print(prdict);\n",
    "c=0\n",
    "for item in x:\n",
    "    print('|| '+prdict[c]+' || >',x[c],'\\n')\n",
    "    c=c+1;"
   ]
  }
 ],
 "metadata": {
  "kernelspec": {
   "display_name": "Python 3",
   "language": "python",
   "name": "python3"
  },
  "language_info": {
   "codemirror_mode": {
    "name": "ipython",
    "version": 3
   },
   "file_extension": ".py",
   "mimetype": "text/x-python",
   "name": "python",
   "nbconvert_exporter": "python",
   "pygments_lexer": "ipython3",
   "version": "3.8.3"
  }
 },
 "nbformat": 4,
 "nbformat_minor": 4
}
