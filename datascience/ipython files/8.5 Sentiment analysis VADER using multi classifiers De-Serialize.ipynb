{
  "nbformat": 4,
  "nbformat_minor": 0,
  "metadata": {
    "kernelspec": {
      "display_name": "Python 3",
      "language": "python",
      "name": "python3"
    },
    "language_info": {
      "codemirror_mode": {
        "name": "ipython",
        "version": 3
      },
      "file_extension": ".py",
      "mimetype": "text/x-python",
      "name": "python",
      "nbconvert_exporter": "python",
      "pygments_lexer": "ipython3",
      "version": "3.8.5"
    },
    "colab": {
      "name": "8.5 Sentiment analysis VADER using multi classifiers De-Serialize.ipynb",
      "provenance": [],
      "collapsed_sections": [],
      "toc_visible": true
    }
  },
  "cells": [
    {
      "cell_type": "code",
      "metadata": {
        "id": "L62k9EOT0c-X"
      },
      "source": [
        "import pandas as pd\n",
        "import pickle"
      ],
      "execution_count": 2,
      "outputs": []
    },
    {
      "cell_type": "code",
      "metadata": {
        "id": "97nja3iI0c-5"
      },
      "source": [
        "filePath = '/content/drive/MyDrive/SDGP/Main/Data Science/Dataset/reviews_only(Sentiment)_cleaned.csv'\n",
        "df = pd.read_csv(filePath)\n",
        "# reviewDf = df.drop(['overall', 'vote', 'verified', 'reviewerID', 'asin', 'summary', 'unixReviewTime', 'brand','title'], axis=\"columns\")"
      ],
      "execution_count": 3,
      "outputs": []
    },
    {
      "cell_type": "code",
      "metadata": {
        "id": "uhwYKCn80c-9"
      },
      "source": [
        "# x = reviewDf.iloc[:,0].values\n",
        "# x[0]\n",
        "x=df['reviewText']"
      ],
      "execution_count": 4,
      "outputs": []
    },
    {
      "cell_type": "code",
      "metadata": {
        "colab": {
          "base_uri": "https://localhost:8080/"
        },
        "id": "p7g2Rnwx28D9",
        "outputId": "d78ada49-3797-4175-e63b-c64e8255eddf"
      },
      "source": [
        "x"
      ],
      "execution_count": 5,
      "outputs": [
        {
          "output_type": "execute_result",
          "data": {
            "text/plain": [
              "0        use year basically quiet environment sound pre...\n",
              "1        own two years wear thirty time mostly plane ri...\n",
              "2        buy think ticket noisefree pleasant air travel...\n",
              "3        own years use fly two round trip week wear con...\n",
              "4        love headphone get narita airport obsess whole...\n",
              "                               ...                        \n",
              "87979    please headphone overall noise cancellation be...\n",
              "87980    good sound great noise cancellation hope barel...\n",
              "87981    headphone great job dampen sound even noise ca...\n",
              "87982    sound wise nice enough heavy base heavy anythi...\n",
              "87983    work moderate noise cancel abilities cheap mak...\n",
              "Name: reviewText, Length: 87984, dtype: object"
            ]
          },
          "metadata": {
            "tags": []
          },
          "execution_count": 5
        }
      ]
    },
    {
      "cell_type": "code",
      "metadata": {
        "id": "6fVh9xVJ0c--"
      },
      "source": [
        "# load the model from disk\n",
        "filename = '/content/serialize_sentiment_model.pkl'\n",
        "loaded_pipeline = pickle.load(open(filename,'rb'))"
      ],
      "execution_count": 6,
      "outputs": []
    },
    {
      "cell_type": "code",
      "metadata": {
        "id": "xbP2F3kX0c_A"
      },
      "source": [
        "prdict = loaded_pipeline.predict(x.values.astype('U'))\n",
        "# prdict"
      ],
      "execution_count": 7,
      "outputs": []
    },
    {
      "cell_type": "code",
      "metadata": {
        "colab": {
          "base_uri": "https://localhost:8080/"
        },
        "id": "qD0nOdiKvlZ_",
        "outputId": "4d2686ae-2d27-4fde-9c2c-b806b432570b"
      },
      "source": [
        "prdict"
      ],
      "execution_count": 8,
      "outputs": [
        {
          "output_type": "execute_result",
          "data": {
            "text/plain": [
              "array(['pos', 'pos', 'pos', ..., 'pos', 'pos', 'neu'], dtype=object)"
            ]
          },
          "metadata": {
            "tags": []
          },
          "execution_count": 8
        }
      ]
    },
    {
      "cell_type": "code",
      "metadata": {
        "id": "1wfvhAsJv6h9"
      },
      "source": [
        "print(prdict);\n",
        "c=0\n",
        "for item in x:\n",
        "    print('|| '+prdict[c]+' || >',x[c],'\\n')\n",
        "    c=c+1;"
      ],
      "execution_count": null,
      "outputs": []
    }
  ]
}