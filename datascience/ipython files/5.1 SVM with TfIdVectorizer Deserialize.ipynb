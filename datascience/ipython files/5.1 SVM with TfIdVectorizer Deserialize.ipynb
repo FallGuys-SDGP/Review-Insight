{
 "cells": [
  {
   "cell_type": "code",
   "execution_count": null,
   "metadata": {},
   "outputs": [],
   "source": [
    "import pandas as pd\n",
    "import pickle"
   ]
  },
  {
   "cell_type": "code",
   "execution_count": null,
   "metadata": {},
   "outputs": [],
   "source": [
    "filePath = '../dataset/Reviews only (Sentiment).csv'\n",
    "df = pd.read_csv(filePath)\n",
    "\n",
    "# reviewDf = df.drop(['overall', 'vote', 'verified', 'reviewTime', 'reviewerID', 'asin', 'reviewerName', 'summary', 'unixReviewTime', 'brand', 'image_y', 'title', 'description', 'also_buy', 'feature', 'rank', 'also_view', 'price'], axis=\"columns\")\n",
    "# reviewDf = df"
   ]
  },
  {
   "cell_type": "code",
   "execution_count": null,
   "metadata": {},
   "outputs": [],
   "source": [
    "# x = reviewDf.iloc[:,0].values\n",
    "# x[0]\n",
    "x=df['reviewText']"
   ]
  },
  {
   "cell_type": "code",
   "execution_count": null,
   "metadata": {},
   "outputs": [],
   "source": [
    "# load the model from disk\n",
    "filename = '../Ml models/serialized_tfidfvectorizer.pkl'\n",
    "loaded_tfidfvectorizer = pickle.load(open(filename,'rb'))\n",
    "\n",
    "filename = '../Ml models/serialized_classifier.pkl'\n",
    "loaded_classifier = pickle.load(open(filename,'rb'))"
   ]
  },
  {
   "cell_type": "code",
   "execution_count": null,
   "metadata": {},
   "outputs": [],
   "source": [
    "# vectorized = loaded_countvectorizer.transform(x)\n",
    "vectorized = loaded_tfidfvectorizer.transform(x.values.astype('U'))\n",
    "vectorized"
   ]
  },
  {
   "cell_type": "code",
   "execution_count": null,
   "metadata": {},
   "outputs": [],
   "source": [
    "prdict = loaded_classifier.predict(vectorized)"
   ]
  },
  {
   "cell_type": "code",
   "execution_count": null,
   "metadata": {},
   "outputs": [],
   "source": [
    "# print(prdict);\n",
    "c=0\n",
    "for item in x:\n",
    "    print('|| '+prdict[c]+' || >',x[c],'\\n')\n",
    "    c=c+1;"
   ]
  }
 ],
 "metadata": {
  "kernelspec": {
   "display_name": "Python 3",
   "language": "python",
   "name": "python3"
  },
  "language_info": {
   "codemirror_mode": {
    "name": "ipython",
    "version": 3
   },
   "file_extension": ".py",
   "mimetype": "text/x-python",
   "name": "python",
   "nbconvert_exporter": "python",
   "pygments_lexer": "ipython3",
   "version": "3.8.3"
  }
 },
 "nbformat": 4,
 "nbformat_minor": 4
}
