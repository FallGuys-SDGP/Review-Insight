{
 "cells": [
  {
   "cell_type": "code",
   "execution_count": 1,
   "metadata": {
    "id": "ibQuTeMGCAEA"
   },
   "outputs": [],
   "source": [
    "import os\n",
    "import json\n",
    "import gzip\n",
    "import pandas as pd\n",
    "from urllib.request import urlopen"
   ]
  },
  {
   "cell_type": "code",
   "execution_count": null,
   "metadata": {
    "id": "USavtIloCFxQ"
   },
   "outputs": [],
   "source": [
    "!wget http://deepyeti.ucsd.edu/jianmo/amazon/categoryFilesSmall/Electronics_5.json.gz"
   ]
  },
  {
   "cell_type": "code",
   "execution_count": null,
   "metadata": {
    "id": "mFud2AIgCIqF"
   },
   "outputs": [],
   "source": [
    "### load the review data\n",
    "data = []\n",
    "with gzip.open('Electronics_5.json.gz') as f:\n",
    "    for l in f:\n",
    "        data.append(json.loads(l.strip()))\n",
    "    \n",
    "# total length of list, this number equals total number of products reviews\n",
    "print(len(data))\n",
    "\n",
    "# first row of the list\n",
    "print(data[0])"
   ]
  },
  {
   "cell_type": "code",
   "execution_count": null,
   "metadata": {
    "id": "qKau6O9kCMR3"
   },
   "outputs": [],
   "source": [
    "!wget http://deepyeti.ucsd.edu/jianmo/amazon/metaFiles/meta_Electronics.json.gz"
   ]
  },
  {
   "cell_type": "code",
   "execution_count": null,
   "metadata": {
    "id": "q2vj19e5COiP"
   },
   "outputs": [],
   "source": [
    "### load the meta data\n",
    "metadata = []\n",
    "with gzip.open('meta_Electronics.json.gz') as f:\n",
    "    for l in f:\n",
    "        metadata.append(json.loads(l.strip()))\n",
    "    \n",
    "# total length of list, this number equals total number of products\n",
    "print(len(metadata))\n",
    "\n",
    "# first row of the list\n",
    "print(metadata[0])"
   ]
  },
  {
   "cell_type": "code",
   "execution_count": null,
   "metadata": {
    "id": "DhPTkFH8vJan"
   },
   "outputs": [],
   "source": [
    "# convert list into pandas dataframe\n",
    "df = pd.DataFrame.from_dict(data)\n",
    "print(len(df))"
   ]
  },
  {
   "cell_type": "code",
   "execution_count": null,
   "metadata": {
    "id": "Tr4nMZTcvQk4"
   },
   "outputs": [],
   "source": [
    "dfmeta = pd.DataFrame.from_dict(metadata)\n",
    "print(len(dfmeta))"
   ]
  },
  {
   "cell_type": "code",
   "execution_count": 51,
   "metadata": {
    "colab": {
     "base_uri": "https://localhost:8080/",
     "height": 114
    },
    "id": "wW0hnQr4vWDf",
    "outputId": "dbe22d1c-6952-4828-d233-9b6ff1c684e0"
   },
   "outputs": [
    {
     "name": "stdout",
     "output_type": "stream",
     "text": [
      "Total data: (6739590, 12)\n"
     ]
    },
    {
     "data": {
      "text/html": [
       "<div>\n",
       "<style scoped>\n",
       "    .dataframe tbody tr th:only-of-type {\n",
       "        vertical-align: middle;\n",
       "    }\n",
       "\n",
       "    .dataframe tbody tr th {\n",
       "        vertical-align: top;\n",
       "    }\n",
       "\n",
       "    .dataframe thead th {\n",
       "        text-align: right;\n",
       "    }\n",
       "</style>\n",
       "<table border=\"1\" class=\"dataframe\">\n",
       "  <thead>\n",
       "    <tr style=\"text-align: right;\">\n",
       "      <th></th>\n",
       "      <th>overall</th>\n",
       "      <th>vote</th>\n",
       "      <th>verified</th>\n",
       "      <th>reviewTime</th>\n",
       "      <th>reviewerID</th>\n",
       "      <th>asin</th>\n",
       "      <th>style</th>\n",
       "      <th>reviewerName</th>\n",
       "      <th>reviewText</th>\n",
       "      <th>summary</th>\n",
       "      <th>unixReviewTime</th>\n",
       "      <th>image</th>\n",
       "    </tr>\n",
       "  </thead>\n",
       "  <tbody>\n",
       "    <tr>\n",
       "      <th>0</th>\n",
       "      <td>5.0</td>\n",
       "      <td>67</td>\n",
       "      <td>True</td>\n",
       "      <td>09 18, 1999</td>\n",
       "      <td>AAP7PPBU72QFM</td>\n",
       "      <td>0151004714</td>\n",
       "      <td>{'Format:': ' Hardcover'}</td>\n",
       "      <td>D. C. Carrad</td>\n",
       "      <td>This is the best novel I have read in 2 or 3 y...</td>\n",
       "      <td>A star is born</td>\n",
       "      <td>937612800</td>\n",
       "      <td>NaN</td>\n",
       "    </tr>\n",
       "  </tbody>\n",
       "</table>\n",
       "</div>"
      ],
      "text/plain": [
       "   overall vote  verified  ...         summary unixReviewTime image\n",
       "0      5.0   67      True  ...  A star is born      937612800   NaN\n",
       "\n",
       "[1 rows x 12 columns]"
      ]
     },
     "execution_count": 51,
     "metadata": {
      "tags": []
     },
     "output_type": "execute_result"
    }
   ],
   "source": [
    "print (\"Total data:\", str(df.shape))\n",
    "df.head(1)"
   ]
  },
  {
   "cell_type": "code",
   "execution_count": 49,
   "metadata": {
    "colab": {
     "base_uri": "https://localhost:8080/",
     "height": 219
    },
    "id": "oo4Pqp51vYUQ",
    "outputId": "38c715c7-02b0-4e63-9463-c0d87b595543"
   },
   "outputs": [
    {
     "name": "stdout",
     "output_type": "stream",
     "text": [
      "Total metadata: (786445, 18)\n"
     ]
    },
    {
     "data": {
      "text/html": [
       "<div>\n",
       "<style scoped>\n",
       "    .dataframe tbody tr th:only-of-type {\n",
       "        vertical-align: middle;\n",
       "    }\n",
       "\n",
       "    .dataframe tbody tr th {\n",
       "        vertical-align: top;\n",
       "    }\n",
       "\n",
       "    .dataframe thead th {\n",
       "        text-align: right;\n",
       "    }\n",
       "</style>\n",
       "<table border=\"1\" class=\"dataframe\">\n",
       "  <thead>\n",
       "    <tr style=\"text-align: right;\">\n",
       "      <th></th>\n",
       "      <th>category</th>\n",
       "      <th>tech1</th>\n",
       "      <th>description</th>\n",
       "      <th>fit</th>\n",
       "      <th>title</th>\n",
       "      <th>also_buy</th>\n",
       "      <th>image</th>\n",
       "      <th>tech2</th>\n",
       "      <th>brand</th>\n",
       "      <th>feature</th>\n",
       "      <th>rank</th>\n",
       "      <th>also_view</th>\n",
       "      <th>main_cat</th>\n",
       "      <th>similar_item</th>\n",
       "      <th>date</th>\n",
       "      <th>price</th>\n",
       "      <th>asin</th>\n",
       "      <th>details</th>\n",
       "    </tr>\n",
       "  </thead>\n",
       "  <tbody>\n",
       "    <tr>\n",
       "      <th>0</th>\n",
       "      <td>[Electronics, Camera &amp;amp; Photo, Video Survei...</td>\n",
       "      <td></td>\n",
       "      <td>[The following camera brands and models have b...</td>\n",
       "      <td></td>\n",
       "      <td>Genuine Geovision 1 Channel 3rd Party NVR IP S...</td>\n",
       "      <td>[]</td>\n",
       "      <td>[https://images-na.ssl-images-amazon.com/image...</td>\n",
       "      <td></td>\n",
       "      <td>GeoVision</td>\n",
       "      <td>[Genuine Geovision 1 Channel NVR IP Software, ...</td>\n",
       "      <td>[&gt;#3,092 in Tools &amp;amp; Home Improvement &amp;gt; ...</td>\n",
       "      <td>[]</td>\n",
       "      <td>Camera &amp;amp; Photo</td>\n",
       "      <td></td>\n",
       "      <td>January 28, 2014</td>\n",
       "      <td>$65.00</td>\n",
       "      <td>0011300000</td>\n",
       "      <td>NaN</td>\n",
       "    </tr>\n",
       "  </tbody>\n",
       "</table>\n",
       "</div>"
      ],
      "text/plain": [
       "                                            category tech1  ...        asin details\n",
       "0  [Electronics, Camera &amp; Photo, Video Survei...        ...  0011300000     NaN\n",
       "\n",
       "[1 rows x 18 columns]"
      ]
     },
     "execution_count": 49,
     "metadata": {
      "tags": []
     },
     "output_type": "execute_result"
    }
   ],
   "source": [
    "print (\"Total metadata:\", str(dfmeta.shape))\n",
    "dfmeta.head(1)"
   ]
  },
  {
   "cell_type": "code",
   "execution_count": null,
   "metadata": {
    "id": "qoCnuLw8IFLk"
   },
   "outputs": [],
   "source": [
    "combined= pd.merge(df,dfmeta,on='asin',how='left')"
   ]
  },
  {
   "cell_type": "code",
   "execution_count": 50,
   "metadata": {
    "colab": {
     "base_uri": "https://localhost:8080/",
     "height": 185
    },
    "id": "Z0KH5_j1yQxP",
    "outputId": "c24a5a01-5199-453c-c208-309357fe716e"
   },
   "outputs": [
    {
     "name": "stdout",
     "output_type": "stream",
     "text": [
      "Total combined: (7056550, 29)\n"
     ]
    },
    {
     "data": {
      "text/html": [
       "<div>\n",
       "<style scoped>\n",
       "    .dataframe tbody tr th:only-of-type {\n",
       "        vertical-align: middle;\n",
       "    }\n",
       "\n",
       "    .dataframe tbody tr th {\n",
       "        vertical-align: top;\n",
       "    }\n",
       "\n",
       "    .dataframe thead th {\n",
       "        text-align: right;\n",
       "    }\n",
       "</style>\n",
       "<table border=\"1\" class=\"dataframe\">\n",
       "  <thead>\n",
       "    <tr style=\"text-align: right;\">\n",
       "      <th></th>\n",
       "      <th>overall</th>\n",
       "      <th>vote</th>\n",
       "      <th>verified</th>\n",
       "      <th>reviewTime</th>\n",
       "      <th>reviewerID</th>\n",
       "      <th>asin</th>\n",
       "      <th>style</th>\n",
       "      <th>reviewerName</th>\n",
       "      <th>reviewText</th>\n",
       "      <th>summary</th>\n",
       "      <th>unixReviewTime</th>\n",
       "      <th>image_x</th>\n",
       "      <th>category</th>\n",
       "      <th>tech1</th>\n",
       "      <th>description</th>\n",
       "      <th>fit</th>\n",
       "      <th>title</th>\n",
       "      <th>also_buy</th>\n",
       "      <th>image_y</th>\n",
       "      <th>tech2</th>\n",
       "      <th>brand</th>\n",
       "      <th>feature</th>\n",
       "      <th>rank</th>\n",
       "      <th>also_view</th>\n",
       "      <th>main_cat</th>\n",
       "      <th>similar_item</th>\n",
       "      <th>date</th>\n",
       "      <th>price</th>\n",
       "      <th>details</th>\n",
       "    </tr>\n",
       "  </thead>\n",
       "  <tbody>\n",
       "    <tr>\n",
       "      <th>0</th>\n",
       "      <td>5.0</td>\n",
       "      <td>67</td>\n",
       "      <td>True</td>\n",
       "      <td>09 18, 1999</td>\n",
       "      <td>AAP7PPBU72QFM</td>\n",
       "      <td>0151004714</td>\n",
       "      <td>{'Format:': ' Hardcover'}</td>\n",
       "      <td>D. C. Carrad</td>\n",
       "      <td>This is the best novel I have read in 2 or 3 y...</td>\n",
       "      <td>A star is born</td>\n",
       "      <td>937612800</td>\n",
       "      <td>NaN</td>\n",
       "      <td>[Electronics, eBook Readers &amp; Accessories, eBo...</td>\n",
       "      <td></td>\n",
       "      <td>[Claire Messud's piercing second novel asks qu...</td>\n",
       "      <td></td>\n",
       "      <td>The Last Life: A Novel</td>\n",
       "      <td>[0307596907, 030726419X, 0140140999]</td>\n",
       "      <td>[]</td>\n",
       "      <td></td>\n",
       "      <td>Visit Amazon's Claire Messud Page</td>\n",
       "      <td>[]</td>\n",
       "      <td>1,137,883 in Books (</td>\n",
       "      <td>[0393356051, 0307743764, 0393355098, 030727666...</td>\n",
       "      <td>Books</td>\n",
       "      <td></td>\n",
       "      <td></td>\n",
       "      <td>$13.81</td>\n",
       "      <td>NaN</td>\n",
       "    </tr>\n",
       "  </tbody>\n",
       "</table>\n",
       "</div>"
      ],
      "text/plain": [
       "   overall vote  verified   reviewTime  ... similar_item date   price details\n",
       "0      5.0   67      True  09 18, 1999  ...                    $13.81     NaN\n",
       "\n",
       "[1 rows x 29 columns]"
      ]
     },
     "execution_count": 50,
     "metadata": {
      "tags": []
     },
     "output_type": "execute_result"
    }
   ],
   "source": [
    "print (\"Total combined:\", str(combined.shape))\n",
    "combined.head(1)"
   ]
  },
  {
   "cell_type": "code",
   "execution_count": 13,
   "metadata": {
    "id": "xhqI-WEawIoS"
   },
   "outputs": [],
   "source": [
    "combined=combined.dropna(subset=['title'])"
   ]
  },
  {
   "cell_type": "code",
   "execution_count": 15,
   "metadata": {
    "id": "rMFOlFVvvwFd"
   },
   "outputs": [],
   "source": [
    "product_reviews_hp = combined[combined[\"title\"].str.contains(\"headphones|headphone|Headphones|Headphone\")]"
   ]
  },
  {
   "cell_type": "code",
   "execution_count": 52,
   "metadata": {
    "colab": {
     "base_uri": "https://localhost:8080/",
     "height": 202
    },
    "id": "p_gFjImf45bf",
    "outputId": "5a35f9a4-c67f-4826-f8bc-927787ea00fc"
   },
   "outputs": [
    {
     "name": "stdout",
     "output_type": "stream",
     "text": [
      "Total Headphone: (435840, 29)\n"
     ]
    },
    {
     "data": {
      "text/html": [
       "<div>\n",
       "<style scoped>\n",
       "    .dataframe tbody tr th:only-of-type {\n",
       "        vertical-align: middle;\n",
       "    }\n",
       "\n",
       "    .dataframe tbody tr th {\n",
       "        vertical-align: top;\n",
       "    }\n",
       "\n",
       "    .dataframe thead th {\n",
       "        text-align: right;\n",
       "    }\n",
       "</style>\n",
       "<table border=\"1\" class=\"dataframe\">\n",
       "  <thead>\n",
       "    <tr style=\"text-align: right;\">\n",
       "      <th></th>\n",
       "      <th>overall</th>\n",
       "      <th>vote</th>\n",
       "      <th>verified</th>\n",
       "      <th>reviewTime</th>\n",
       "      <th>reviewerID</th>\n",
       "      <th>asin</th>\n",
       "      <th>style</th>\n",
       "      <th>reviewerName</th>\n",
       "      <th>reviewText</th>\n",
       "      <th>summary</th>\n",
       "      <th>unixReviewTime</th>\n",
       "      <th>image_x</th>\n",
       "      <th>category</th>\n",
       "      <th>tech1</th>\n",
       "      <th>description</th>\n",
       "      <th>fit</th>\n",
       "      <th>title</th>\n",
       "      <th>also_buy</th>\n",
       "      <th>image_y</th>\n",
       "      <th>tech2</th>\n",
       "      <th>brand</th>\n",
       "      <th>feature</th>\n",
       "      <th>rank</th>\n",
       "      <th>also_view</th>\n",
       "      <th>main_cat</th>\n",
       "      <th>similar_item</th>\n",
       "      <th>date</th>\n",
       "      <th>price</th>\n",
       "      <th>details</th>\n",
       "    </tr>\n",
       "  </thead>\n",
       "  <tbody>\n",
       "    <tr>\n",
       "      <th>2441</th>\n",
       "      <td>5.0</td>\n",
       "      <td>NaN</td>\n",
       "      <td>True</td>\n",
       "      <td>02 22, 2015</td>\n",
       "      <td>A38RQFVQ1AKJQQ</td>\n",
       "      <td>4126895493</td>\n",
       "      <td>{'Color:': ' Blue W/Mic'}</td>\n",
       "      <td>George Walker</td>\n",
       "      <td>Great headphones. It's just the cord is too sh...</td>\n",
       "      <td>Five Stars</td>\n",
       "      <td>1424563200</td>\n",
       "      <td>NaN</td>\n",
       "      <td>[Electronics, Headphones, Over-Ear Headphones]</td>\n",
       "      <td></td>\n",
       "      <td>[Brand new and High quality! Enjoy your favori...</td>\n",
       "      <td></td>\n",
       "      <td>HeadGear 3.5mm Foldable Headphone Headset for ...</td>\n",
       "      <td>[B00W87LKXE, B019PO1ZRI, B019PO1ZMI, B013JDQFD...</td>\n",
       "      <td>[https://images-na.ssl-images-amazon.com/image...</td>\n",
       "      <td></td>\n",
       "      <td>HeadGear</td>\n",
       "      <td>[Adjustable headband allows you to create a cu...</td>\n",
       "      <td>[&gt;#316,475 in Cell Phones &amp; Accessories (See T...</td>\n",
       "      <td>[B019PO1ZRI, B00W87LKXE, B019PO1ZNC, B00KHA1ZT...</td>\n",
       "      <td>Musical Instruments</td>\n",
       "      <td>class=\"a-bordered a-horizontal-stripes  a-spa...</td>\n",
       "      <td></td>\n",
       "      <td>$7.99</td>\n",
       "      <td>NaN</td>\n",
       "    </tr>\n",
       "  </tbody>\n",
       "</table>\n",
       "</div>"
      ],
      "text/plain": [
       "      overall vote  verified  ... date  price details\n",
       "2441      5.0  NaN      True  ...       $7.99     NaN\n",
       "\n",
       "[1 rows x 29 columns]"
      ]
     },
     "execution_count": 52,
     "metadata": {
      "tags": []
     },
     "output_type": "execute_result"
    }
   ],
   "source": [
    "print (\"Total Headphone:\", str(product_reviews_hp.shape))\n",
    "product_reviews_hp.head(1)"
   ]
  },
  {
   "cell_type": "code",
   "execution_count": 20,
   "metadata": {
    "id": "KosU-V0p3JU6"
   },
   "outputs": [],
   "source": [
    "product_reviews_Clean_Brands = product_reviews_hp[product_reviews_hp[\"brand\"].str.contains(\"Sennheiser|Sony|Panasonic|JVC|Bose|Philips|Koss|Audio-Technica|MEElectronics|Klipsch|V-MODA|JBuds|Beats\")]"
   ]
  },
  {
   "cell_type": "code",
   "execution_count": 48,
   "metadata": {
    "colab": {
     "base_uri": "https://localhost:8080/",
     "height": 219
    },
    "id": "J32-xhdUDoQt",
    "outputId": "3f7955ac-b292-49a3-c224-fffd45618e5e"
   },
   "outputs": [
    {
     "name": "stdout",
     "output_type": "stream",
     "text": [
      "Total Headphone Brands: (116345, 29)\n"
     ]
    },
    {
     "data": {
      "text/html": [
       "<div>\n",
       "<style scoped>\n",
       "    .dataframe tbody tr th:only-of-type {\n",
       "        vertical-align: middle;\n",
       "    }\n",
       "\n",
       "    .dataframe tbody tr th {\n",
       "        vertical-align: top;\n",
       "    }\n",
       "\n",
       "    .dataframe thead th {\n",
       "        text-align: right;\n",
       "    }\n",
       "</style>\n",
       "<table border=\"1\" class=\"dataframe\">\n",
       "  <thead>\n",
       "    <tr style=\"text-align: right;\">\n",
       "      <th></th>\n",
       "      <th>overall</th>\n",
       "      <th>vote</th>\n",
       "      <th>verified</th>\n",
       "      <th>reviewTime</th>\n",
       "      <th>reviewerID</th>\n",
       "      <th>asin</th>\n",
       "      <th>style</th>\n",
       "      <th>reviewerName</th>\n",
       "      <th>reviewText</th>\n",
       "      <th>summary</th>\n",
       "      <th>unixReviewTime</th>\n",
       "      <th>image_x</th>\n",
       "      <th>category</th>\n",
       "      <th>tech1</th>\n",
       "      <th>description</th>\n",
       "      <th>fit</th>\n",
       "      <th>title</th>\n",
       "      <th>also_buy</th>\n",
       "      <th>image_y</th>\n",
       "      <th>tech2</th>\n",
       "      <th>brand</th>\n",
       "      <th>feature</th>\n",
       "      <th>rank</th>\n",
       "      <th>also_view</th>\n",
       "      <th>main_cat</th>\n",
       "      <th>similar_item</th>\n",
       "      <th>date</th>\n",
       "      <th>price</th>\n",
       "      <th>details</th>\n",
       "    </tr>\n",
       "  </thead>\n",
       "  <tbody>\n",
       "    <tr>\n",
       "      <th>5461</th>\n",
       "      <td>4.0</td>\n",
       "      <td>11</td>\n",
       "      <td>False</td>\n",
       "      <td>01 4, 2005</td>\n",
       "      <td>A3UFCX1AE4TKZE</td>\n",
       "      <td>B00000DMA3</td>\n",
       "      <td>{'Product Packaging:': ' Standard Packaging'}</td>\n",
       "      <td>Ben</td>\n",
       "      <td>I've been using these for over a year now.  Ba...</td>\n",
       "      <td>Good sound, Good Noise Cancelling, Good for ai...</td>\n",
       "      <td>1104796800</td>\n",
       "      <td>NaN</td>\n",
       "      <td>[Electronics, Headphones, Over-Ear Headphones]</td>\n",
       "      <td></td>\n",
       "      <td>[around-the-ear, sealed earcup design * up to ...</td>\n",
       "      <td></td>\n",
       "      <td>Sony MDR-NC20 Noise Canceling Headphones with ...</td>\n",
       "      <td>[]</td>\n",
       "      <td>[]</td>\n",
       "      <td></td>\n",
       "      <td>Sony</td>\n",
       "      <td>[Reduces exterior noise by more than 70 percen...</td>\n",
       "      <td>[&gt;#1,114,700 in Cell Phones &amp; Accessories (See...</td>\n",
       "      <td>[B00NG57H4S, B07J1LJS5K, B001EYU3L2, B0002T3UQ...</td>\n",
       "      <td>Home Audio &amp; Theater</td>\n",
       "      <td>class=\"a-bordered a-horizontal-stripes  a-spa...</td>\n",
       "      <td>April 28, 2003</td>\n",
       "      <td></td>\n",
       "      <td>{}</td>\n",
       "    </tr>\n",
       "  </tbody>\n",
       "</table>\n",
       "</div>"
      ],
      "text/plain": [
       "      overall vote  verified  ...            date price details\n",
       "5461      4.0   11     False  ...  April 28, 2003            {}\n",
       "\n",
       "[1 rows x 29 columns]"
      ]
     },
     "execution_count": 48,
     "metadata": {
      "tags": []
     },
     "output_type": "execute_result"
    }
   ],
   "source": [
    "print (\"Total Headphone Brands:\", str(product_reviews_Clean_Brands.shape))\n",
    "product_reviews_Clean_Brands.head(1)"
   ]
  },
  {
   "cell_type": "code",
   "execution_count": 33,
   "metadata": {
    "id": "_6k1on2qwxce"
   },
   "outputs": [],
   "source": [
    "product_reviews_Clean_Brands.to_csv('Headphone extracted no droped columns.csv', sep=',', encoding='utf-8', index = False)"
   ]
  },
  {
   "cell_type": "markdown",
   "metadata": {},
   "source": [
    "#bellow code is repeasted in 2. Breaking down Headphone dataset"
   ]
  },
  {
   "cell_type": "code",
   "execution_count": 40,
   "metadata": {
    "id": "bpte-U7v-20y"
   },
   "outputs": [],
   "source": [
    "product_reviews_hp_droped = product_reviews_Clean_Brands.drop(['style','reviewerName','reviewTime','image_x','category', 'tech1', 'description', 'fit', 'also_buy', 'image_y','tech2', 'feature','rank', 'also_view', 'main_cat','similar_item', 'date','details', 'price'], axis=\"columns\")"
   ]
  },
  {
   "cell_type": "code",
   "execution_count": 46,
   "metadata": {
    "colab": {
     "base_uri": "https://localhost:8080/",
     "height": 114
    },
    "id": "GbB-qRbCE7gy",
    "outputId": "c61cfb79-ed68-4153-e765-415609b0ac4d"
   },
   "outputs": [
    {
     "name": "stdout",
     "output_type": "stream",
     "text": [
      "Total Headphone Brand Droped: (116345, 10)\n"
     ]
    },
    {
     "data": {
      "text/html": [
       "<div>\n",
       "<style scoped>\n",
       "    .dataframe tbody tr th:only-of-type {\n",
       "        vertical-align: middle;\n",
       "    }\n",
       "\n",
       "    .dataframe tbody tr th {\n",
       "        vertical-align: top;\n",
       "    }\n",
       "\n",
       "    .dataframe thead th {\n",
       "        text-align: right;\n",
       "    }\n",
       "</style>\n",
       "<table border=\"1\" class=\"dataframe\">\n",
       "  <thead>\n",
       "    <tr style=\"text-align: right;\">\n",
       "      <th></th>\n",
       "      <th>overall</th>\n",
       "      <th>vote</th>\n",
       "      <th>verified</th>\n",
       "      <th>reviewerID</th>\n",
       "      <th>asin</th>\n",
       "      <th>reviewText</th>\n",
       "      <th>summary</th>\n",
       "      <th>unixReviewTime</th>\n",
       "      <th>title</th>\n",
       "      <th>brand</th>\n",
       "    </tr>\n",
       "  </thead>\n",
       "  <tbody>\n",
       "    <tr>\n",
       "      <th>5461</th>\n",
       "      <td>4.0</td>\n",
       "      <td>11</td>\n",
       "      <td>False</td>\n",
       "      <td>A3UFCX1AE4TKZE</td>\n",
       "      <td>B00000DMA3</td>\n",
       "      <td>I've been using these for over a year now.  Ba...</td>\n",
       "      <td>Good sound, Good Noise Cancelling, Good for ai...</td>\n",
       "      <td>1104796800</td>\n",
       "      <td>Sony MDR-NC20 Noise Canceling Headphones with ...</td>\n",
       "      <td>Sony</td>\n",
       "    </tr>\n",
       "  </tbody>\n",
       "</table>\n",
       "</div>"
      ],
      "text/plain": [
       "      overall vote  ...                                              title brand\n",
       "5461      4.0   11  ...  Sony MDR-NC20 Noise Canceling Headphones with ...  Sony\n",
       "\n",
       "[1 rows x 10 columns]"
      ]
     },
     "execution_count": 46,
     "metadata": {
      "tags": []
     },
     "output_type": "execute_result"
    }
   ],
   "source": [
    "print (\"Total Headphone Brand Droped:\", str(product_reviews_hp_droped.shape))\n",
    "product_reviews_hp_droped.head(1)"
   ]
  },
  {
   "cell_type": "code",
   "execution_count": 43,
   "metadata": {
    "id": "FVQQhi5v_tPG"
   },
   "outputs": [],
   "source": [
    "product_reviews_hp_droped_sorted = product_reviews_hp_droped[['asin', 'title', 'brand','overall','vote','verified','summary','reviewerID','unixReviewTime','reviewText']]"
   ]
  },
  {
   "cell_type": "code",
   "execution_count": 47,
   "metadata": {
    "colab": {
     "base_uri": "https://localhost:8080/",
     "height": 114
    },
    "id": "3E0KVfANER-L",
    "outputId": "4497089a-759e-4bc6-8955-ae42a73db524"
   },
   "outputs": [
    {
     "name": "stdout",
     "output_type": "stream",
     "text": [
      "Total Headphone Brand Droped Sorted: (116345, 10)\n"
     ]
    },
    {
     "data": {
      "text/html": [
       "<div>\n",
       "<style scoped>\n",
       "    .dataframe tbody tr th:only-of-type {\n",
       "        vertical-align: middle;\n",
       "    }\n",
       "\n",
       "    .dataframe tbody tr th {\n",
       "        vertical-align: top;\n",
       "    }\n",
       "\n",
       "    .dataframe thead th {\n",
       "        text-align: right;\n",
       "    }\n",
       "</style>\n",
       "<table border=\"1\" class=\"dataframe\">\n",
       "  <thead>\n",
       "    <tr style=\"text-align: right;\">\n",
       "      <th></th>\n",
       "      <th>asin</th>\n",
       "      <th>title</th>\n",
       "      <th>brand</th>\n",
       "      <th>overall</th>\n",
       "      <th>vote</th>\n",
       "      <th>verified</th>\n",
       "      <th>summary</th>\n",
       "      <th>reviewerID</th>\n",
       "      <th>unixReviewTime</th>\n",
       "      <th>reviewText</th>\n",
       "    </tr>\n",
       "  </thead>\n",
       "  <tbody>\n",
       "    <tr>\n",
       "      <th>5461</th>\n",
       "      <td>B00000DMA3</td>\n",
       "      <td>Sony MDR-NC20 Noise Canceling Headphones with ...</td>\n",
       "      <td>Sony</td>\n",
       "      <td>4.0</td>\n",
       "      <td>11</td>\n",
       "      <td>False</td>\n",
       "      <td>Good sound, Good Noise Cancelling, Good for ai...</td>\n",
       "      <td>A3UFCX1AE4TKZE</td>\n",
       "      <td>1104796800</td>\n",
       "      <td>I've been using these for over a year now.  Ba...</td>\n",
       "    </tr>\n",
       "  </tbody>\n",
       "</table>\n",
       "</div>"
      ],
      "text/plain": [
       "            asin  ...                                         reviewText\n",
       "5461  B00000DMA3  ...  I've been using these for over a year now.  Ba...\n",
       "\n",
       "[1 rows x 10 columns]"
      ]
     },
     "execution_count": 47,
     "metadata": {
      "tags": []
     },
     "output_type": "execute_result"
    }
   ],
   "source": [
    "print (\"Total Headphone Brand Droped Sorted:\", str(product_reviews_hp_droped_sorted.shape))\n",
    "product_reviews_hp_droped_sorted.head(1)"
   ]
  },
  {
   "cell_type": "code",
   "execution_count": null,
   "metadata": {},
   "outputs": [],
   "source": [
    "product_reviews_hp_droped_sorted.to_csv('Headphone extracted droped columns.csv', sep=',', encoding='utf-8', index = False)"
   ]
  }
 ],
 "metadata": {
  "accelerator": "TPU",
  "colab": {
   "collapsed_sections": [],
   "machine_shape": "hm",
   "name": "extract and export headphone",
   "provenance": []
  },
  "kernelspec": {
   "display_name": "Python 3",
   "language": "python",
   "name": "python3"
  },
  "language_info": {
   "codemirror_mode": {
    "name": "ipython",
    "version": 3
   },
   "file_extension": ".py",
   "mimetype": "text/x-python",
   "name": "python",
   "nbconvert_exporter": "python",
   "pygments_lexer": "ipython3",
   "version": "3.8.3"
  }
 },
 "nbformat": 4,
 "nbformat_minor": 1
}
