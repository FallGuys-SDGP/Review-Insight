{
  "nbformat": 4,
  "nbformat_minor": 0,
  "metadata": {
    "colab": {
      "name": "8.4 Sentiment analysis VADER using multi classifiers Serialize.ipynb",
      "provenance": [],
      "collapsed_sections": []
    },
    "kernelspec": {
      "display_name": "Python 3",
      "language": "python",
      "name": "python3"
    },
    "language_info": {
      "codemirror_mode": {
        "name": "ipython",
        "version": 3
      },
      "file_extension": ".py",
      "mimetype": "text/x-python",
      "name": "python",
      "nbconvert_exporter": "python",
      "pygments_lexer": "ipython3",
      "version": "3.8.5"
    }
  },
  "cells": [
    {
      "cell_type": "markdown",
      "metadata": {
        "id": "e77kouxYQpYz"
      },
      "source": [
        "### Sentiment anlayis for the Reviews Using VENDER\n",
        "\n",
        " "
      ]
    },
    {
      "cell_type": "markdown",
      "metadata": {
        "id": "SDCCKSUvQpZE"
      },
      "source": [
        "<b> Importing needed Libaries"
      ]
    },
    {
      "cell_type": "code",
      "metadata": {
        "id": "l5M9iOU6mprN"
      },
      "source": [
        ""
      ],
      "execution_count": null,
      "outputs": []
    },
    {
      "cell_type": "code",
      "metadata": {
        "colab": {
          "base_uri": "https://localhost:8080/"
        },
        "id": "gF1mztT6mz8x",
        "outputId": "e6abe577-0a3c-46a4-b1a4-f15b2de04f6f"
      },
      "source": [
        "from google.colab import drive\n",
        "drive.mount('/content/drive')"
      ],
      "execution_count": 1,
      "outputs": [
        {
          "output_type": "stream",
          "text": [
            "Mounted at /content/drive\n"
          ],
          "name": "stdout"
        }
      ]
    },
    {
      "cell_type": "code",
      "metadata": {
        "colab": {
          "base_uri": "https://localhost:8080/"
        },
        "id": "FN0znypDQpZF",
        "outputId": "31cb4cd4-e3b6-4921-ddcd-d6971a8446d9"
      },
      "source": [
        "!pip install vaderSentiment\n",
        "import pandas as pd\n",
        "from vaderSentiment.vaderSentiment import SentimentIntensityAnalyzer"
      ],
      "execution_count": 2,
      "outputs": [
        {
          "output_type": "stream",
          "text": [
            "Collecting vaderSentiment\n",
            "\u001b[?25l  Downloading https://files.pythonhosted.org/packages/76/fc/310e16254683c1ed35eeb97386986d6c00bc29df17ce280aed64d55537e9/vaderSentiment-3.3.2-py2.py3-none-any.whl (125kB)\n",
            "\r\u001b[K     |██▋                             | 10kB 13.7MB/s eta 0:00:01\r\u001b[K     |█████▏                          | 20kB 10.1MB/s eta 0:00:01\r\u001b[K     |███████▉                        | 30kB 8.1MB/s eta 0:00:01\r\u001b[K     |██████████▍                     | 40kB 6.7MB/s eta 0:00:01\r\u001b[K     |█████████████                   | 51kB 4.7MB/s eta 0:00:01\r\u001b[K     |███████████████▋                | 61kB 4.6MB/s eta 0:00:01\r\u001b[K     |██████████████████▏             | 71kB 4.9MB/s eta 0:00:01\r\u001b[K     |████████████████████▉           | 81kB 5.1MB/s eta 0:00:01\r\u001b[K     |███████████████████████▍        | 92kB 5.5MB/s eta 0:00:01\r\u001b[K     |██████████████████████████      | 102kB 5.4MB/s eta 0:00:01\r\u001b[K     |████████████████████████████▋   | 112kB 5.4MB/s eta 0:00:01\r\u001b[K     |███████████████████████████████▏| 122kB 5.4MB/s eta 0:00:01\r\u001b[K     |████████████████████████████████| 133kB 5.4MB/s \n",
            "\u001b[?25hRequirement already satisfied: requests in /usr/local/lib/python3.7/dist-packages (from vaderSentiment) (2.23.0)\n",
            "Requirement already satisfied: chardet<4,>=3.0.2 in /usr/local/lib/python3.7/dist-packages (from requests->vaderSentiment) (3.0.4)\n",
            "Requirement already satisfied: urllib3!=1.25.0,!=1.25.1,<1.26,>=1.21.1 in /usr/local/lib/python3.7/dist-packages (from requests->vaderSentiment) (1.24.3)\n",
            "Requirement already satisfied: certifi>=2017.4.17 in /usr/local/lib/python3.7/dist-packages (from requests->vaderSentiment) (2020.12.5)\n",
            "Requirement already satisfied: idna<3,>=2.5 in /usr/local/lib/python3.7/dist-packages (from requests->vaderSentiment) (2.10)\n",
            "Installing collected packages: vaderSentiment\n",
            "Successfully installed vaderSentiment-3.3.2\n"
          ],
          "name": "stdout"
        }
      ]
    },
    {
      "cell_type": "markdown",
      "metadata": {
        "id": "VL3NwR6QQpZG"
      },
      "source": [
        "<b>Creating Data Frame with the csv file"
      ]
    },
    {
      "cell_type": "code",
      "metadata": {
        "colab": {
          "base_uri": "https://localhost:8080/",
          "height": 195
        },
        "id": "5DH20rG4QpZH",
        "outputId": "36370cff-4c3d-4dc6-c4d6-e2d53c493a78"
      },
      "source": [
        "filePath = '/content/drive/MyDrive/SDGP/Main/Data Science/Dataset/reviews_only(Sentiment)_cleaned.csv'\n",
        "df = pd.read_csv(filePath)\n",
        "df.head()"
      ],
      "execution_count": 3,
      "outputs": [
        {
          "output_type": "execute_result",
          "data": {
            "text/html": [
              "<div>\n",
              "<style scoped>\n",
              "    .dataframe tbody tr th:only-of-type {\n",
              "        vertical-align: middle;\n",
              "    }\n",
              "\n",
              "    .dataframe tbody tr th {\n",
              "        vertical-align: top;\n",
              "    }\n",
              "\n",
              "    .dataframe thead th {\n",
              "        text-align: right;\n",
              "    }\n",
              "</style>\n",
              "<table border=\"1\" class=\"dataframe\">\n",
              "  <thead>\n",
              "    <tr style=\"text-align: right;\">\n",
              "      <th></th>\n",
              "      <th>reviewText</th>\n",
              "    </tr>\n",
              "  </thead>\n",
              "  <tbody>\n",
              "    <tr>\n",
              "      <th>0</th>\n",
              "      <td>use year basically quiet environment sound pre...</td>\n",
              "    </tr>\n",
              "    <tr>\n",
              "      <th>1</th>\n",
              "      <td>own two years wear thirty time mostly plane ri...</td>\n",
              "    </tr>\n",
              "    <tr>\n",
              "      <th>2</th>\n",
              "      <td>buy think ticket noisefree pleasant air travel...</td>\n",
              "    </tr>\n",
              "    <tr>\n",
              "      <th>3</th>\n",
              "      <td>own years use fly two round trip week wear con...</td>\n",
              "    </tr>\n",
              "    <tr>\n",
              "      <th>4</th>\n",
              "      <td>love headphone get narita airport obsess whole...</td>\n",
              "    </tr>\n",
              "  </tbody>\n",
              "</table>\n",
              "</div>"
            ],
            "text/plain": [
              "                                          reviewText\n",
              "0  use year basically quiet environment sound pre...\n",
              "1  own two years wear thirty time mostly plane ri...\n",
              "2  buy think ticket noisefree pleasant air travel...\n",
              "3  own years use fly two round trip week wear con...\n",
              "4  love headphone get narita airport obsess whole..."
            ]
          },
          "metadata": {
            "tags": []
          },
          "execution_count": 3
        }
      ]
    },
    {
      "cell_type": "markdown",
      "metadata": {
        "id": "H9WQ7e5xQpZJ"
      },
      "source": [
        "<b>Using VADER to analayze the sentiment of the reviews\n"
      ]
    },
    {
      "cell_type": "code",
      "metadata": {
        "colab": {
          "base_uri": "https://localhost:8080/",
          "height": 419
        },
        "id": "PCbLYVWMQpZJ",
        "outputId": "830a4ea2-b3ba-454a-f896-451db6a9e852"
      },
      "source": [
        "df = df.drop(['LABEL','DOC_ID', 'RATING', 'VERIFIED_PURCHASE', 'PRODUCT_CATEGORY', 'PRODUCT_ID', 'PRODUCT_TITLE', 'REVIEW_TITLE'], axis=\"columns\")\n",
        "df"
      ],
      "execution_count": null,
      "outputs": [
        {
          "output_type": "execute_result",
          "data": {
            "text/html": [
              "<div>\n",
              "<style scoped>\n",
              "    .dataframe tbody tr th:only-of-type {\n",
              "        vertical-align: middle;\n",
              "    }\n",
              "\n",
              "    .dataframe tbody tr th {\n",
              "        vertical-align: top;\n",
              "    }\n",
              "\n",
              "    .dataframe thead th {\n",
              "        text-align: right;\n",
              "    }\n",
              "</style>\n",
              "<table border=\"1\" class=\"dataframe\">\n",
              "  <thead>\n",
              "    <tr style=\"text-align: right;\">\n",
              "      <th></th>\n",
              "      <th>LABEL</th>\n",
              "      <th>REVIEW_TEXT</th>\n",
              "    </tr>\n",
              "  </thead>\n",
              "  <tbody>\n",
              "    <tr>\n",
              "      <th>0</th>\n",
              "      <td>Fake</td>\n",
              "      <td>When least you think so, this product will sav...</td>\n",
              "    </tr>\n",
              "    <tr>\n",
              "      <th>1</th>\n",
              "      <td>Fake</td>\n",
              "      <td>Lithium batteries are something new introduced...</td>\n",
              "    </tr>\n",
              "    <tr>\n",
              "      <th>2</th>\n",
              "      <td>Fake</td>\n",
              "      <td>I purchased this swing for my baby. She is 6 m...</td>\n",
              "    </tr>\n",
              "    <tr>\n",
              "      <th>3</th>\n",
              "      <td>Fake</td>\n",
              "      <td>I was looking for an inexpensive desk calcolat...</td>\n",
              "    </tr>\n",
              "    <tr>\n",
              "      <th>4</th>\n",
              "      <td>Fake</td>\n",
              "      <td>I only use it twice a week and the results are...</td>\n",
              "    </tr>\n",
              "    <tr>\n",
              "      <th>...</th>\n",
              "      <td>...</td>\n",
              "      <td>...</td>\n",
              "    </tr>\n",
              "    <tr>\n",
              "      <th>20995</th>\n",
              "      <td>Real</td>\n",
              "      <td>I bought these for work.  I have high arches, ...</td>\n",
              "    </tr>\n",
              "    <tr>\n",
              "      <th>20996</th>\n",
              "      <td>Real</td>\n",
              "      <td>Crocs are one of only two brands of shoes that...</td>\n",
              "    </tr>\n",
              "    <tr>\n",
              "      <th>20997</th>\n",
              "      <td>Real</td>\n",
              "      <td>I love moccasins  This fit like it was custom ...</td>\n",
              "    </tr>\n",
              "    <tr>\n",
              "      <th>20998</th>\n",
              "      <td>Real</td>\n",
              "      <td>I wish these were a little more durable. I got...</td>\n",
              "    </tr>\n",
              "    <tr>\n",
              "      <th>20999</th>\n",
              "      <td>Real</td>\n",
              "      <td>I've been looking for a replacement for my bel...</td>\n",
              "    </tr>\n",
              "  </tbody>\n",
              "</table>\n",
              "<p>21000 rows × 2 columns</p>\n",
              "</div>"
            ],
            "text/plain": [
              "      LABEL                                        REVIEW_TEXT\n",
              "0      Fake  When least you think so, this product will sav...\n",
              "1      Fake  Lithium batteries are something new introduced...\n",
              "2      Fake  I purchased this swing for my baby. She is 6 m...\n",
              "3      Fake  I was looking for an inexpensive desk calcolat...\n",
              "4      Fake  I only use it twice a week and the results are...\n",
              "...     ...                                                ...\n",
              "20995  Real  I bought these for work.  I have high arches, ...\n",
              "20996  Real  Crocs are one of only two brands of shoes that...\n",
              "20997  Real  I love moccasins  This fit like it was custom ...\n",
              "20998  Real  I wish these were a little more durable. I got...\n",
              "20999  Real  I've been looking for a replacement for my bel...\n",
              "\n",
              "[21000 rows x 2 columns]"
            ]
          },
          "metadata": {
            "tags": []
          },
          "execution_count": 4
        }
      ]
    },
    {
      "cell_type": "code",
      "metadata": {
        "colab": {
          "base_uri": "https://localhost:8080/",
          "height": 419
        },
        "id": "KTC8Lhg7TdLu",
        "outputId": "cad238d5-ca52-4780-b334-76f572cc44e8"
      },
      "source": [
        "df = df.drop([''], axis=\"columns\")\n",
        "df"
      ],
      "execution_count": null,
      "outputs": [
        {
          "output_type": "execute_result",
          "data": {
            "text/html": [
              "<div>\n",
              "<style scoped>\n",
              "    .dataframe tbody tr th:only-of-type {\n",
              "        vertical-align: middle;\n",
              "    }\n",
              "\n",
              "    .dataframe tbody tr th {\n",
              "        vertical-align: top;\n",
              "    }\n",
              "\n",
              "    .dataframe thead th {\n",
              "        text-align: right;\n",
              "    }\n",
              "</style>\n",
              "<table border=\"1\" class=\"dataframe\">\n",
              "  <thead>\n",
              "    <tr style=\"text-align: right;\">\n",
              "      <th></th>\n",
              "      <th>REVIEW_TEXT</th>\n",
              "    </tr>\n",
              "  </thead>\n",
              "  <tbody>\n",
              "    <tr>\n",
              "      <th>0</th>\n",
              "      <td>When least you think so, this product will sav...</td>\n",
              "    </tr>\n",
              "    <tr>\n",
              "      <th>1</th>\n",
              "      <td>Lithium batteries are something new introduced...</td>\n",
              "    </tr>\n",
              "    <tr>\n",
              "      <th>2</th>\n",
              "      <td>I purchased this swing for my baby. She is 6 m...</td>\n",
              "    </tr>\n",
              "    <tr>\n",
              "      <th>3</th>\n",
              "      <td>I was looking for an inexpensive desk calcolat...</td>\n",
              "    </tr>\n",
              "    <tr>\n",
              "      <th>4</th>\n",
              "      <td>I only use it twice a week and the results are...</td>\n",
              "    </tr>\n",
              "    <tr>\n",
              "      <th>...</th>\n",
              "      <td>...</td>\n",
              "    </tr>\n",
              "    <tr>\n",
              "      <th>20995</th>\n",
              "      <td>I bought these for work.  I have high arches, ...</td>\n",
              "    </tr>\n",
              "    <tr>\n",
              "      <th>20996</th>\n",
              "      <td>Crocs are one of only two brands of shoes that...</td>\n",
              "    </tr>\n",
              "    <tr>\n",
              "      <th>20997</th>\n",
              "      <td>I love moccasins  This fit like it was custom ...</td>\n",
              "    </tr>\n",
              "    <tr>\n",
              "      <th>20998</th>\n",
              "      <td>I wish these were a little more durable. I got...</td>\n",
              "    </tr>\n",
              "    <tr>\n",
              "      <th>20999</th>\n",
              "      <td>I've been looking for a replacement for my bel...</td>\n",
              "    </tr>\n",
              "  </tbody>\n",
              "</table>\n",
              "<p>21000 rows × 1 columns</p>\n",
              "</div>"
            ],
            "text/plain": [
              "                                             REVIEW_TEXT\n",
              "0      When least you think so, this product will sav...\n",
              "1      Lithium batteries are something new introduced...\n",
              "2      I purchased this swing for my baby. She is 6 m...\n",
              "3      I was looking for an inexpensive desk calcolat...\n",
              "4      I only use it twice a week and the results are...\n",
              "...                                                  ...\n",
              "20995  I bought these for work.  I have high arches, ...\n",
              "20996  Crocs are one of only two brands of shoes that...\n",
              "20997  I love moccasins  This fit like it was custom ...\n",
              "20998  I wish these were a little more durable. I got...\n",
              "20999  I've been looking for a replacement for my bel...\n",
              "\n",
              "[21000 rows x 1 columns]"
            ]
          },
          "metadata": {
            "tags": []
          },
          "execution_count": 5
        }
      ]
    },
    {
      "cell_type": "code",
      "metadata": {
        "id": "4Re_t_reQpZK"
      },
      "source": [
        "# Getting a compound score\n",
        "def sentimental_compound(sentence):\n",
        "    analyzer = SentimentIntensityAnalyzer()\n",
        "    df_sentiment = analyzer.polarity_scores(sentence)\n",
        "    score = df_sentiment['compound']\n",
        "    return score\n",
        "\n",
        "# VADER predicting Positive negative\n",
        "def sentimental_score(sentence):\n",
        "    analyzer = SentimentIntensityAnalyzer()\n",
        "    df_sentiment = analyzer.polarity_scores(sentence)\n",
        "    score = df_sentiment['compound']\n",
        "    if score >= 0.5:\n",
        "        return 'pos'\n",
        "    elif (score > -0.5) and (score < 0.5) :\n",
        "        return 'neu'\n",
        "    elif score <= -0.5:\n",
        "        return 'neg'\n",
        "    "
      ],
      "execution_count": 4,
      "outputs": []
    },
    {
      "cell_type": "markdown",
      "metadata": {
        "id": "jQY67YIuQpZN"
      },
      "source": [
        "### Importing SVM classification"
      ]
    },
    {
      "cell_type": "code",
      "metadata": {
        "id": "OTqNgc5ZQpZO"
      },
      "source": [
        "#!pip3 install sklearn\n",
        "from sklearn.feature_extraction.text import TfidfVectorizer\n",
        "from sklearn.svm import LinearSVC\n",
        "from sklearn.pipeline import Pipeline"
      ],
      "execution_count": 5,
      "outputs": []
    },
    {
      "cell_type": "code",
      "metadata": {
        "id": "HGm-eE2BQpZO"
      },
      "source": [
        "# # selecting 1000 rows to avoid crashing the browser\n",
        "# df_selected_rows = df.head(1000)\n",
        "# #df.insert(1, \"lab\",0)\n",
        "# df_selected_rows\n"
      ],
      "execution_count": 6,
      "outputs": []
    },
    {
      "cell_type": "code",
      "metadata": {
        "colab": {
          "base_uri": "https://localhost:8080/",
          "height": 195
        },
        "id": "guVx_lpCQpZP",
        "outputId": "d6fe017b-1c36-4086-8b98-2d05e51a40bd"
      },
      "source": [
        "# adding sentiment scores for each reviews\n",
        "df['compound']=df['reviewText'].apply(lambda x: sentimental_score(str(x)))\n",
        "df.head()\n"
      ],
      "execution_count": 10,
      "outputs": [
        {
          "output_type": "execute_result",
          "data": {
            "text/html": [
              "<div>\n",
              "<style scoped>\n",
              "    .dataframe tbody tr th:only-of-type {\n",
              "        vertical-align: middle;\n",
              "    }\n",
              "\n",
              "    .dataframe tbody tr th {\n",
              "        vertical-align: top;\n",
              "    }\n",
              "\n",
              "    .dataframe thead th {\n",
              "        text-align: right;\n",
              "    }\n",
              "</style>\n",
              "<table border=\"1\" class=\"dataframe\">\n",
              "  <thead>\n",
              "    <tr style=\"text-align: right;\">\n",
              "      <th></th>\n",
              "      <th>reviewText</th>\n",
              "      <th>compound</th>\n",
              "    </tr>\n",
              "  </thead>\n",
              "  <tbody>\n",
              "    <tr>\n",
              "      <th>0</th>\n",
              "      <td>use year basically quiet environment sound pre...</td>\n",
              "      <td>pos</td>\n",
              "    </tr>\n",
              "    <tr>\n",
              "      <th>1</th>\n",
              "      <td>own two years wear thirty time mostly plane ri...</td>\n",
              "      <td>pos</td>\n",
              "    </tr>\n",
              "    <tr>\n",
              "      <th>2</th>\n",
              "      <td>buy think ticket noisefree pleasant air travel...</td>\n",
              "      <td>pos</td>\n",
              "    </tr>\n",
              "    <tr>\n",
              "      <th>3</th>\n",
              "      <td>own years use fly two round trip week wear con...</td>\n",
              "      <td>pos</td>\n",
              "    </tr>\n",
              "    <tr>\n",
              "      <th>4</th>\n",
              "      <td>love headphone get narita airport obsess whole...</td>\n",
              "      <td>pos</td>\n",
              "    </tr>\n",
              "  </tbody>\n",
              "</table>\n",
              "</div>"
            ],
            "text/plain": [
              "                                          reviewText compound\n",
              "0  use year basically quiet environment sound pre...      pos\n",
              "1  own two years wear thirty time mostly plane ri...      pos\n",
              "2  buy think ticket noisefree pleasant air travel...      pos\n",
              "3  own years use fly two round trip week wear con...      pos\n",
              "4  love headphone get narita airport obsess whole...      pos"
            ]
          },
          "metadata": {
            "tags": []
          },
          "execution_count": 10
        }
      ]
    },
    {
      "cell_type": "code",
      "metadata": {
        "colab": {
          "base_uri": "https://localhost:8080/",
          "height": 402
        },
        "id": "dZP8ngUhTPjV",
        "outputId": "8aae35fd-5aee-4f60-e62c-db80fdc777a2"
      },
      "source": [
        "df"
      ],
      "execution_count": 11,
      "outputs": [
        {
          "output_type": "execute_result",
          "data": {
            "text/html": [
              "<div>\n",
              "<style scoped>\n",
              "    .dataframe tbody tr th:only-of-type {\n",
              "        vertical-align: middle;\n",
              "    }\n",
              "\n",
              "    .dataframe tbody tr th {\n",
              "        vertical-align: top;\n",
              "    }\n",
              "\n",
              "    .dataframe thead th {\n",
              "        text-align: right;\n",
              "    }\n",
              "</style>\n",
              "<table border=\"1\" class=\"dataframe\">\n",
              "  <thead>\n",
              "    <tr style=\"text-align: right;\">\n",
              "      <th></th>\n",
              "      <th>reviewText</th>\n",
              "      <th>compound</th>\n",
              "    </tr>\n",
              "  </thead>\n",
              "  <tbody>\n",
              "    <tr>\n",
              "      <th>0</th>\n",
              "      <td>use year basically quiet environment sound pre...</td>\n",
              "      <td>pos</td>\n",
              "    </tr>\n",
              "    <tr>\n",
              "      <th>1</th>\n",
              "      <td>own two years wear thirty time mostly plane ri...</td>\n",
              "      <td>pos</td>\n",
              "    </tr>\n",
              "    <tr>\n",
              "      <th>2</th>\n",
              "      <td>buy think ticket noisefree pleasant air travel...</td>\n",
              "      <td>pos</td>\n",
              "    </tr>\n",
              "    <tr>\n",
              "      <th>3</th>\n",
              "      <td>own years use fly two round trip week wear con...</td>\n",
              "      <td>pos</td>\n",
              "    </tr>\n",
              "    <tr>\n",
              "      <th>4</th>\n",
              "      <td>love headphone get narita airport obsess whole...</td>\n",
              "      <td>pos</td>\n",
              "    </tr>\n",
              "    <tr>\n",
              "      <th>...</th>\n",
              "      <td>...</td>\n",
              "      <td>...</td>\n",
              "    </tr>\n",
              "    <tr>\n",
              "      <th>87979</th>\n",
              "      <td>please headphone overall noise cancellation be...</td>\n",
              "      <td>pos</td>\n",
              "    </tr>\n",
              "    <tr>\n",
              "      <th>87980</th>\n",
              "      <td>good sound great noise cancellation hope barel...</td>\n",
              "      <td>pos</td>\n",
              "    </tr>\n",
              "    <tr>\n",
              "      <th>87981</th>\n",
              "      <td>headphone great job dampen sound even noise ca...</td>\n",
              "      <td>pos</td>\n",
              "    </tr>\n",
              "    <tr>\n",
              "      <th>87982</th>\n",
              "      <td>sound wise nice enough heavy base heavy anythi...</td>\n",
              "      <td>pos</td>\n",
              "    </tr>\n",
              "    <tr>\n",
              "      <th>87983</th>\n",
              "      <td>work moderate noise cancel abilities cheap mak...</td>\n",
              "      <td>neu</td>\n",
              "    </tr>\n",
              "  </tbody>\n",
              "</table>\n",
              "<p>87984 rows × 2 columns</p>\n",
              "</div>"
            ],
            "text/plain": [
              "                                              reviewText compound\n",
              "0      use year basically quiet environment sound pre...      pos\n",
              "1      own two years wear thirty time mostly plane ri...      pos\n",
              "2      buy think ticket noisefree pleasant air travel...      pos\n",
              "3      own years use fly two round trip week wear con...      pos\n",
              "4      love headphone get narita airport obsess whole...      pos\n",
              "...                                                  ...      ...\n",
              "87979  please headphone overall noise cancellation be...      pos\n",
              "87980  good sound great noise cancellation hope barel...      pos\n",
              "87981  headphone great job dampen sound even noise ca...      pos\n",
              "87982  sound wise nice enough heavy base heavy anythi...      pos\n",
              "87983  work moderate noise cancel abilities cheap mak...      neu\n",
              "\n",
              "[87984 rows x 2 columns]"
            ]
          },
          "metadata": {
            "tags": []
          },
          "execution_count": 11
        }
      ]
    },
    {
      "cell_type": "code",
      "metadata": {
        "id": "-C_bqk-xQpZQ"
      },
      "source": [
        "# Using SVM classifier on the train set\n",
        "from sklearn.svm import LinearSVC\n",
        "#classifer = LinearSVC(max_iter=df.shape[0])\n"
      ],
      "execution_count": 12,
      "outputs": []
    },
    {
      "cell_type": "code",
      "metadata": {
        "id": "xITt2ALoQpZR"
      },
      "source": [
        "tfidf_lr_pipe = Pipeline([('tfidf', TfidfVectorizer(lowercase=False)), ('svm', LinearSVC(max_iter=df.shape[0]))])"
      ],
      "execution_count": 13,
      "outputs": []
    },
    {
      "cell_type": "code",
      "metadata": {
        "colab": {
          "base_uri": "https://localhost:8080/",
          "height": 195
        },
        "id": "FMm5eT-iTuOP",
        "outputId": "aef5fc08-cfdf-4fda-a56f-9cadde7bb844"
      },
      "source": [
        "df.head(5)"
      ],
      "execution_count": 14,
      "outputs": [
        {
          "output_type": "execute_result",
          "data": {
            "text/html": [
              "<div>\n",
              "<style scoped>\n",
              "    .dataframe tbody tr th:only-of-type {\n",
              "        vertical-align: middle;\n",
              "    }\n",
              "\n",
              "    .dataframe tbody tr th {\n",
              "        vertical-align: top;\n",
              "    }\n",
              "\n",
              "    .dataframe thead th {\n",
              "        text-align: right;\n",
              "    }\n",
              "</style>\n",
              "<table border=\"1\" class=\"dataframe\">\n",
              "  <thead>\n",
              "    <tr style=\"text-align: right;\">\n",
              "      <th></th>\n",
              "      <th>reviewText</th>\n",
              "      <th>compound</th>\n",
              "    </tr>\n",
              "  </thead>\n",
              "  <tbody>\n",
              "    <tr>\n",
              "      <th>0</th>\n",
              "      <td>use year basically quiet environment sound pre...</td>\n",
              "      <td>pos</td>\n",
              "    </tr>\n",
              "    <tr>\n",
              "      <th>1</th>\n",
              "      <td>own two years wear thirty time mostly plane ri...</td>\n",
              "      <td>pos</td>\n",
              "    </tr>\n",
              "    <tr>\n",
              "      <th>2</th>\n",
              "      <td>buy think ticket noisefree pleasant air travel...</td>\n",
              "      <td>pos</td>\n",
              "    </tr>\n",
              "    <tr>\n",
              "      <th>3</th>\n",
              "      <td>own years use fly two round trip week wear con...</td>\n",
              "      <td>pos</td>\n",
              "    </tr>\n",
              "    <tr>\n",
              "      <th>4</th>\n",
              "      <td>love headphone get narita airport obsess whole...</td>\n",
              "      <td>pos</td>\n",
              "    </tr>\n",
              "  </tbody>\n",
              "</table>\n",
              "</div>"
            ],
            "text/plain": [
              "                                          reviewText compound\n",
              "0  use year basically quiet environment sound pre...      pos\n",
              "1  own two years wear thirty time mostly plane ri...      pos\n",
              "2  buy think ticket noisefree pleasant air travel...      pos\n",
              "3  own years use fly two round trip week wear con...      pos\n",
              "4  love headphone get narita airport obsess whole...      pos"
            ]
          },
          "metadata": {
            "tags": []
          },
          "execution_count": 14
        }
      ]
    },
    {
      "cell_type": "code",
      "metadata": {
        "id": "k6qG27ObQpZS"
      },
      "source": [
        "df['reviewText']=df['reviewText'].apply(str)\n",
        "df['compound']=df['compound'].apply(str)"
      ],
      "execution_count": 15,
      "outputs": []
    },
    {
      "cell_type": "code",
      "metadata": {
        "colab": {
          "base_uri": "https://localhost:8080/",
          "height": 195
        },
        "id": "K8GgvekxTs4x",
        "outputId": "acf768b4-859b-4f6b-cd99-2211c6c900d2"
      },
      "source": [
        "df.head(5)"
      ],
      "execution_count": 16,
      "outputs": [
        {
          "output_type": "execute_result",
          "data": {
            "text/html": [
              "<div>\n",
              "<style scoped>\n",
              "    .dataframe tbody tr th:only-of-type {\n",
              "        vertical-align: middle;\n",
              "    }\n",
              "\n",
              "    .dataframe tbody tr th {\n",
              "        vertical-align: top;\n",
              "    }\n",
              "\n",
              "    .dataframe thead th {\n",
              "        text-align: right;\n",
              "    }\n",
              "</style>\n",
              "<table border=\"1\" class=\"dataframe\">\n",
              "  <thead>\n",
              "    <tr style=\"text-align: right;\">\n",
              "      <th></th>\n",
              "      <th>reviewText</th>\n",
              "      <th>compound</th>\n",
              "    </tr>\n",
              "  </thead>\n",
              "  <tbody>\n",
              "    <tr>\n",
              "      <th>0</th>\n",
              "      <td>use year basically quiet environment sound pre...</td>\n",
              "      <td>pos</td>\n",
              "    </tr>\n",
              "    <tr>\n",
              "      <th>1</th>\n",
              "      <td>own two years wear thirty time mostly plane ri...</td>\n",
              "      <td>pos</td>\n",
              "    </tr>\n",
              "    <tr>\n",
              "      <th>2</th>\n",
              "      <td>buy think ticket noisefree pleasant air travel...</td>\n",
              "      <td>pos</td>\n",
              "    </tr>\n",
              "    <tr>\n",
              "      <th>3</th>\n",
              "      <td>own years use fly two round trip week wear con...</td>\n",
              "      <td>pos</td>\n",
              "    </tr>\n",
              "    <tr>\n",
              "      <th>4</th>\n",
              "      <td>love headphone get narita airport obsess whole...</td>\n",
              "      <td>pos</td>\n",
              "    </tr>\n",
              "  </tbody>\n",
              "</table>\n",
              "</div>"
            ],
            "text/plain": [
              "                                          reviewText compound\n",
              "0  use year basically quiet environment sound pre...      pos\n",
              "1  own two years wear thirty time mostly plane ri...      pos\n",
              "2  buy think ticket noisefree pleasant air travel...      pos\n",
              "3  own years use fly two round trip week wear con...      pos\n",
              "4  love headphone get narita airport obsess whole...      pos"
            ]
          },
          "metadata": {
            "tags": []
          },
          "execution_count": 16
        }
      ]
    },
    {
      "cell_type": "code",
      "metadata": {
        "id": "te8qMB5pQpZT",
        "colab": {
          "base_uri": "https://localhost:8080/"
        },
        "outputId": "704f8c9a-4558-444e-a173-963bf7527504"
      },
      "source": [
        "x = df.iloc[:,0].values\n",
        "x"
      ],
      "execution_count": 17,
      "outputs": [
        {
          "output_type": "execute_result",
          "data": {
            "text/plain": [
              "array(['use year basically quiet environment sound pretty good good similarlyprice studioclass headset pay noise cancel raw capability pretty decent acceptable detail treble vocal bass range noise cancel work pretty well take several intercontinental flight decent job block engine rumble scream kid also decent job block adult human voice nice office however must pretty big ear find foam cup quite thick enough adequate push driver away outer ear two three hour use ear start ache bite cord plenty long disconnect middle link optional sony wire remote control adapter convert standard 18th inch stereo jack dual 18th inch jack many airplane seat include thing like find uncomfortable try lean head window airplane sleep think mdrnc11s might better choice regard also kind bulky unless large carryon keep paranoid putt seat pocket front since mdrnc20s come soft bag instead rigid clamshell like bose headset spill yet active traveller may wish find case rigid pretty happy natural audio sound noise cancel plenty sufficient price could justify three hundred bose unless need protective clamshell ear fit perfectly earcup',\n",
              "       'own two years wear thirty time mostly plane ride relatively small head keep first expansion level even lot pressure hour start hurt ear try stretch always return size also put extra foam pad ear cup help little still good sound quality cut noise although effective first buy try new bose fit better much better job eliminate noise course much expensive',\n",
              "       'buy think ticket noisefree pleasant air travel fall short two reason first cancel much noise listen music compare difference noise cancellation great partly technology partly fit quantify noise cancel sony headphone give 10db noise reduction whereas passive david clark h1000 headphone roughly price give 24db better seal second problem generate noise noisy start actually seem generate slight buzz would recommend either get pair earplug set headphone better seal',\n",
              "       ...,\n",
              "       'headphone great job dampen sound even noise cancel turn kick even better comfortable wear fold compact carry case sell separate love unlike old bose use headphone even battery dead fact use aaa batter rather proprietary recharge battery mean never really worry run juice battery easy find perfect travel',\n",
              "       'sound wise nice enough heavy base heavy anything really middle road would recommend however find hour become seriously uncomfortable huge ear anything like comfortable also pair bose nc headphone wear hour end cost ton though wear headphone tend wear hour end prefer comfort',\n",
              "       'work moderate noise cancel abilities cheap make worry small cable sound ok consideration pay reasonably good buy'],\n",
              "      dtype=object)"
            ]
          },
          "metadata": {
            "tags": []
          },
          "execution_count": 17
        }
      ]
    },
    {
      "cell_type": "code",
      "metadata": {
        "colab": {
          "base_uri": "https://localhost:8080/"
        },
        "id": "dgOnR3_2QpZV",
        "outputId": "c8c9957a-3567-4fa6-a498-5696c9f84cb0"
      },
      "source": [
        "y = df.iloc[:,1].values\n",
        "y"
      ],
      "execution_count": 18,
      "outputs": [
        {
          "output_type": "execute_result",
          "data": {
            "text/plain": [
              "array(['pos', 'pos', 'pos', ..., 'pos', 'pos', 'neu'], dtype=object)"
            ]
          },
          "metadata": {
            "tags": []
          },
          "execution_count": 18
        }
      ]
    },
    {
      "cell_type": "code",
      "metadata": {
        "id": "935R9taUQpZX"
      },
      "source": [
        "# Splitting the train and test data (80/20)\n",
        "\n",
        "from sklearn.model_selection import train_test_split\n",
        "x_train, x_test, y_train, y_test = train_test_split(x, y, test_size = 0.2, random_state= 0)"
      ],
      "execution_count": 19,
      "outputs": []
    },
    {
      "cell_type": "code",
      "metadata": {
        "id": "65uc5sC7QpZX",
        "colab": {
          "base_uri": "https://localhost:8080/"
        },
        "outputId": "66fbc63b-469c-49b2-9d74-39e7aaab371a"
      },
      "source": [
        "# Converting the reviews to a matrix of token counts (Bag of words model)\n",
        "tfidf_lr_pipe.fit(x_train, y_train)"
      ],
      "execution_count": 20,
      "outputs": [
        {
          "output_type": "execute_result",
          "data": {
            "text/plain": [
              "Pipeline(memory=None,\n",
              "         steps=[('tfidf',\n",
              "                 TfidfVectorizer(analyzer='word', binary=False,\n",
              "                                 decode_error='strict',\n",
              "                                 dtype=<class 'numpy.float64'>,\n",
              "                                 encoding='utf-8', input='content',\n",
              "                                 lowercase=False, max_df=1.0, max_features=None,\n",
              "                                 min_df=1, ngram_range=(1, 1), norm='l2',\n",
              "                                 preprocessor=None, smooth_idf=True,\n",
              "                                 stop_words=None, strip_accents=None,\n",
              "                                 sublinear_tf=False,\n",
              "                                 token_pattern='(?u)\\\\b\\\\w\\\\w+\\\\b',\n",
              "                                 tokenizer=None, use_idf=True,\n",
              "                                 vocabulary=None)),\n",
              "                ('svm',\n",
              "                 LinearSVC(C=1.0, class_weight=None, dual=True,\n",
              "                           fit_intercept=True, intercept_scaling=1,\n",
              "                           loss='squared_hinge', max_iter=87984,\n",
              "                           multi_class='ovr', penalty='l2', random_state=None,\n",
              "                           tol=0.0001, verbose=0))],\n",
              "         verbose=False)"
            ]
          },
          "metadata": {
            "tags": []
          },
          "execution_count": 20
        }
      ]
    },
    {
      "cell_type": "code",
      "metadata": {
        "id": "VEvaKO-WQpZZ"
      },
      "source": [
        "y_pred = tfidf_lr_pipe.predict(x_test)"
      ],
      "execution_count": 21,
      "outputs": []
    },
    {
      "cell_type": "code",
      "metadata": {
        "id": "bT7pJ2anQpZa"
      },
      "source": [
        "predicted_df = pd.DataFrame({'predict': y_pred, 'actual': y_test})"
      ],
      "execution_count": 22,
      "outputs": []
    },
    {
      "cell_type": "code",
      "metadata": {
        "id": "qQCYc9babjJE",
        "colab": {
          "base_uri": "https://localhost:8080/",
          "height": 402
        },
        "outputId": "e1165dea-597f-4a7e-b848-8daf23bbcee6"
      },
      "source": [
        "predicted_df"
      ],
      "execution_count": 23,
      "outputs": [
        {
          "output_type": "execute_result",
          "data": {
            "text/html": [
              "<div>\n",
              "<style scoped>\n",
              "    .dataframe tbody tr th:only-of-type {\n",
              "        vertical-align: middle;\n",
              "    }\n",
              "\n",
              "    .dataframe tbody tr th {\n",
              "        vertical-align: top;\n",
              "    }\n",
              "\n",
              "    .dataframe thead th {\n",
              "        text-align: right;\n",
              "    }\n",
              "</style>\n",
              "<table border=\"1\" class=\"dataframe\">\n",
              "  <thead>\n",
              "    <tr style=\"text-align: right;\">\n",
              "      <th></th>\n",
              "      <th>predict</th>\n",
              "      <th>actual</th>\n",
              "    </tr>\n",
              "  </thead>\n",
              "  <tbody>\n",
              "    <tr>\n",
              "      <th>0</th>\n",
              "      <td>pos</td>\n",
              "      <td>pos</td>\n",
              "    </tr>\n",
              "    <tr>\n",
              "      <th>1</th>\n",
              "      <td>pos</td>\n",
              "      <td>pos</td>\n",
              "    </tr>\n",
              "    <tr>\n",
              "      <th>2</th>\n",
              "      <td>pos</td>\n",
              "      <td>pos</td>\n",
              "    </tr>\n",
              "    <tr>\n",
              "      <th>3</th>\n",
              "      <td>pos</td>\n",
              "      <td>pos</td>\n",
              "    </tr>\n",
              "    <tr>\n",
              "      <th>4</th>\n",
              "      <td>neu</td>\n",
              "      <td>neu</td>\n",
              "    </tr>\n",
              "    <tr>\n",
              "      <th>...</th>\n",
              "      <td>...</td>\n",
              "      <td>...</td>\n",
              "    </tr>\n",
              "    <tr>\n",
              "      <th>17592</th>\n",
              "      <td>pos</td>\n",
              "      <td>neu</td>\n",
              "    </tr>\n",
              "    <tr>\n",
              "      <th>17593</th>\n",
              "      <td>pos</td>\n",
              "      <td>pos</td>\n",
              "    </tr>\n",
              "    <tr>\n",
              "      <th>17594</th>\n",
              "      <td>pos</td>\n",
              "      <td>pos</td>\n",
              "    </tr>\n",
              "    <tr>\n",
              "      <th>17595</th>\n",
              "      <td>pos</td>\n",
              "      <td>pos</td>\n",
              "    </tr>\n",
              "    <tr>\n",
              "      <th>17596</th>\n",
              "      <td>pos</td>\n",
              "      <td>pos</td>\n",
              "    </tr>\n",
              "  </tbody>\n",
              "</table>\n",
              "<p>17597 rows × 2 columns</p>\n",
              "</div>"
            ],
            "text/plain": [
              "      predict actual\n",
              "0         pos    pos\n",
              "1         pos    pos\n",
              "2         pos    pos\n",
              "3         pos    pos\n",
              "4         neu    neu\n",
              "...       ...    ...\n",
              "17592     pos    neu\n",
              "17593     pos    pos\n",
              "17594     pos    pos\n",
              "17595     pos    pos\n",
              "17596     pos    pos\n",
              "\n",
              "[17597 rows x 2 columns]"
            ]
          },
          "metadata": {
            "tags": []
          },
          "execution_count": 23
        }
      ]
    },
    {
      "cell_type": "code",
      "metadata": {
        "id": "Mym2ThpJQpZb",
        "colab": {
          "base_uri": "https://localhost:8080/",
          "height": 402
        },
        "outputId": "58fb8434-f7ec-414e-d6dc-8e73e5edc0a0"
      },
      "source": [
        "predicted_df.head(100)"
      ],
      "execution_count": 24,
      "outputs": [
        {
          "output_type": "execute_result",
          "data": {
            "text/html": [
              "<div>\n",
              "<style scoped>\n",
              "    .dataframe tbody tr th:only-of-type {\n",
              "        vertical-align: middle;\n",
              "    }\n",
              "\n",
              "    .dataframe tbody tr th {\n",
              "        vertical-align: top;\n",
              "    }\n",
              "\n",
              "    .dataframe thead th {\n",
              "        text-align: right;\n",
              "    }\n",
              "</style>\n",
              "<table border=\"1\" class=\"dataframe\">\n",
              "  <thead>\n",
              "    <tr style=\"text-align: right;\">\n",
              "      <th></th>\n",
              "      <th>predict</th>\n",
              "      <th>actual</th>\n",
              "    </tr>\n",
              "  </thead>\n",
              "  <tbody>\n",
              "    <tr>\n",
              "      <th>0</th>\n",
              "      <td>pos</td>\n",
              "      <td>pos</td>\n",
              "    </tr>\n",
              "    <tr>\n",
              "      <th>1</th>\n",
              "      <td>pos</td>\n",
              "      <td>pos</td>\n",
              "    </tr>\n",
              "    <tr>\n",
              "      <th>2</th>\n",
              "      <td>pos</td>\n",
              "      <td>pos</td>\n",
              "    </tr>\n",
              "    <tr>\n",
              "      <th>3</th>\n",
              "      <td>pos</td>\n",
              "      <td>pos</td>\n",
              "    </tr>\n",
              "    <tr>\n",
              "      <th>4</th>\n",
              "      <td>neu</td>\n",
              "      <td>neu</td>\n",
              "    </tr>\n",
              "    <tr>\n",
              "      <th>...</th>\n",
              "      <td>...</td>\n",
              "      <td>...</td>\n",
              "    </tr>\n",
              "    <tr>\n",
              "      <th>95</th>\n",
              "      <td>neu</td>\n",
              "      <td>neu</td>\n",
              "    </tr>\n",
              "    <tr>\n",
              "      <th>96</th>\n",
              "      <td>pos</td>\n",
              "      <td>pos</td>\n",
              "    </tr>\n",
              "    <tr>\n",
              "      <th>97</th>\n",
              "      <td>pos</td>\n",
              "      <td>pos</td>\n",
              "    </tr>\n",
              "    <tr>\n",
              "      <th>98</th>\n",
              "      <td>pos</td>\n",
              "      <td>pos</td>\n",
              "    </tr>\n",
              "    <tr>\n",
              "      <th>99</th>\n",
              "      <td>pos</td>\n",
              "      <td>pos</td>\n",
              "    </tr>\n",
              "  </tbody>\n",
              "</table>\n",
              "<p>100 rows × 2 columns</p>\n",
              "</div>"
            ],
            "text/plain": [
              "   predict actual\n",
              "0      pos    pos\n",
              "1      pos    pos\n",
              "2      pos    pos\n",
              "3      pos    pos\n",
              "4      neu    neu\n",
              "..     ...    ...\n",
              "95     neu    neu\n",
              "96     pos    pos\n",
              "97     pos    pos\n",
              "98     pos    pos\n",
              "99     pos    pos\n",
              "\n",
              "[100 rows x 2 columns]"
            ]
          },
          "metadata": {
            "tags": []
          },
          "execution_count": 24
        }
      ]
    },
    {
      "cell_type": "markdown",
      "metadata": {
        "id": "B3EIYPBnbMg2"
      },
      "source": [
        "2"
      ]
    },
    {
      "cell_type": "code",
      "metadata": {
        "id": "jOqCalqFQpZc"
      },
      "source": [
        "from sklearn.metrics import classification_report\n",
        "# y_unique = y_test.unique()\n",
        "# mcm = multilabel_confusion_matrix(y_test, y_pred, labels = y_unique)"
      ],
      "execution_count": 25,
      "outputs": []
    },
    {
      "cell_type": "code",
      "metadata": {
        "id": "oA94dayeQpZd",
        "colab": {
          "base_uri": "https://localhost:8080/"
        },
        "outputId": "c71a7c15-9ad5-4ce3-b0ad-2f8082c991e4"
      },
      "source": [
        "from sklearn.metrics import classification_report\n",
        "\n",
        "print('SVM results')\n",
        "#target_names = [' class 0(pos)','class 1(neutral)','class 2(neg)']\n",
        "print(classification_report(y_test, y_pred,  labels=[\"pos\", \"neu\", \"neg\"]))\n",
        "\n",
        "# Accuracy = (TP + TN) / (TP + TN + FP + FN)\n",
        "# Precision = (TP) / (TP + FP)\n",
        "# Recall = (TP) / (TP + FN)\n",
        "# F1 Score = (2 * Precision * Recall) / (Precision + Recall)"
      ],
      "execution_count": 26,
      "outputs": [
        {
          "output_type": "stream",
          "text": [
            "SVM results\n",
            "              precision    recall  f1-score   support\n",
            "\n",
            "         pos       0.93      0.97      0.95     13425\n",
            "         neu       0.76      0.71      0.74      3580\n",
            "         neg       0.65      0.26      0.37       592\n",
            "\n",
            "    accuracy                           0.89     17597\n",
            "   macro avg       0.78      0.65      0.68     17597\n",
            "weighted avg       0.88      0.89      0.88     17597\n",
            "\n"
          ],
          "name": "stdout"
        }
      ]
    },
    {
      "cell_type": "code",
      "metadata": {
        "id": "8_Mn1JZfQpZf",
        "colab": {
          "base_uri": "https://localhost:8080/"
        },
        "outputId": "b6e18c33-90b4-47de-efe0-8313874f864b"
      },
      "source": [
        "# Confusion matrix to see the number of true positive, true negative, false positive and false negative\n",
        "from sklearn.metrics import multilabel_confusion_matrix\n",
        "multilabel_confusion_matrix(y_test, y_pred, labels=[\"pos\", \"neu\", \"neg\"])\n"
      ],
      "execution_count": 27,
      "outputs": [
        {
          "output_type": "execute_result",
          "data": {
            "text/plain": [
              "array([[[ 3172,  1000],\n",
              "        [  439, 12986]],\n",
              "\n",
              "       [[13199,   818],\n",
              "        [ 1023,  2557]],\n",
              "\n",
              "       [[16923,    82],\n",
              "        [  438,   154]]])"
            ]
          },
          "metadata": {
            "tags": []
          },
          "execution_count": 27
        }
      ]
    },
    {
      "cell_type": "code",
      "metadata": {
        "id": "LLJ1T8zGQpZg"
      },
      "source": [
        "import pickle\n",
        "filename = \"/content/serialize_sentiment_model.pkl\"  \n",
        "\n",
        "with open(filename, 'wb') as file:  \n",
        "    pickle.dump(tfidf_lr_pipe, file)"
      ],
      "execution_count": 28,
      "outputs": []
    }
  ]
}