{
  "nbformat": 4,
  "nbformat_minor": 0,
  "metadata": {
    "colab": {
      "name": "9.0 Breaking reveiws into features tobe labeled",
      "provenance": [],
      "collapsed_sections": []
    },
    "kernelspec": {
      "display_name": "Python 3",
      "language": "python",
      "name": "python3"
    },
    "language_info": {
      "codemirror_mode": {
        "name": "ipython",
        "version": 3
      },
      "file_extension": ".py",
      "mimetype": "text/x-python",
      "name": "python",
      "nbconvert_exporter": "python",
      "pygments_lexer": "ipython3",
      "version": "3.8.3"
    }
  },
  "cells": [
    {
      "cell_type": "code",
      "metadata": {
        "id": "vla7PWySdAU7"
      },
      "source": [
        "import numpy as np\n",
        "import pandas as pd\n",
        "import nltk\n",
        "nltk.download('punkt')\n",
        "nltk.download('vader_lexicon')"
      ],
      "execution_count": null,
      "outputs": []
    },
    {
      "cell_type": "code",
      "metadata": {
        "id": "2pp330IgzX-r"
      },
      "source": [
        "from nltk.tokenize import word_tokenize, sent_tokenize\n",
        "df = pd.read_csv('/content/Reviews only (Sentiment) only 20.csv')\n",
        "df.head()"
      ],
      "execution_count": null,
      "outputs": []
    },
    {
      "cell_type": "markdown",
      "metadata": {
        "id": "ZPmbQnqfU2LA"
      },
      "source": [
        "Break Reviews in to features"
      ]
    },
    {
      "cell_type": "code",
      "metadata": {
        "id": "O6W72DHLzZgq"
      },
      "source": [
        "Audio_quality = [\"sound\",\"quality\"]\n",
        "\n",
        "for index, row in df.iterrows():\n",
        "  sentences_with_Audio_quality = []\n",
        "  for sen in sent_tokenize(row['reviewText']):\n",
        "      l = word_tokenize(sen)\n",
        "      if len(set(l).intersection(Audio_quality))>0:\n",
        "          sentences_with_Audio_quality.append(sen)\n",
        "print(sentences_with_Audio_quality)"
      ],
      "execution_count": null,
      "outputs": []
    },
    {
      "cell_type": "code",
      "metadata": {
        "id": "YzXJhL8m75E_"
      },
      "source": [
        "Service_quality = [\"build\"]\n",
        "\n",
        "sentences_with_Service_quality = []\n",
        "for index, row in df.iterrows():\n",
        "  for sen in sent_tokenize(row['reviewText']):\n",
        "      l = word_tokenize(sen)\n",
        "      if len(set(l).intersection(Service_quality))>0:\n",
        "          sentences_with_Service_quality.append(sen)\n",
        "\n",
        "print(sentences_with_Service_quality)"
      ],
      "execution_count": null,
      "outputs": []
    },
    {
      "cell_type": "code",
      "metadata": {
        "id": "IQ8NmUFw2WpP"
      },
      "source": [
        "Battery_quality = [\"long lasting\",\"battery\"]\n",
        "\n",
        "sentences_with_Battery_quality = []\n",
        "for index, row in df.iterrows():\n",
        "  for sen in sent_tokenize(row['reviewText']):\n",
        "      l = word_tokenize(sen)\n",
        "      if len(set(l).intersection(Battery_quality))>0:\n",
        "          sentences_with_Battery_quality.append(sen)\n",
        "\n",
        "print(sentences_with_Battery_quality)"
      ],
      "execution_count": null,
      "outputs": []
    },
    {
      "cell_type": "markdown",
      "metadata": {
        "id": "kGfcdRrc0F6U"
      },
      "source": [
        "add sentiment labels \n",
        "\n",
        "> Valence Aware Dictionary for Sentiment Reasoning (VADER) is a model used for text \n",
        "\n",
        "> sentiment analysis its sensitve for both polarity"
      ]
    },
    {
      "cell_type": "code",
      "metadata": {
        "id": "mD9EVg0KdAU-"
      },
      "source": [
        "# importing Sentiment Intensity Analyzer\n",
        "from nltk.sentiment.vader import SentimentIntensityAnalyzer\n",
        "\n",
        "#SentimentIntensityAnalyzer() returns dictanry Scores of negative, positive, netural, compound\n",
        "sid = SentimentIntensityAnalyzer()"
      ],
      "execution_count": null,
      "outputs": []
    },
    {
      "cell_type": "code",
      "metadata": {
        "id": "4oQKrEqsdAVA",
        "scrolled": true
      },
      "source": [
        "list_of_tuples = list(zip(sentences_with_Audio_quality)) \n",
        "df_audio = pd.DataFrame(list_of_tuples,columns = ['audio_sen'])\n",
        "df_audio.head()\n",
        "\n",
        "df_audio['scores'] = df_audio['audio_sen'].apply(lambda audio_sen: sid.polarity_scores(str(audio_sen)))\n",
        "df_audio.head()"
      ],
      "execution_count": null,
      "outputs": []
    },
    {
      "cell_type": "code",
      "metadata": {
        "id": "917r9WmbdAVA"
      },
      "source": [
        "df_audio['compound']  = df_audio['scores'].apply(lambda score_dict: score_dict['compound'])\n",
        "\n",
        "df_audio['comp_score_label'] = df_audio['compound'].apply(lambda c: 'pos' if c >=0 else 'neg')\n",
        "\n",
        "df_audio.head()"
      ],
      "execution_count": null,
      "outputs": []
    }
  ]
}