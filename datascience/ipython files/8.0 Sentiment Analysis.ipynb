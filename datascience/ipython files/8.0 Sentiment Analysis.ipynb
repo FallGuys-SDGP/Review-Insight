{
 "cells": [
  {
   "cell_type": "code",
   "execution_count": 1,
   "metadata": {},
   "outputs": [],
   "source": [
    "# Sentiment anlaysis \n",
    "# Valence Aware Dictionary for Sentiment Reasoning (VADER) is a model used for text \n",
    "# sentiment analysis its sensitve for both polarity"
   ]
  },
  {
   "cell_type": "code",
   "execution_count": 2,
   "metadata": {},
   "outputs": [
    {
     "name": "stderr",
     "output_type": "stream",
     "text": [
      "[nltk_data] Downloading package vader_lexicon to\n",
      "[nltk_data]     /home/joker/nltk_data...\n",
      "[nltk_data]   Package vader_lexicon is already up-to-date!\n"
     ]
    },
    {
     "data": {
      "text/plain": [
       "True"
      ]
     },
     "execution_count": 2,
     "metadata": {},
     "output_type": "execute_result"
    }
   ],
   "source": [
    "import numpy as np\n",
    "import pandas as pd\n",
    "import nltk\n",
    "nltk.download('vader_lexicon')"
   ]
  },
  {
   "cell_type": "code",
   "execution_count": 3,
   "metadata": {},
   "outputs": [],
   "source": [
    "# importing Sentiment Intensity Analyzer\n",
    "from nltk.sentiment.vader import SentimentIntensityAnalyzer\n",
    "\n",
    "#SentimentIntensityAnalyzer() returns dictanry Scores of negative, positive, netural, compound\n",
    "sid = SentimentIntensityAnalyzer()"
   ]
  },
  {
   "cell_type": "code",
   "execution_count": 5,
   "metadata": {},
   "outputs": [
    {
     "data": {
      "text/html": [
       "<div>\n",
       "<style scoped>\n",
       "    .dataframe tbody tr th:only-of-type {\n",
       "        vertical-align: middle;\n",
       "    }\n",
       "\n",
       "    .dataframe tbody tr th {\n",
       "        vertical-align: top;\n",
       "    }\n",
       "\n",
       "    .dataframe thead th {\n",
       "        text-align: right;\n",
       "    }\n",
       "</style>\n",
       "<table border=\"1\" class=\"dataframe\">\n",
       "  <thead>\n",
       "    <tr style=\"text-align: right;\">\n",
       "      <th></th>\n",
       "      <th>reviewText</th>\n",
       "    </tr>\n",
       "  </thead>\n",
       "  <tbody>\n",
       "    <tr>\n",
       "      <th>0</th>\n",
       "      <td>I've been using these for over a year now.  Ba...</td>\n",
       "    </tr>\n",
       "    <tr>\n",
       "      <th>1</th>\n",
       "      <td>I have owned these for over two years and wore...</td>\n",
       "    </tr>\n",
       "    <tr>\n",
       "      <th>2</th>\n",
       "      <td>I bought these thinking they were the ticket t...</td>\n",
       "    </tr>\n",
       "    <tr>\n",
       "      <th>3</th>\n",
       "      <td>I've owned these for years. I used to fly two ...</td>\n",
       "    </tr>\n",
       "    <tr>\n",
       "      <th>4</th>\n",
       "      <td>I love these headphones!! I got these in Narit...</td>\n",
       "    </tr>\n",
       "  </tbody>\n",
       "</table>\n",
       "</div>"
      ],
      "text/plain": [
       "                                          reviewText\n",
       "0  I've been using these for over a year now.  Ba...\n",
       "1  I have owned these for over two years and wore...\n",
       "2  I bought these thinking they were the ticket t...\n",
       "3  I've owned these for years. I used to fly two ...\n",
       "4  I love these headphones!! I got these in Narit..."
      ]
     },
     "execution_count": 5,
     "metadata": {},
     "output_type": "execute_result"
    }
   ],
   "source": [
    "df = pd.read_csv('../dataset/Reviews only (Sentiment).csv',encoding='utf-8')\n",
    "df.head()"
   ]
  },
  {
   "cell_type": "code",
   "execution_count": 6,
   "metadata": {
    "scrolled": true
   },
   "outputs": [
    {
     "data": {
      "text/html": [
       "<div>\n",
       "<style scoped>\n",
       "    .dataframe tbody tr th:only-of-type {\n",
       "        vertical-align: middle;\n",
       "    }\n",
       "\n",
       "    .dataframe tbody tr th {\n",
       "        vertical-align: top;\n",
       "    }\n",
       "\n",
       "    .dataframe thead th {\n",
       "        text-align: right;\n",
       "    }\n",
       "</style>\n",
       "<table border=\"1\" class=\"dataframe\">\n",
       "  <thead>\n",
       "    <tr style=\"text-align: right;\">\n",
       "      <th></th>\n",
       "      <th>reviewText</th>\n",
       "      <th>scores</th>\n",
       "    </tr>\n",
       "  </thead>\n",
       "  <tbody>\n",
       "    <tr>\n",
       "      <th>0</th>\n",
       "      <td>I've been using these for over a year now.  Ba...</td>\n",
       "      <td>{'neg': 0.093, 'neu': 0.745, 'pos': 0.162, 'co...</td>\n",
       "    </tr>\n",
       "    <tr>\n",
       "      <th>1</th>\n",
       "      <td>I have owned these for over two years and wore...</td>\n",
       "      <td>{'neg': 0.074, 'neu': 0.813, 'pos': 0.112, 'co...</td>\n",
       "    </tr>\n",
       "    <tr>\n",
       "      <th>2</th>\n",
       "      <td>I bought these thinking they were the ticket t...</td>\n",
       "      <td>{'neg': 0.039, 'neu': 0.833, 'pos': 0.128, 'co...</td>\n",
       "    </tr>\n",
       "    <tr>\n",
       "      <th>3</th>\n",
       "      <td>I've owned these for years. I used to fly two ...</td>\n",
       "      <td>{'neg': 0.017, 'neu': 0.82, 'pos': 0.163, 'com...</td>\n",
       "    </tr>\n",
       "    <tr>\n",
       "      <th>4</th>\n",
       "      <td>I love these headphones!! I got these in Narit...</td>\n",
       "      <td>{'neg': 0.104, 'neu': 0.772, 'pos': 0.124, 'co...</td>\n",
       "    </tr>\n",
       "  </tbody>\n",
       "</table>\n",
       "</div>"
      ],
      "text/plain": [
       "                                          reviewText  \\\n",
       "0  I've been using these for over a year now.  Ba...   \n",
       "1  I have owned these for over two years and wore...   \n",
       "2  I bought these thinking they were the ticket t...   \n",
       "3  I've owned these for years. I used to fly two ...   \n",
       "4  I love these headphones!! I got these in Narit...   \n",
       "\n",
       "                                              scores  \n",
       "0  {'neg': 0.093, 'neu': 0.745, 'pos': 0.162, 'co...  \n",
       "1  {'neg': 0.074, 'neu': 0.813, 'pos': 0.112, 'co...  \n",
       "2  {'neg': 0.039, 'neu': 0.833, 'pos': 0.128, 'co...  \n",
       "3  {'neg': 0.017, 'neu': 0.82, 'pos': 0.163, 'com...  \n",
       "4  {'neg': 0.104, 'neu': 0.772, 'pos': 0.124, 'co...  "
      ]
     },
     "execution_count": 6,
     "metadata": {},
     "output_type": "execute_result"
    }
   ],
   "source": [
    "df['scores'] = df['reviewText'].apply(lambda reviewText: sid.polarity_scores(str(reviewText)))\n",
    "df.head()"
   ]
  },
  {
   "cell_type": "code",
   "execution_count": 7,
   "metadata": {},
   "outputs": [
    {
     "data": {
      "text/html": [
       "<div>\n",
       "<style scoped>\n",
       "    .dataframe tbody tr th:only-of-type {\n",
       "        vertical-align: middle;\n",
       "    }\n",
       "\n",
       "    .dataframe tbody tr th {\n",
       "        vertical-align: top;\n",
       "    }\n",
       "\n",
       "    .dataframe thead th {\n",
       "        text-align: right;\n",
       "    }\n",
       "</style>\n",
       "<table border=\"1\" class=\"dataframe\">\n",
       "  <thead>\n",
       "    <tr style=\"text-align: right;\">\n",
       "      <th></th>\n",
       "      <th>reviewText</th>\n",
       "      <th>scores</th>\n",
       "      <th>compound</th>\n",
       "      <th>comp_score_label</th>\n",
       "    </tr>\n",
       "  </thead>\n",
       "  <tbody>\n",
       "    <tr>\n",
       "      <th>0</th>\n",
       "      <td>I've been using these for over a year now.  Ba...</td>\n",
       "      <td>{'neg': 0.093, 'neu': 0.745, 'pos': 0.162, 'co...</td>\n",
       "      <td>0.9847</td>\n",
       "      <td>pos</td>\n",
       "    </tr>\n",
       "    <tr>\n",
       "      <th>1</th>\n",
       "      <td>I have owned these for over two years and wore...</td>\n",
       "      <td>{'neg': 0.074, 'neu': 0.813, 'pos': 0.112, 'co...</td>\n",
       "      <td>0.7917</td>\n",
       "      <td>pos</td>\n",
       "    </tr>\n",
       "    <tr>\n",
       "      <th>2</th>\n",
       "      <td>I bought these thinking they were the ticket t...</td>\n",
       "      <td>{'neg': 0.039, 'neu': 0.833, 'pos': 0.128, 'co...</td>\n",
       "      <td>0.8871</td>\n",
       "      <td>pos</td>\n",
       "    </tr>\n",
       "    <tr>\n",
       "      <th>3</th>\n",
       "      <td>I've owned these for years. I used to fly two ...</td>\n",
       "      <td>{'neg': 0.017, 'neu': 0.82, 'pos': 0.163, 'com...</td>\n",
       "      <td>0.9950</td>\n",
       "      <td>pos</td>\n",
       "    </tr>\n",
       "    <tr>\n",
       "      <th>4</th>\n",
       "      <td>I love these headphones!! I got these in Narit...</td>\n",
       "      <td>{'neg': 0.104, 'neu': 0.772, 'pos': 0.124, 'co...</td>\n",
       "      <td>0.9638</td>\n",
       "      <td>pos</td>\n",
       "    </tr>\n",
       "  </tbody>\n",
       "</table>\n",
       "</div>"
      ],
      "text/plain": [
       "                                          reviewText  \\\n",
       "0  I've been using these for over a year now.  Ba...   \n",
       "1  I have owned these for over two years and wore...   \n",
       "2  I bought these thinking they were the ticket t...   \n",
       "3  I've owned these for years. I used to fly two ...   \n",
       "4  I love these headphones!! I got these in Narit...   \n",
       "\n",
       "                                              scores  compound  \\\n",
       "0  {'neg': 0.093, 'neu': 0.745, 'pos': 0.162, 'co...    0.9847   \n",
       "1  {'neg': 0.074, 'neu': 0.813, 'pos': 0.112, 'co...    0.7917   \n",
       "2  {'neg': 0.039, 'neu': 0.833, 'pos': 0.128, 'co...    0.8871   \n",
       "3  {'neg': 0.017, 'neu': 0.82, 'pos': 0.163, 'com...    0.9950   \n",
       "4  {'neg': 0.104, 'neu': 0.772, 'pos': 0.124, 'co...    0.9638   \n",
       "\n",
       "  comp_score_label  \n",
       "0              pos  \n",
       "1              pos  \n",
       "2              pos  \n",
       "3              pos  \n",
       "4              pos  "
      ]
     },
     "execution_count": 7,
     "metadata": {},
     "output_type": "execute_result"
    }
   ],
   "source": [
    "df['compound']  = df['scores'].apply(lambda score_dict: score_dict['compound'])\n",
    "\n",
    "df['comp_score_label'] = df['compound'].apply(lambda c: 'pos' if c >=0 else 'neg')\n",
    "\n",
    "df.head()"
   ]
  }
 ],
 "metadata": {
  "kernelspec": {
   "display_name": "Python 3",
   "language": "python",
   "name": "python3"
  },
  "language_info": {
   "codemirror_mode": {
    "name": "ipython",
    "version": 3
   },
   "file_extension": ".py",
   "mimetype": "text/x-python",
   "name": "python",
   "nbconvert_exporter": "python",
   "pygments_lexer": "ipython3",
   "version": "3.8.3"
  }
 },
 "nbformat": 4,
 "nbformat_minor": 4
}
