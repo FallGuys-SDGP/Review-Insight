{
 "cells": [
  {
   "cell_type": "code",
   "execution_count": 11,
   "metadata": {},
   "outputs": [
    {
     "data": {
      "text/html": [
       "<div>\n",
       "<style scoped>\n",
       "    .dataframe tbody tr th:only-of-type {\n",
       "        vertical-align: middle;\n",
       "    }\n",
       "\n",
       "    .dataframe tbody tr th {\n",
       "        vertical-align: top;\n",
       "    }\n",
       "\n",
       "    .dataframe thead th {\n",
       "        text-align: right;\n",
       "    }\n",
       "</style>\n",
       "<table border=\"1\" class=\"dataframe\">\n",
       "  <thead>\n",
       "    <tr style=\"text-align: right;\">\n",
       "      <th></th>\n",
       "      <th>DOC_ID</th>\n",
       "      <th>LABEL</th>\n",
       "      <th>RATING</th>\n",
       "      <th>VERIFIED_PURCHASE</th>\n",
       "      <th>PRODUCT_CATEGORY</th>\n",
       "      <th>PRODUCT_ID</th>\n",
       "      <th>PRODUCT_TITLE</th>\n",
       "      <th>REVIEW_TITLE</th>\n",
       "      <th>REVIEW_TEXT</th>\n",
       "    </tr>\n",
       "  </thead>\n",
       "  <tbody>\n",
       "    <tr>\n",
       "      <th>0</th>\n",
       "      <td>1</td>\n",
       "      <td>__label1__</td>\n",
       "      <td>4</td>\n",
       "      <td>N</td>\n",
       "      <td>PC</td>\n",
       "      <td>B00008NG7N</td>\n",
       "      <td>Targus PAUK10U Ultra Mini USB Keypad, Black</td>\n",
       "      <td>useful</td>\n",
       "      <td>When least you think so, this product will sav...</td>\n",
       "    </tr>\n",
       "    <tr>\n",
       "      <th>1</th>\n",
       "      <td>2</td>\n",
       "      <td>__label1__</td>\n",
       "      <td>4</td>\n",
       "      <td>Y</td>\n",
       "      <td>Wireless</td>\n",
       "      <td>B00LH0Y3NM</td>\n",
       "      <td>Note 3 Battery : Stalion Strength Replacement ...</td>\n",
       "      <td>New era for batteries</td>\n",
       "      <td>Lithium batteries are something new introduced...</td>\n",
       "    </tr>\n",
       "    <tr>\n",
       "      <th>2</th>\n",
       "      <td>3</td>\n",
       "      <td>__label1__</td>\n",
       "      <td>3</td>\n",
       "      <td>N</td>\n",
       "      <td>Baby</td>\n",
       "      <td>B000I5UZ1Q</td>\n",
       "      <td>Fisher-Price Papasan Cradle Swing, Starlight</td>\n",
       "      <td>doesn't swing very well.</td>\n",
       "      <td>I purchased this swing for my baby. She is 6 m...</td>\n",
       "    </tr>\n",
       "    <tr>\n",
       "      <th>3</th>\n",
       "      <td>4</td>\n",
       "      <td>__label1__</td>\n",
       "      <td>4</td>\n",
       "      <td>N</td>\n",
       "      <td>Office Products</td>\n",
       "      <td>B003822IRA</td>\n",
       "      <td>Casio MS-80B Standard Function Desktop Calculator</td>\n",
       "      <td>Great computing!</td>\n",
       "      <td>I was looking for an inexpensive desk calcolat...</td>\n",
       "    </tr>\n",
       "    <tr>\n",
       "      <th>4</th>\n",
       "      <td>5</td>\n",
       "      <td>__label1__</td>\n",
       "      <td>4</td>\n",
       "      <td>N</td>\n",
       "      <td>Beauty</td>\n",
       "      <td>B00PWSAXAM</td>\n",
       "      <td>Shine Whitening - Zero Peroxide Teeth Whitenin...</td>\n",
       "      <td>Only use twice a week</td>\n",
       "      <td>I only use it twice a week and the results are...</td>\n",
       "    </tr>\n",
       "    <tr>\n",
       "      <th>...</th>\n",
       "      <td>...</td>\n",
       "      <td>...</td>\n",
       "      <td>...</td>\n",
       "      <td>...</td>\n",
       "      <td>...</td>\n",
       "      <td>...</td>\n",
       "      <td>...</td>\n",
       "      <td>...</td>\n",
       "      <td>...</td>\n",
       "    </tr>\n",
       "    <tr>\n",
       "      <th>20995</th>\n",
       "      <td>20996</td>\n",
       "      <td>__label2__</td>\n",
       "      <td>4</td>\n",
       "      <td>Y</td>\n",
       "      <td>Shoes</td>\n",
       "      <td>B00BXYM8T8</td>\n",
       "      <td>Madden Girl Women's Gettaw Pump,Red Patent,7.5...</td>\n",
       "      <td>wide width is great!</td>\n",
       "      <td>I bought these for work.  I have high arches, ...</td>\n",
       "    </tr>\n",
       "    <tr>\n",
       "      <th>20996</th>\n",
       "      <td>20997</td>\n",
       "      <td>__label2__</td>\n",
       "      <td>4</td>\n",
       "      <td>Y</td>\n",
       "      <td>Shoes</td>\n",
       "      <td>B0014C2ORK</td>\n",
       "      <td>crocs Unisex Classic Clog,Khaki,6 US Men's / 8...</td>\n",
       "      <td>Love crocs!</td>\n",
       "      <td>Crocs are one of only two brands of shoes that...</td>\n",
       "    </tr>\n",
       "    <tr>\n",
       "      <th>20997</th>\n",
       "      <td>20998</td>\n",
       "      <td>__label2__</td>\n",
       "      <td>5</td>\n",
       "      <td>Y</td>\n",
       "      <td>Shoes</td>\n",
       "      <td>B000EX8CCQ</td>\n",
       "      <td>Minnetonka Men's 703 Leather Laced Softsole Mo...</td>\n",
       "      <td>I love moccasins This fit like it was custom m...</td>\n",
       "      <td>I love moccasins  This fit like it was custom ...</td>\n",
       "    </tr>\n",
       "    <tr>\n",
       "      <th>20998</th>\n",
       "      <td>20999</td>\n",
       "      <td>__label2__</td>\n",
       "      <td>5</td>\n",
       "      <td>Y</td>\n",
       "      <td>Shoes</td>\n",
       "      <td>B00748YHVE</td>\n",
       "      <td>Ariat Womens Unbridled Fatbaby 9 B Powder Brown</td>\n",
       "      <td>This fit well, comfortable, best investment</td>\n",
       "      <td>I wish these were a little more durable. I got...</td>\n",
       "    </tr>\n",
       "    <tr>\n",
       "      <th>20999</th>\n",
       "      <td>21000</td>\n",
       "      <td>__label2__</td>\n",
       "      <td>4</td>\n",
       "      <td>Y</td>\n",
       "      <td>Shoes</td>\n",
       "      <td>B00A46KTLU</td>\n",
       "      <td>VIBRAM FIVEFINGERS SPEED XC MENS HIKING SHOES,...</td>\n",
       "      <td>Love these shoes, except for the laces</td>\n",
       "      <td>I've been looking for a replacement for my bel...</td>\n",
       "    </tr>\n",
       "  </tbody>\n",
       "</table>\n",
       "<p>21000 rows × 9 columns</p>\n",
       "</div>"
      ],
      "text/plain": [
       "       DOC_ID       LABEL  RATING VERIFIED_PURCHASE PRODUCT_CATEGORY  \\\n",
       "0           1  __label1__       4                 N               PC   \n",
       "1           2  __label1__       4                 Y         Wireless   \n",
       "2           3  __label1__       3                 N             Baby   \n",
       "3           4  __label1__       4                 N  Office Products   \n",
       "4           5  __label1__       4                 N           Beauty   \n",
       "...       ...         ...     ...               ...              ...   \n",
       "20995   20996  __label2__       4                 Y            Shoes   \n",
       "20996   20997  __label2__       4                 Y            Shoes   \n",
       "20997   20998  __label2__       5                 Y            Shoes   \n",
       "20998   20999  __label2__       5                 Y            Shoes   \n",
       "20999   21000  __label2__       4                 Y            Shoes   \n",
       "\n",
       "       PRODUCT_ID                                      PRODUCT_TITLE  \\\n",
       "0      B00008NG7N        Targus PAUK10U Ultra Mini USB Keypad, Black   \n",
       "1      B00LH0Y3NM  Note 3 Battery : Stalion Strength Replacement ...   \n",
       "2      B000I5UZ1Q       Fisher-Price Papasan Cradle Swing, Starlight   \n",
       "3      B003822IRA  Casio MS-80B Standard Function Desktop Calculator   \n",
       "4      B00PWSAXAM  Shine Whitening - Zero Peroxide Teeth Whitenin...   \n",
       "...           ...                                                ...   \n",
       "20995  B00BXYM8T8  Madden Girl Women's Gettaw Pump,Red Patent,7.5...   \n",
       "20996  B0014C2ORK  crocs Unisex Classic Clog,Khaki,6 US Men's / 8...   \n",
       "20997  B000EX8CCQ  Minnetonka Men's 703 Leather Laced Softsole Mo...   \n",
       "20998  B00748YHVE    Ariat Womens Unbridled Fatbaby 9 B Powder Brown   \n",
       "20999  B00A46KTLU  VIBRAM FIVEFINGERS SPEED XC MENS HIKING SHOES,...   \n",
       "\n",
       "                                            REVIEW_TITLE  \\\n",
       "0                                                 useful   \n",
       "1                                  New era for batteries   \n",
       "2                               doesn't swing very well.   \n",
       "3                                       Great computing!   \n",
       "4                                  Only use twice a week   \n",
       "...                                                  ...   \n",
       "20995                               wide width is great!   \n",
       "20996                                        Love crocs!   \n",
       "20997  I love moccasins This fit like it was custom m...   \n",
       "20998        This fit well, comfortable, best investment   \n",
       "20999             Love these shoes, except for the laces   \n",
       "\n",
       "                                             REVIEW_TEXT  \n",
       "0      When least you think so, this product will sav...  \n",
       "1      Lithium batteries are something new introduced...  \n",
       "2      I purchased this swing for my baby. She is 6 m...  \n",
       "3      I was looking for an inexpensive desk calcolat...  \n",
       "4      I only use it twice a week and the results are...  \n",
       "...                                                  ...  \n",
       "20995  I bought these for work.  I have high arches, ...  \n",
       "20996  Crocs are one of only two brands of shoes that...  \n",
       "20997  I love moccasins  This fit like it was custom ...  \n",
       "20998  I wish these were a little more durable. I got...  \n",
       "20999  I've been looking for a replacement for my bel...  \n",
       "\n",
       "[21000 rows x 9 columns]"
      ]
     },
     "execution_count": 11,
     "metadata": {},
     "output_type": "execute_result"
    }
   ],
   "source": [
    "import pandas as pd\n",
    "\n",
    "# Loading the labelled dataset\n",
    "filePath = 'dataset/amazon_reviews.txt'\n",
    "df = pd.read_csv(filePath, delimiter='\\t')\n",
    "df"
   ]
  },
  {
   "cell_type": "code",
   "execution_count": 12,
   "metadata": {},
   "outputs": [
    {
     "data": {
      "text/html": [
       "<div>\n",
       "<style scoped>\n",
       "    .dataframe tbody tr th:only-of-type {\n",
       "        vertical-align: middle;\n",
       "    }\n",
       "\n",
       "    .dataframe tbody tr th {\n",
       "        vertical-align: top;\n",
       "    }\n",
       "\n",
       "    .dataframe thead th {\n",
       "        text-align: right;\n",
       "    }\n",
       "</style>\n",
       "<table border=\"1\" class=\"dataframe\">\n",
       "  <thead>\n",
       "    <tr style=\"text-align: right;\">\n",
       "      <th></th>\n",
       "      <th>LABEL</th>\n",
       "      <th>REVIEW_TEXT</th>\n",
       "    </tr>\n",
       "  </thead>\n",
       "  <tbody>\n",
       "    <tr>\n",
       "      <th>0</th>\n",
       "      <td>__label1__</td>\n",
       "      <td>When least you think so, this product will sav...</td>\n",
       "    </tr>\n",
       "    <tr>\n",
       "      <th>1</th>\n",
       "      <td>__label1__</td>\n",
       "      <td>Lithium batteries are something new introduced...</td>\n",
       "    </tr>\n",
       "    <tr>\n",
       "      <th>2</th>\n",
       "      <td>__label1__</td>\n",
       "      <td>I purchased this swing for my baby. She is 6 m...</td>\n",
       "    </tr>\n",
       "    <tr>\n",
       "      <th>3</th>\n",
       "      <td>__label1__</td>\n",
       "      <td>I was looking for an inexpensive desk calcolat...</td>\n",
       "    </tr>\n",
       "    <tr>\n",
       "      <th>4</th>\n",
       "      <td>__label1__</td>\n",
       "      <td>I only use it twice a week and the results are...</td>\n",
       "    </tr>\n",
       "    <tr>\n",
       "      <th>...</th>\n",
       "      <td>...</td>\n",
       "      <td>...</td>\n",
       "    </tr>\n",
       "    <tr>\n",
       "      <th>20995</th>\n",
       "      <td>__label2__</td>\n",
       "      <td>I bought these for work.  I have high arches, ...</td>\n",
       "    </tr>\n",
       "    <tr>\n",
       "      <th>20996</th>\n",
       "      <td>__label2__</td>\n",
       "      <td>Crocs are one of only two brands of shoes that...</td>\n",
       "    </tr>\n",
       "    <tr>\n",
       "      <th>20997</th>\n",
       "      <td>__label2__</td>\n",
       "      <td>I love moccasins  This fit like it was custom ...</td>\n",
       "    </tr>\n",
       "    <tr>\n",
       "      <th>20998</th>\n",
       "      <td>__label2__</td>\n",
       "      <td>I wish these were a little more durable. I got...</td>\n",
       "    </tr>\n",
       "    <tr>\n",
       "      <th>20999</th>\n",
       "      <td>__label2__</td>\n",
       "      <td>I've been looking for a replacement for my bel...</td>\n",
       "    </tr>\n",
       "  </tbody>\n",
       "</table>\n",
       "<p>21000 rows × 2 columns</p>\n",
       "</div>"
      ],
      "text/plain": [
       "            LABEL                                        REVIEW_TEXT\n",
       "0      __label1__  When least you think so, this product will sav...\n",
       "1      __label1__  Lithium batteries are something new introduced...\n",
       "2      __label1__  I purchased this swing for my baby. She is 6 m...\n",
       "3      __label1__  I was looking for an inexpensive desk calcolat...\n",
       "4      __label1__  I only use it twice a week and the results are...\n",
       "...           ...                                                ...\n",
       "20995  __label2__  I bought these for work.  I have high arches, ...\n",
       "20996  __label2__  Crocs are one of only two brands of shoes that...\n",
       "20997  __label2__  I love moccasins  This fit like it was custom ...\n",
       "20998  __label2__  I wish these were a little more durable. I got...\n",
       "20999  __label2__  I've been looking for a replacement for my bel...\n",
       "\n",
       "[21000 rows x 2 columns]"
      ]
     },
     "execution_count": 12,
     "metadata": {},
     "output_type": "execute_result"
    }
   ],
   "source": [
    "# Getting only the label and review text and dropping other columns\n",
    "reviewDf = df.drop(['DOC_ID', 'RATING', 'VERIFIED_PURCHASE', 'PRODUCT_CATEGORY', 'PRODUCT_ID', 'PRODUCT_TITLE', 'REVIEW_TITLE'], axis=\"columns\")\n",
    "reviewDf"
   ]
  },
  {
   "cell_type": "code",
   "execution_count": 13,
   "metadata": {},
   "outputs": [],
   "source": [
    "# Splitting the Review_Text column as x and Label column as y\n",
    "x = reviewDf.iloc[:,1].values\n",
    "y = reviewDf.iloc[:,0].values"
   ]
  },
  {
   "cell_type": "code",
   "execution_count": 14,
   "metadata": {},
   "outputs": [
    {
     "data": {
      "text/plain": [
       "'When least you think so, this product will save the day. Just keep it around just in case you need it for something.'"
      ]
     },
     "execution_count": 14,
     "metadata": {},
     "output_type": "execute_result"
    }
   ],
   "source": [
    "x[0]"
   ]
  },
  {
   "cell_type": "code",
   "execution_count": 15,
   "metadata": {},
   "outputs": [
    {
     "data": {
      "text/plain": [
       "'__label1__'"
      ]
     },
     "execution_count": 15,
     "metadata": {},
     "output_type": "execute_result"
    }
   ],
   "source": [
    "y[0]"
   ]
  },
  {
   "cell_type": "code",
   "execution_count": 16,
   "metadata": {},
   "outputs": [],
   "source": [
    "# Converting the reviews to a matrix of token counts (Bag of words model)\n",
    "from sklearn.feature_extraction.text import CountVectorizer\n",
    "cv = CountVectorizer(max_features = 21000)\n",
    "reviewText = cv.fit_transform(x).todense()"
   ]
  },
  {
   "cell_type": "code",
   "execution_count": 17,
   "metadata": {},
   "outputs": [],
   "source": [
    "# Splitting the train and test data (80/20)\n",
    "from sklearn.model_selection import train_test_split\n",
    "x_train, x_test, y_train, y_test = train_test_split(reviewText, y, test_size = 0.2, random_state = 0)"
   ]
  },
  {
   "cell_type": "code",
   "execution_count": 22,
   "metadata": {},
   "outputs": [
    {
     "data": {
      "text/plain": [
       "LinearSVC(max_iter=10000)"
      ]
     },
     "execution_count": 22,
     "metadata": {},
     "output_type": "execute_result"
    }
   ],
   "source": [
    "# Using SVM classifier on the train set\n",
    "from sklearn.svm import LinearSVC\n",
    "classifer = LinearSVC(max_iter=10000)\n",
    "classifer.fit(x_train, y_train)"
   ]
  },
  {
   "cell_type": "code",
   "execution_count": 23,
   "metadata": {},
   "outputs": [],
   "source": [
    "# Predicting test results\n",
    "y_pred = classifer.predict(x_test)"
   ]
  },
  {
   "cell_type": "code",
   "execution_count": 24,
   "metadata": {},
   "outputs": [
    {
     "data": {
      "text/plain": [
       "array([[1334,  764],\n",
       "       [ 837, 1265]], dtype=int64)"
      ]
     },
     "execution_count": 24,
     "metadata": {},
     "output_type": "execute_result"
    }
   ],
   "source": [
    "# Confusion matrix to see the number of true positive, true negative, false positive and false negative\n",
    "from sklearn.metrics import confusion_matrix\n",
    "confusion_matrix(y_test, y_pred)"
   ]
  },
  {
   "cell_type": "code",
   "execution_count": 25,
   "metadata": {},
   "outputs": [
    {
     "name": "stdout",
     "output_type": "stream",
     "text": [
      "SVM results\n",
      "Accuracy =  0.62\n",
      "Precision =  0.64\n",
      "Recall =  0.61\n",
      "F1 Score =  0.62\n"
     ]
    }
   ],
   "source": [
    "# Accuracy = (TP + TN) / (TP + TN + FP + FN)\n",
    "# Precision = (TP) / (TP + FP)\n",
    "# Recall = (TP) / (TP + FN)\n",
    "# F1 Score = (2 * Precision * Recall) / (Precision + Recall)\n",
    "\n",
    "accuracy = round((1334 + 1265)/(1334 + 1265 + 764 + 837), 2)\n",
    "precision = round((1334) / (1334 + 764), 2)\n",
    "recall = round((1334) / (1334 + 837), 2)\n",
    "f1 = round((2 * precision * recall) / (precision + recall), 2)\n",
    "\n",
    "print('SVM results')\n",
    "print('Accuracy = ', accuracy)\n",
    "print('Precision = ', precision)\n",
    "print('Recall = ', recall)\n",
    "print('F1 Score = ', f1)"
   ]
  },
  {
   "cell_type": "code",
   "execution_count": 26,
   "metadata": {},
   "outputs": [],
   "source": [
    "import pickle\n",
    "\n",
    "pickleName = \"serialized_model.pkl\"  \n",
    "\n",
    "with open(pickleName, 'wb') as file:  \n",
    "    pickle.dump(classifer, file)"
   ]
  },
  {
   "cell_type": "code",
   "execution_count": null,
   "metadata": {},
   "outputs": [],
   "source": []
  }
 ],
 "metadata": {
  "kernelspec": {
   "display_name": "Python 3",
   "language": "python",
   "name": "python3"
  },
  "language_info": {
   "codemirror_mode": {
    "name": "ipython",
    "version": 3
   },
   "file_extension": ".py",
   "mimetype": "text/x-python",
   "name": "python",
   "nbconvert_exporter": "python",
   "pygments_lexer": "ipython3",
   "version": "3.8.3"
  }
 },
 "nbformat": 4,
 "nbformat_minor": 4
}
