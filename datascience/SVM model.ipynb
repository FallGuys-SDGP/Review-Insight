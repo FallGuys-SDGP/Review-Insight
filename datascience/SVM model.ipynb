{
 "cells": [
  {
   "cell_type": "code",
   "execution_count": 31,
   "metadata": {},
   "outputs": [
    {
     "data": {
      "text/html": [
       "<div>\n",
       "<style scoped>\n",
       "    .dataframe tbody tr th:only-of-type {\n",
       "        vertical-align: middle;\n",
       "    }\n",
       "\n",
       "    .dataframe tbody tr th {\n",
       "        vertical-align: top;\n",
       "    }\n",
       "\n",
       "    .dataframe thead th {\n",
       "        text-align: right;\n",
       "    }\n",
       "</style>\n",
       "<table border=\"1\" class=\"dataframe\">\n",
       "  <thead>\n",
       "    <tr style=\"text-align: right;\">\n",
       "      <th></th>\n",
       "      <th>DOC_ID</th>\n",
       "      <th>LABEL</th>\n",
       "      <th>RATING</th>\n",
       "      <th>VERIFIED_PURCHASE</th>\n",
       "      <th>PRODUCT_CATEGORY</th>\n",
       "      <th>PRODUCT_ID</th>\n",
       "      <th>PRODUCT_TITLE</th>\n",
       "      <th>REVIEW_TITLE</th>\n",
       "      <th>REVIEW_TEXT</th>\n",
       "    </tr>\n",
       "  </thead>\n",
       "  <tbody>\n",
       "    <tr>\n",
       "      <th>0</th>\n",
       "      <td>1</td>\n",
       "      <td>__label1__</td>\n",
       "      <td>4</td>\n",
       "      <td>N</td>\n",
       "      <td>PC</td>\n",
       "      <td>B00008NG7N</td>\n",
       "      <td>Targus PAUK10U Ultra Mini USB Keypad, Black</td>\n",
       "      <td>useful</td>\n",
       "      <td>When least you think so, this product will sav...</td>\n",
       "    </tr>\n",
       "    <tr>\n",
       "      <th>1</th>\n",
       "      <td>2</td>\n",
       "      <td>__label1__</td>\n",
       "      <td>4</td>\n",
       "      <td>Y</td>\n",
       "      <td>Wireless</td>\n",
       "      <td>B00LH0Y3NM</td>\n",
       "      <td>Note 3 Battery : Stalion Strength Replacement ...</td>\n",
       "      <td>New era for batteries</td>\n",
       "      <td>Lithium batteries are something new introduced...</td>\n",
       "    </tr>\n",
       "    <tr>\n",
       "      <th>2</th>\n",
       "      <td>3</td>\n",
       "      <td>__label1__</td>\n",
       "      <td>3</td>\n",
       "      <td>N</td>\n",
       "      <td>Baby</td>\n",
       "      <td>B000I5UZ1Q</td>\n",
       "      <td>Fisher-Price Papasan Cradle Swing, Starlight</td>\n",
       "      <td>doesn't swing very well.</td>\n",
       "      <td>I purchased this swing for my baby. She is 6 m...</td>\n",
       "    </tr>\n",
       "    <tr>\n",
       "      <th>3</th>\n",
       "      <td>4</td>\n",
       "      <td>__label1__</td>\n",
       "      <td>4</td>\n",
       "      <td>N</td>\n",
       "      <td>Office Products</td>\n",
       "      <td>B003822IRA</td>\n",
       "      <td>Casio MS-80B Standard Function Desktop Calculator</td>\n",
       "      <td>Great computing!</td>\n",
       "      <td>I was looking for an inexpensive desk calcolat...</td>\n",
       "    </tr>\n",
       "    <tr>\n",
       "      <th>4</th>\n",
       "      <td>5</td>\n",
       "      <td>__label1__</td>\n",
       "      <td>4</td>\n",
       "      <td>N</td>\n",
       "      <td>Beauty</td>\n",
       "      <td>B00PWSAXAM</td>\n",
       "      <td>Shine Whitening - Zero Peroxide Teeth Whitenin...</td>\n",
       "      <td>Only use twice a week</td>\n",
       "      <td>I only use it twice a week and the results are...</td>\n",
       "    </tr>\n",
       "    <tr>\n",
       "      <th>...</th>\n",
       "      <td>...</td>\n",
       "      <td>...</td>\n",
       "      <td>...</td>\n",
       "      <td>...</td>\n",
       "      <td>...</td>\n",
       "      <td>...</td>\n",
       "      <td>...</td>\n",
       "      <td>...</td>\n",
       "      <td>...</td>\n",
       "    </tr>\n",
       "    <tr>\n",
       "      <th>995</th>\n",
       "      <td>10996</td>\n",
       "      <td>__label2__</td>\n",
       "      <td>4</td>\n",
       "      <td>N</td>\n",
       "      <td>Wireless</td>\n",
       "      <td>B00NM9OC46</td>\n",
       "      <td>Belkin Classic Case / Folio for iPhone 6 / 6S ...</td>\n",
       "      <td>Nice and functional folio case</td>\n",
       "      <td>This is a nice folio type case for the iPhone ...</td>\n",
       "    </tr>\n",
       "    <tr>\n",
       "      <th>996</th>\n",
       "      <td>10997</td>\n",
       "      <td>__label2__</td>\n",
       "      <td>5</td>\n",
       "      <td>Y</td>\n",
       "      <td>Beauty</td>\n",
       "      <td>B00PTLMAR6</td>\n",
       "      <td>Low &amp; Be Bold Cream Nail Polish- 0.5 oz Full S...</td>\n",
       "      <td>looks just like picture</td>\n",
       "      <td>This color looks just like the picture this po...</td>\n",
       "    </tr>\n",
       "    <tr>\n",
       "      <th>997</th>\n",
       "      <td>10998</td>\n",
       "      <td>__label2__</td>\n",
       "      <td>5</td>\n",
       "      <td>Y</td>\n",
       "      <td>Office Products</td>\n",
       "      <td>1604180900</td>\n",
       "      <td>Carson Dellosa Colors Chart (114054)</td>\n",
       "      <td>Great Colors Chart - UNBEATABLE price!!</td>\n",
       "      <td>This is a great colors chart. Really good for ...</td>\n",
       "    </tr>\n",
       "    <tr>\n",
       "      <th>998</th>\n",
       "      <td>10999</td>\n",
       "      <td>__label2__</td>\n",
       "      <td>4</td>\n",
       "      <td>N</td>\n",
       "      <td>Office Products</td>\n",
       "      <td>B001BLVGGY</td>\n",
       "      <td>Scotch® Heat Free Laminating System LS960</td>\n",
       "      <td>Nice Laminator for average usage</td>\n",
       "      <td>The Scotch Heat Free Laminating System does a ...</td>\n",
       "    </tr>\n",
       "    <tr>\n",
       "      <th>999</th>\n",
       "      <td>11000</td>\n",
       "      <td>__label2__</td>\n",
       "      <td>5</td>\n",
       "      <td>Y</td>\n",
       "      <td>PC</td>\n",
       "      <td>B0060KKZB8</td>\n",
       "      <td>AGPtek® 9cell 6600mAh High Capacity Laptop Bat...</td>\n",
       "      <td>Compact power house!</td>\n",
       "      <td>This battery is GREAT. On a full charge, this ...</td>\n",
       "    </tr>\n",
       "  </tbody>\n",
       "</table>\n",
       "<p>1000 rows × 9 columns</p>\n",
       "</div>"
      ],
      "text/plain": [
       "     DOC_ID       LABEL  RATING VERIFIED_PURCHASE PRODUCT_CATEGORY  \\\n",
       "0         1  __label1__       4                 N               PC   \n",
       "1         2  __label1__       4                 Y         Wireless   \n",
       "2         3  __label1__       3                 N             Baby   \n",
       "3         4  __label1__       4                 N  Office Products   \n",
       "4         5  __label1__       4                 N           Beauty   \n",
       "..      ...         ...     ...               ...              ...   \n",
       "995   10996  __label2__       4                 N         Wireless   \n",
       "996   10997  __label2__       5                 Y           Beauty   \n",
       "997   10998  __label2__       5                 Y  Office Products   \n",
       "998   10999  __label2__       4                 N  Office Products   \n",
       "999   11000  __label2__       5                 Y               PC   \n",
       "\n",
       "     PRODUCT_ID                                      PRODUCT_TITLE  \\\n",
       "0    B00008NG7N        Targus PAUK10U Ultra Mini USB Keypad, Black   \n",
       "1    B00LH0Y3NM  Note 3 Battery : Stalion Strength Replacement ...   \n",
       "2    B000I5UZ1Q       Fisher-Price Papasan Cradle Swing, Starlight   \n",
       "3    B003822IRA  Casio MS-80B Standard Function Desktop Calculator   \n",
       "4    B00PWSAXAM  Shine Whitening - Zero Peroxide Teeth Whitenin...   \n",
       "..          ...                                                ...   \n",
       "995  B00NM9OC46  Belkin Classic Case / Folio for iPhone 6 / 6S ...   \n",
       "996  B00PTLMAR6  Low & Be Bold Cream Nail Polish- 0.5 oz Full S...   \n",
       "997  1604180900               Carson Dellosa Colors Chart (114054)   \n",
       "998  B001BLVGGY          Scotch® Heat Free Laminating System LS960   \n",
       "999  B0060KKZB8  AGPtek® 9cell 6600mAh High Capacity Laptop Bat...   \n",
       "\n",
       "                                REVIEW_TITLE  \\\n",
       "0                                     useful   \n",
       "1                      New era for batteries   \n",
       "2                   doesn't swing very well.   \n",
       "3                           Great computing!   \n",
       "4                      Only use twice a week   \n",
       "..                                       ...   \n",
       "995           Nice and functional folio case   \n",
       "996                  looks just like picture   \n",
       "997  Great Colors Chart - UNBEATABLE price!!   \n",
       "998         Nice Laminator for average usage   \n",
       "999                     Compact power house!   \n",
       "\n",
       "                                           REVIEW_TEXT  \n",
       "0    When least you think so, this product will sav...  \n",
       "1    Lithium batteries are something new introduced...  \n",
       "2    I purchased this swing for my baby. She is 6 m...  \n",
       "3    I was looking for an inexpensive desk calcolat...  \n",
       "4    I only use it twice a week and the results are...  \n",
       "..                                                 ...  \n",
       "995  This is a nice folio type case for the iPhone ...  \n",
       "996  This color looks just like the picture this po...  \n",
       "997  This is a great colors chart. Really good for ...  \n",
       "998  The Scotch Heat Free Laminating System does a ...  \n",
       "999  This battery is GREAT. On a full charge, this ...  \n",
       "\n",
       "[1000 rows x 9 columns]"
      ]
     },
     "execution_count": 31,
     "metadata": {},
     "output_type": "execute_result"
    }
   ],
   "source": [
    "import pandas as pd\n",
    "\n",
    "# Loading the labelled dataset\n",
    "filePath = 'dataset/amazon_reviews_1k.txt'\n",
    "df = pd.read_csv(filePath, delimiter='\\t')\n",
    "df"
   ]
  },
  {
   "cell_type": "code",
   "execution_count": 32,
   "metadata": {},
   "outputs": [
    {
     "data": {
      "text/html": [
       "<div>\n",
       "<style scoped>\n",
       "    .dataframe tbody tr th:only-of-type {\n",
       "        vertical-align: middle;\n",
       "    }\n",
       "\n",
       "    .dataframe tbody tr th {\n",
       "        vertical-align: top;\n",
       "    }\n",
       "\n",
       "    .dataframe thead th {\n",
       "        text-align: right;\n",
       "    }\n",
       "</style>\n",
       "<table border=\"1\" class=\"dataframe\">\n",
       "  <thead>\n",
       "    <tr style=\"text-align: right;\">\n",
       "      <th></th>\n",
       "      <th>LABEL</th>\n",
       "      <th>REVIEW_TEXT</th>\n",
       "    </tr>\n",
       "  </thead>\n",
       "  <tbody>\n",
       "    <tr>\n",
       "      <th>0</th>\n",
       "      <td>__label1__</td>\n",
       "      <td>When least you think so, this product will sav...</td>\n",
       "    </tr>\n",
       "    <tr>\n",
       "      <th>1</th>\n",
       "      <td>__label1__</td>\n",
       "      <td>Lithium batteries are something new introduced...</td>\n",
       "    </tr>\n",
       "    <tr>\n",
       "      <th>2</th>\n",
       "      <td>__label1__</td>\n",
       "      <td>I purchased this swing for my baby. She is 6 m...</td>\n",
       "    </tr>\n",
       "    <tr>\n",
       "      <th>3</th>\n",
       "      <td>__label1__</td>\n",
       "      <td>I was looking for an inexpensive desk calcolat...</td>\n",
       "    </tr>\n",
       "    <tr>\n",
       "      <th>4</th>\n",
       "      <td>__label1__</td>\n",
       "      <td>I only use it twice a week and the results are...</td>\n",
       "    </tr>\n",
       "    <tr>\n",
       "      <th>...</th>\n",
       "      <td>...</td>\n",
       "      <td>...</td>\n",
       "    </tr>\n",
       "    <tr>\n",
       "      <th>995</th>\n",
       "      <td>__label2__</td>\n",
       "      <td>This is a nice folio type case for the iPhone ...</td>\n",
       "    </tr>\n",
       "    <tr>\n",
       "      <th>996</th>\n",
       "      <td>__label2__</td>\n",
       "      <td>This color looks just like the picture this po...</td>\n",
       "    </tr>\n",
       "    <tr>\n",
       "      <th>997</th>\n",
       "      <td>__label2__</td>\n",
       "      <td>This is a great colors chart. Really good for ...</td>\n",
       "    </tr>\n",
       "    <tr>\n",
       "      <th>998</th>\n",
       "      <td>__label2__</td>\n",
       "      <td>The Scotch Heat Free Laminating System does a ...</td>\n",
       "    </tr>\n",
       "    <tr>\n",
       "      <th>999</th>\n",
       "      <td>__label2__</td>\n",
       "      <td>This battery is GREAT. On a full charge, this ...</td>\n",
       "    </tr>\n",
       "  </tbody>\n",
       "</table>\n",
       "<p>1000 rows × 2 columns</p>\n",
       "</div>"
      ],
      "text/plain": [
       "          LABEL                                        REVIEW_TEXT\n",
       "0    __label1__  When least you think so, this product will sav...\n",
       "1    __label1__  Lithium batteries are something new introduced...\n",
       "2    __label1__  I purchased this swing for my baby. She is 6 m...\n",
       "3    __label1__  I was looking for an inexpensive desk calcolat...\n",
       "4    __label1__  I only use it twice a week and the results are...\n",
       "..          ...                                                ...\n",
       "995  __label2__  This is a nice folio type case for the iPhone ...\n",
       "996  __label2__  This color looks just like the picture this po...\n",
       "997  __label2__  This is a great colors chart. Really good for ...\n",
       "998  __label2__  The Scotch Heat Free Laminating System does a ...\n",
       "999  __label2__  This battery is GREAT. On a full charge, this ...\n",
       "\n",
       "[1000 rows x 2 columns]"
      ]
     },
     "execution_count": 32,
     "metadata": {},
     "output_type": "execute_result"
    }
   ],
   "source": [
    "# Getting only the label and review text and dropping other columns\n",
    "reviewDf = df.drop(['DOC_ID', 'RATING', 'VERIFIED_PURCHASE', 'PRODUCT_CATEGORY', 'PRODUCT_ID', 'PRODUCT_TITLE', 'REVIEW_TITLE'], axis=\"columns\")\n",
    "reviewDf"
   ]
  },
  {
   "cell_type": "code",
   "execution_count": 33,
   "metadata": {},
   "outputs": [],
   "source": [
    "# Splitting the Review_Text column as x and Label column as y\n",
    "x = reviewDf.iloc[:,1].values\n",
    "y = reviewDf.iloc[:,0].values"
   ]
  },
  {
   "cell_type": "code",
   "execution_count": 34,
   "metadata": {},
   "outputs": [
    {
     "data": {
      "text/plain": [
       "'When least you think so, this product will save the day. Just keep it around just in case you need it for something.'"
      ]
     },
     "execution_count": 34,
     "metadata": {},
     "output_type": "execute_result"
    }
   ],
   "source": [
    "x[0]"
   ]
  },
  {
   "cell_type": "code",
   "execution_count": 35,
   "metadata": {},
   "outputs": [
    {
     "data": {
      "text/plain": [
       "'__label1__'"
      ]
     },
     "execution_count": 35,
     "metadata": {},
     "output_type": "execute_result"
    }
   ],
   "source": [
    "y[0]"
   ]
  },
  {
   "cell_type": "code",
   "execution_count": 36,
   "metadata": {},
   "outputs": [],
   "source": [
    "# Converting the reviews to a matrix of token counts (Bag of words model)\n",
    "from sklearn.feature_extraction.text import CountVectorizer\n",
    "cv = CountVectorizer(max_features = 1000)\n",
    "reviewText = cv.fit_transform(x).todense()"
   ]
  },
  {
   "cell_type": "code",
   "execution_count": 37,
   "metadata": {},
   "outputs": [],
   "source": [
    "# Splitting the train and test data (80/20)\n",
    "from sklearn.model_selection import train_test_split\n",
    "x_train, x_test, y_train, y_test = train_test_split(reviewText, y, test_size = 0.2, random_state = 0)"
   ]
  },
  {
   "cell_type": "code",
   "execution_count": 38,
   "metadata": {},
   "outputs": [
    {
     "data": {
      "text/plain": [
       "LinearSVC()"
      ]
     },
     "execution_count": 38,
     "metadata": {},
     "output_type": "execute_result"
    }
   ],
   "source": [
    "# Using SVM classifier on the train set\n",
    "from sklearn.svm import LinearSVC\n",
    "classifer = LinearSVC()\n",
    "classifer.fit(x_train, y_train)"
   ]
  },
  {
   "cell_type": "code",
   "execution_count": 39,
   "metadata": {},
   "outputs": [],
   "source": [
    "# Predicting test results\n",
    "y_pred = classifer.predict(x_test)"
   ]
  },
  {
   "cell_type": "code",
   "execution_count": 40,
   "metadata": {},
   "outputs": [
    {
     "data": {
      "text/plain": [
       "array([[66, 32],\n",
       "       [34, 68]], dtype=int64)"
      ]
     },
     "execution_count": 40,
     "metadata": {},
     "output_type": "execute_result"
    }
   ],
   "source": [
    "# Confusion matrix to see the number of true positive, true negative, false positive and false negative\n",
    "from sklearn.metrics import confusion_matrix\n",
    "confusion_matrix(y_test, y_pred)"
   ]
  },
  {
   "cell_type": "code",
   "execution_count": 41,
   "metadata": {},
   "outputs": [
    {
     "name": "stdout",
     "output_type": "stream",
     "text": [
      "SVM results\n",
      "Accuracy =  0.67\n",
      "Precision =  0.67\n",
      "Recall =  0.66\n",
      "F1 Score =  0.66\n"
     ]
    }
   ],
   "source": [
    "# Accuracy = (TP + TN) / (TP + TN + FP + FN)\n",
    "# Precision = (TP) / (TP + FP)\n",
    "# Recall = (TP) / (TP + FN)\n",
    "# F1 Score = (2 * Precision * Recall) / (Precision + Recall)\n",
    "\n",
    "accuracy = round((66 + 68)/(66 + 68 + 34 + 32), 2)\n",
    "precision = round((66) / (66 + 32), 2)\n",
    "recall = round((66) / (66 + 34), 2)\n",
    "f1 = round((2 * precision * recall) / (precision + recall), 2)\n",
    "\n",
    "print('SVM results')\n",
    "print('Accuracy = ', accuracy)\n",
    "print('Precision = ', precision)\n",
    "print('Recall = ', recall)\n",
    "print('F1 Score = ', f1)"
   ]
  },
  {
   "cell_type": "code",
   "execution_count": null,
   "metadata": {},
   "outputs": [],
   "source": []
  }
 ],
 "metadata": {
  "kernelspec": {
   "display_name": "Python 3",
   "language": "python",
   "name": "python3"
  },
  "language_info": {
   "codemirror_mode": {
    "name": "ipython",
    "version": 3
   },
   "file_extension": ".py",
   "mimetype": "text/x-python",
   "name": "python",
   "nbconvert_exporter": "python",
   "pygments_lexer": "ipython3",
   "version": "3.8.3"
  }
 },
 "nbformat": 4,
 "nbformat_minor": 4
}
